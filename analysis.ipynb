{
  "nbformat": 4,
  "nbformat_minor": 0,
  "metadata": {
    "colab": {
      "name": "analysis.ipynb",
      "provenance": [],
      "authorship_tag": "ABX9TyNE9CjZo1dZUojwDWtcRimX",
      "include_colab_link": true
    },
    "kernelspec": {
      "name": "python3",
      "display_name": "Python 3"
    },
    "language_info": {
      "name": "python"
    }
  },
  "cells": [
    {
      "cell_type": "markdown",
      "metadata": {
        "id": "view-in-github",
        "colab_type": "text"
      },
      "source": [
        "<a href=\"https://colab.research.google.com/github/francesco-mollica/word2vec-entity_embeddings/blob/main/analysis.ipynb\" target=\"_parent\"><img src=\"https://colab.research.google.com/assets/colab-badge.svg\" alt=\"Open In Colab\"/></a>"
      ]
    },
    {
      "cell_type": "code",
      "metadata": {
        "id": "tNZExDcTWojg"
      },
      "source": [
        "from google.colab import drive\n",
        "drive.mount('/content/drive/', force_remount=True)\n",
        "root_dir = \"/content/drive/MyDrive/\"\n",
        "base_dir = root_dir + \"tesi_magistrale/datasets/corpus_data_folder/\"\n",
        "base_dir_models = root_dir + \"tesi_magistrale/datasets/models_w2v/\""
      ],
      "execution_count": null,
      "outputs": []
    },
    {
      "cell_type": "code",
      "metadata": {
        "id": "_0C92F9BWhoE"
      },
      "source": [
        "model = Word2Vec.load(base_dir_models + \"word2vec_\" + name_dataset + \".model\")"
      ],
      "execution_count": null,
      "outputs": []
    },
    {
      "cell_type": "code",
      "metadata": {
        "id": "TU4f16Z4W0Z5"
      },
      "source": [
        "restricted_list_name = \"balanced_ontonotes\"\n",
        "with open(base_dir + \"restricted_list_\" + restricted_list_name + \".pkl\", 'rb') as f:\n",
        "  restricted_word_list = pickle.load(f)"
      ],
      "execution_count": null,
      "outputs": []
    }
  ]
}