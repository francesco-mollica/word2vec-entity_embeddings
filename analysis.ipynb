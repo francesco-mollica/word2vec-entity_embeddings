{
  "nbformat": 4,
  "nbformat_minor": 0,
  "metadata": {
    "colab": {
      "name": "analysis.ipynb",
      "provenance": [],
      "include_colab_link": true
    },
    "kernelspec": {
      "name": "python3",
      "display_name": "Python 3"
    },
    "language_info": {
      "name": "python"
    }
  },
  "cells": [
    {
      "cell_type": "markdown",
      "metadata": {
        "id": "view-in-github",
        "colab_type": "text"
      },
      "source": [
        "<a href=\"https://colab.research.google.com/github/francesco-mollica/word2vec-entity_embeddings/blob/main/analysis.ipynb\" target=\"_parent\"><img src=\"https://colab.research.google.com/assets/colab-badge.svg\" alt=\"Open In Colab\"/></a>"
      ]
    },
    {
      "cell_type": "code",
      "metadata": {
        "id": "tNZExDcTWojg",
        "colab": {
          "base_uri": "https://localhost:8080/"
        },
        "outputId": "59469a7f-6614-4fa4-ff85-d7786a6df6d3"
      },
      "source": [
        "from google.colab import drive\n",
        "drive.mount('/content/drive/', force_remount=True)\n",
        "root_dir = \"/content/drive/MyDrive/\"\n",
        "base_dir = root_dir + \"tesi_magistrale/datasets/corpus_data_folder/\"\n",
        "base_dir_models = root_dir + \"tesi_magistrale/datasets/models_w2v/\""
      ],
      "execution_count": 1,
      "outputs": [
        {
          "output_type": "stream",
          "text": [
            "Mounted at /content/drive/\n"
          ],
          "name": "stdout"
        }
      ]
    },
    {
      "cell_type": "code",
      "metadata": {
        "id": "_0C92F9BWhoE"
      },
      "source": [
        "from gensim.models import Word2Vec"
      ],
      "execution_count": 2,
      "outputs": []
    },
    {
      "cell_type": "code",
      "metadata": {
        "id": "vk6X4kLevPFq"
      },
      "source": [
        "custom_stopwords=True"
      ],
      "execution_count": 3,
      "outputs": []
    },
    {
      "cell_type": "code",
      "metadata": {
        "id": "li95kTSVoGEq"
      },
      "source": [
        "import json\n",
        "import operator\n",
        "dictionary_names= {1:\"choi\",2:\"balanced_ontonotes\",3:\"ontonotes\"}\n",
        "\n",
        "dictionary_types_counters = {}\n",
        "# loading of types_counters dictionary\n",
        "for key, value in dictionary_names.items():\n",
        "  with open(base_dir + \"types_counters_\" + value + \".json\") as j:\n",
        "    dictionary_types_counters[value] = json.load(j)\n",
        "\n",
        "dictionary_models = {}\n",
        "# loading of normal models\n",
        "if custom_stopwords:\n",
        "  for key, value in dictionary_names.items():\n",
        "   dictionary_models [value]  = Word2Vec.load(base_dir_models + \"word2vec_\" + value + \"_custom.model\")\n",
        "else:\n",
        "  for key, value in dictionary_names.items():\n",
        "    dictionary_models [value]  = Word2Vec.load(base_dir_models + \"word2vec_\" + value + \".model\")\n",
        "    \n",
        "dictionary_restricted_models = {}\n",
        "# loading of restricted models\n",
        "if custom_stopwords:\n",
        "  for key, value in dictionary_names.items():\n",
        "    dictionary_restricted_models [value]  = Word2Vec.load(base_dir_models + \"word2vec_restricted_\" + value + \"_custom.model\")\n",
        "else:\n",
        "  for key, value in dictionary_names.items():\n",
        "    dictionary_restricted_models [value]  = Word2Vec.load(base_dir_models + \"word2vec_restricted_\" + value + \".model\")\n",
        "\n",
        "\n",
        "for key, value in dictionary_types_counters.items():\n",
        "  v = dict(sorted(value.items(), key=operator.itemgetter(1), reverse=True)[:10])\n",
        "  dictionary_types_counters[key] = v\n",
        "\n"
      ],
      "execution_count": 4,
      "outputs": []
    },
    {
      "cell_type": "code",
      "metadata": {
        "colab": {
          "base_uri": "https://localhost:8080/"
        },
        "id": "yAI7iIk50yKH",
        "outputId": "15e89960-bfe6-4617-bd7c-16448db3bb48"
      },
      "source": [
        "print(dictionary_types_counters)"
      ],
      "execution_count": 5,
      "outputs": [
        {
          "output_type": "stream",
          "text": [
            "{'choi': {'/PERSON': 8240, '/ORGANIZATION': 2480, '/ADULT': 1940, '/LEADER': 1810, '/EVENT': 1810, '/MALE': 1670, '/OBJECT': 1600, '/PLACE': 1560, '/GROUP': 1520, '/LOCATION': 1310}, 'balanced_ontonotes': {'/OTHER': 91518, '/PERSON': 89224, '/LOCATION': 60203, '/ORGANIZATION': 43755, '/PERSON/TITLE': 37930, '/PERSON/ARTIST': 35310, '/PERSON/ARTIST/AUTHOR': 28876, '/LOCATION/COUNTRY': 22729, '/ORGANIZATION/COMPANY': 21554, '/PERSON/POLITICAL_FIGURE': 21376}, 'ontonotes': {'/OTHER': 92208, '/PERSON': 89531, '/LOCATION': 60583, '/ORGANIZATION': 44070, '/PERSON/TITLE': 37970, '/PERSON/ARTIST': 35496, '/PERSON/ARTIST/AUTHOR': 28998, '/LOCATION/COUNTRY': 22749, '/ORGANIZATION/COMPANY': 21680, '/PERSON/POLITICAL_FIGURE': 21455}}\n"
          ],
          "name": "stdout"
        }
      ]
    },
    {
      "cell_type": "code",
      "metadata": {
        "id": "ETiAZ3DuwB8Q",
        "outputId": "543da3e8-0f12-4161-bcc5-2ab584402c6c",
        "colab": {
          "base_uri": "https://localhost:8080/"
        }
      },
      "source": [
        "# prima analisi\n",
        "# per i 10 tipi più presenti in ciascun dataset quali sono le 10 parole più vicine\n",
        "for name, value in dictionary_types_counters.items():\n",
        "  print(name)\n",
        "  print(\"-----------\")\n",
        "  for typ, count in value.items():\n",
        "    print(\"prime 5 parole vicine a:\", typ)\n",
        "    print(dictionary_models[name].wv.most_similar(typ)[:10])"
      ],
      "execution_count": 6,
      "outputs": [
        {
          "output_type": "stream",
          "text": [
            "choi\n",
            "-----------\n",
            "prime 5 parole vicine a: /PERSON\n",
            "[('fits', 0.32104766368865967), ('description', 0.3145886957645416), ('Camillo', 0.2867662310600281), ('Earlier', 0.26616886258125305), ('owed', 0.2649654746055603), ('confirm', 0.26198726892471313), ('tourism', 0.2593196630477905), ('bitterly', 0.25930821895599365), ('boys', 0.2583726644515991), ('Amiel', 0.25661778450012207)]\n",
            "prime 5 parole vicine a: /ORGANIZATION\n",
            "[('/MALE', 0.910885214805603), ('/ADULT', 0.9078623652458191), ('/LEADER', 0.8817206025123596), ('/OFFICIAL', 0.8631898164749146), ('/MAN', 0.862652063369751), ('/GROUP', 0.8607877492904663), ('/POLITICIAN', 0.8607581853866577), ('/FEMALE', 0.8367465734481812), ('/PROFESSIONAL', 0.8244893550872803), ('/ATHLETE', 0.8078212738037109)]\n",
            "prime 5 parole vicine a: /ADULT\n",
            "[('mori', 0.7236315011978149), ('corazonin', 0.716712236404419), ('/SPEED', 0.6860935091972351), ('Bombyx', 0.654800295829773), ('silkworms', 0.653356671333313), ('reduces', 0.6470199823379517), ('63', 0.6462439894676208), ('123', 0.6318361759185791), ('circa', 0.6282120943069458), ('-1929', 0.6073397397994995)]\n",
            "prime 5 parole vicine a: /LEADER\n",
            "[('Sempronia', 0.7378675937652588), ('silkworms', 0.7303844690322876), ('Bombyx', 0.7257290482521057), ('mori', 0.6900321841239929), ('corazonin', 0.6714398860931396), ('reduces', 0.6691626310348511), ('circa', 0.6621392965316772), ('Thor', 0.6615214347839355), ('3/4ths', 0.6562037467956543), ('seminar', 0.6433658599853516)]\n",
            "prime 5 parole vicine a: /EVENT\n",
            "[('beaming', 0.41103696823120117), ('clearly', 0.41056862473487854), ('pledged', 0.3943699300289154), ('Wilders', 0.38707125186920166), ('Mohamed', 0.35195493698120117), ('rebut', 0.3515412211418152), ('fabrications', 0.35145747661590576), ('human', 0.35001349449157715), ('fires', 0.346004843711853), ('preferred', 0.3459559381008148)]\n",
            "prime 5 parole vicine a: /MALE\n",
            "[('/ANNUAL', 0.5087394714355469), ('18-year', 0.4686877727508545), ('seized', 0.46751248836517334), ('Nissan', 0.4089565873146057), ('looked', 0.40015798807144165), ('knows', 0.38882914185523987), ('Haiti', 0.38829725980758667), ('week', 0.38739314675331116), ('adapt', 0.38655567169189453), ('1865', 0.3848726153373718)]\n",
            "prime 5 parole vicine a: /OBJECT\n",
            "[('/ANNUAL', 0.41176414489746094), ('Nissan', 0.3678022623062134), ('years', 0.36402472853660583), ('profit', 0.35527437925338745), ('abolish', 0.3507295846939087), ('Sonata', 0.34790530800819397), ('sized', 0.3303860127925873), ('adapt', 0.32628634572029114), ('effectuate', 0.3225191831588745), ('Accent', 0.3114199638366699)]\n",
            "prime 5 parole vicine a: /PLACE\n",
            "[('hallowed', 0.401791512966156), ('hurt', 0.3904517889022827), ('knowledge', 0.3605957627296448), ('befalls', 0.3560383915901184), ('buddies', 0.3541876971721649), ('Fred', 0.34103506803512573), ('knew', 0.3393852114677429), ('kilograms', 0.3374456763267517), ('causes', 0.33715733885765076), ('Nile', 0.33551090955734253)]\n",
            "prime 5 parole vicine a: /GROUP\n",
            "[('Unites', 0.4851624667644501), ('Corp.', 0.4232323169708252), ('colour', 0.41962966322898865), ('relaxed', 0.4100278615951538), ('hair', 0.40350818634033203), ('Intel', 0.4032236635684967), ('Old', 0.38317716121673584), ('Elian', 0.3823699951171875), ('exile', 0.3772106170654297), ('relaxer', 0.3762362003326416)]\n",
            "prime 5 parole vicine a: /LOCATION\n",
            "[('Guard', 0.5302915573120117), ('petty', 0.5243150591850281), ('AFP', 0.45976462960243225), ('Coast', 0.4104382395744324), ('Agency', 0.4096405506134033), ('interpreting', 0.4088285565376282), ('Sound', 0.38952797651290894), ('Daily', 0.37991660833358765), ('sources', 0.37016060948371887), ('joint', 0.36123427748680115)]\n",
            "balanced_ontonotes\n",
            "-----------\n",
            "prime 5 parole vicine a: /OTHER\n",
            "[('/OTHER/ART', 0.973597526550293), ('/OTHER/ART/WRITING', 0.9714668989181519), ('/OTHER/HEALTH', 0.9685916900634766), ('/OTHER/PRODUCT', 0.9560858011245728), ('/OTHER/INTERNET', 0.9545267224311829), ('/OTHER/ART/MUSIC', 0.9533775448799133), ('/OTHER/LIVING_THING', 0.9527392983436584), ('/ORGANIZATION/MUSIC', 0.9494946002960205), ('/OTHER/HEALTH/MALADY', 0.9473311901092529), ('/PERSON', 0.9472969770431519)]\n",
            "prime 5 parole vicine a: /PERSON\n",
            "[('/PERSON/ARTIST', 0.9881487488746643), ('/PERSON/TITLE', 0.9871507883071899), ('/PERSON/ARTIST/AUTHOR', 0.9855290651321411), ('/PERSON/ARTIST/ACTOR', 0.9786093235015869), ('/PERSON/MILITARY', 0.9762193560600281), ('/PERSON/POLITICAL_FIGURE', 0.9742861390113831), ('/ORGANIZATION', 0.968785285949707), ('/PERSON/ARTIST/MUSIC', 0.9576929807662964), ('/OTHER/ART/WRITING', 0.9574223160743713), ('/OTHER/ART', 0.9539430141448975)]\n",
            "prime 5 parole vicine a: /LOCATION\n",
            "[('says', 0.6680716872215271), ('told', 0.5519704222679138), ('/LOCATION/STRUCTURE/RESTAURANT', 0.5153654217720032), ('saying', 0.4552910327911377), ('suggested', 0.4549690783023834), ('announced', 0.45164552330970764), ('added', 0.44709646701812744), ('Watts', 0.4460117816925049), ('asked', 0.4435671865940094), ('answered', 0.4296569526195526)]\n",
            "prime 5 parole vicine a: /ORGANIZATION\n",
            "[('/LOCATION/CITY', 0.9760419130325317), ('/LOCATION/STRUCTURE', 0.9606702327728271), ('/LOCATION/COUNTRY', 0.9580514430999756), ('/ORGANIZATION', 0.9494975805282593), ('/LOCATION/STRUCTURE/GOVERNMENT', 0.9460649490356445), ('/OTHER', 0.9366613030433655), ('/PERSON', 0.9326149821281433), ('/ORGANIZATION/COMPANY', 0.9320000410079956), ('/PERSON/MILITARY', 0.9314518570899963), ('/ORGANIZATION/COMPANY/NEWS', 0.9296426773071289)]\n",
            "prime 5 parole vicine a: /PERSON/TITLE\n",
            "[('/ORGANIZATION/COMPANY', 0.9850579500198364), ('/ORGANIZATION/COMPANY/NEWS', 0.9723310470581055), ('/LOCATION/STRUCTURE', 0.971294105052948), ('/PERSON/ARTIST', 0.9691100120544434), ('/PERSON', 0.968785285949707), ('/LOCATION/STRUCTURE/GOVERNMENT', 0.9647016525268555), ('/PERSON/ARTIST/AUTHOR', 0.9625797271728516), ('/PERSON/MILITARY', 0.9571129083633423), ('/PERSON/TITLE', 0.9525446891784668), ('/LOCATION', 0.9494975805282593)]\n",
            "prime 5 parole vicine a: /PERSON/ARTIST\n",
            "[('/PERSON', 0.9871507883071899), ('/PERSON/ARTIST', 0.9553061723709106), ('/ORGANIZATION', 0.9525446891784668), ('/PERSON/ARTIST/AUTHOR', 0.9514983892440796), ('/PERSON/MILITARY', 0.9455230832099915), ('/OTHER/ART/WRITING', 0.9433934092521667), ('/OTHER/ART', 0.9424360990524292), ('/PERSON/ARTIST/ACTOR', 0.9415760040283203), ('/OTHER', 0.9369158744812012), ('/PERSON/POLITICAL_FIGURE', 0.9347114562988281)]\n",
            "prime 5 parole vicine a: /PERSON/ARTIST/AUTHOR\n",
            "[('/PERSON/ARTIST/AUTHOR', 0.9984158277511597), ('/PERSON/ARTIST/ACTOR', 0.9943478107452393), ('/PERSON/POLITICAL_FIGURE', 0.9883121848106384), ('/PERSON', 0.9881487488746643), ('/PERSON/MILITARY', 0.9858684539794922), ('/ORGANIZATION', 0.9691100120544434), ('/PERSON/ARTIST/MUSIC', 0.9644325375556946), ('/ORGANIZATION/COMPANY/NEWS', 0.9567221403121948), ('/PERSON/TITLE', 0.9553061723709106), ('/OTHER/ART/WRITING', 0.9505952596664429)]\n",
            "prime 5 parole vicine a: /LOCATION/COUNTRY\n",
            "[('Ms.', 0.49150875210762024), ('President', 0.45837676525115967), ('Mrs.', 0.4356440007686615), ('administration', 0.4042063355445862), ('George', 0.4031873941421509), ('White', 0.39359068870544434), ('Richard', 0.39014381170272827), ('Messrs.', 0.3876552879810333), ('Joseph', 0.3843368887901306), ('Democratic', 0.37830084562301636)]\n",
            "prime 5 parole vicine a: /ORGANIZATION/COMPANY\n",
            "[('men', 0.6096451282501221), ('man', 0.5470079183578491), ('children', 0.5434628129005432), ('citizens', 0.5372016429901123), ('person', 0.5141512751579285), ('Americans', 0.5007871389389038), ('God', 0.47926759719848633), ('cities', 0.4779774844646454), ('believers', 0.47548651695251465), ('residents', 0.46504294872283936)]\n",
            "prime 5 parole vicine a: /PERSON/POLITICAL_FIGURE\n",
            "[('/PERSON/ARTIST', 0.9984158277511597), ('/PERSON/ARTIST/ACTOR', 0.9939062595367432), ('/PERSON/POLITICAL_FIGURE', 0.9924379587173462), ('/PERSON/MILITARY', 0.9862685799598694), ('/PERSON', 0.9855290651321411), ('/ORGANIZATION', 0.9625797271728516), ('/PERSON/ARTIST/MUSIC', 0.9604425430297852), ('/PERSON/TITLE', 0.9514983892440796), ('/ORGANIZATION/COMPANY/NEWS', 0.9469866752624512), ('/LOCATION/STRUCTURE', 0.9430332183837891)]\n",
            "ontonotes\n",
            "-----------\n",
            "prime 5 parole vicine a: /OTHER\n",
            "[('/OTHER/ART', 0.9737505316734314), ('/OTHER/ART/WRITING', 0.9720499515533447), ('/OTHER/HEALTH', 0.9685184955596924), ('/OTHER/INTERNET', 0.955758810043335), ('/ORGANIZATION/MUSIC', 0.9544729590415955), ('/OTHER/PRODUCT', 0.9532982110977173), ('/OTHER/ART/MUSIC', 0.9532692432403564), ('/OTHER/LIVING_THING', 0.9483439922332764), ('/OTHER/HEALTH/MALADY', 0.9482632875442505), ('/PERSON', 0.9467733502388)]\n",
            "prime 5 parole vicine a: /PERSON\n",
            "[('/PERSON/ARTIST', 0.9875991344451904), ('/PERSON/TITLE', 0.9875719547271729), ('/PERSON/ARTIST/AUTHOR', 0.9863124489784241), ('/PERSON/ARTIST/ACTOR', 0.9783022999763489), ('/PERSON/MILITARY', 0.9767429828643799), ('/PERSON/POLITICAL_FIGURE', 0.974225640296936), ('/ORGANIZATION', 0.9670207500457764), ('/OTHER/ART/WRITING', 0.9573090672492981), ('/OTHER/ART', 0.9564184546470642), ('/PERSON/ARTIST/MUSIC', 0.9551240801811218)]\n",
            "prime 5 parole vicine a: /LOCATION\n",
            "[('says', 0.6366913914680481), ('told', 0.5903741121292114), ('/LOCATION/STRUCTURE/RESTAURANT', 0.5209389328956604), ('saying', 0.48873865604400635), ('added', 0.4790550470352173), ('Jingtang', 0.45439714193344116), ('asked', 0.45300769805908203), ('according', 0.4435986876487732), ('hesitated', 0.43662840127944946), ('announced', 0.4335179924964905)]\n",
            "prime 5 parole vicine a: /ORGANIZATION\n",
            "[('/LOCATION/CITY', 0.9758557677268982), ('/LOCATION/STRUCTURE', 0.9613304734230042), ('/LOCATION/COUNTRY', 0.9573641419410706), ('/ORGANIZATION', 0.949758768081665), ('/LOCATION/STRUCTURE/GOVERNMENT', 0.9440580606460571), ('/OTHER', 0.9348322153091431), ('/PERSON/MILITARY', 0.9330522418022156), ('/PERSON', 0.9301151633262634), ('/ORGANIZATION/COMPANY', 0.9300574660301208), ('/ORGANIZATION/COMPANY/NEWS', 0.9261934757232666)]\n",
            "prime 5 parole vicine a: /PERSON/TITLE\n",
            "[('/ORGANIZATION/COMPANY', 0.9853965640068054), ('/ORGANIZATION/COMPANY/NEWS', 0.970578670501709), ('/LOCATION/STRUCTURE', 0.9688091278076172), ('/PERSON/ARTIST', 0.9686746597290039), ('/PERSON', 0.9670207500457764), ('/PERSON/ARTIST/AUTHOR', 0.963843047618866), ('/LOCATION/STRUCTURE/GOVERNMENT', 0.959389328956604), ('/PERSON/MILITARY', 0.958234965801239), ('/PERSON/TITLE', 0.9512335062026978), ('/LOCATION', 0.9497588872909546)]\n",
            "prime 5 parole vicine a: /PERSON/ARTIST\n",
            "[('/PERSON', 0.9875719547271729), ('/PERSON/ARTIST', 0.955302894115448), ('/PERSON/ARTIST/AUTHOR', 0.9530763626098633), ('/ORGANIZATION', 0.9512333869934082), ('/PERSON/MILITARY', 0.9478820562362671), ('/OTHER/ART', 0.9431453347206116), ('/OTHER/ART/WRITING', 0.9424663782119751), ('/PERSON/ARTIST/ACTOR', 0.9415962100028992), ('/PERSON/POLITICAL_FIGURE', 0.9354897737503052), ('/OTHER', 0.9346274733543396)]\n",
            "prime 5 parole vicine a: /PERSON/ARTIST/AUTHOR\n",
            "[('/PERSON/ARTIST/AUTHOR', 0.9986850619316101), ('/PERSON/ARTIST/ACTOR', 0.9944705963134766), ('/PERSON/POLITICAL_FIGURE', 0.988062858581543), ('/PERSON', 0.9875991344451904), ('/PERSON/MILITARY', 0.9867360591888428), ('/ORGANIZATION', 0.9686746597290039), ('/PERSON/ARTIST/MUSIC', 0.9649409651756287), ('/PERSON/TITLE', 0.955302894115448), ('/ORGANIZATION/COMPANY/NEWS', 0.9547089338302612), ('/OTHER/ART/WRITING', 0.9520608186721802)]\n",
            "prime 5 parole vicine a: /LOCATION/COUNTRY\n",
            "[('Mrs.', 0.4934655427932739), ('George', 0.4439474940299988), ('Ms.', 0.4366054832935333), ('President', 0.42739784717559814), ('administration', 0.3931868374347687), ('Barak', 0.3865143060684204), ('lawyer', 0.38390427827835083), ('calm', 0.38270607590675354), ('Joe', 0.3814181089401245), ('wrong', 0.3710005283355713)]\n",
            "prime 5 parole vicine a: /ORGANIZATION/COMPANY\n",
            "[('men', 0.6325610876083374), ('person', 0.5707156658172607), ('man', 0.5670667290687561), ('Americans', 0.5418769121170044), ('citizens', 0.5386430025100708), ('children', 0.5262910723686218), ('soldiers', 0.47511059045791626), ('things', 0.4716011881828308), ('cities', 0.4661557674407959), ('God', 0.4656931161880493)]\n",
            "prime 5 parole vicine a: /PERSON/POLITICAL_FIGURE\n",
            "[('/PERSON/ARTIST', 0.9986851811408997), ('/PERSON/ARTIST/ACTOR', 0.9938351511955261), ('/PERSON/POLITICAL_FIGURE', 0.9913761019706726), ('/PERSON/MILITARY', 0.9872845411300659), ('/PERSON', 0.9863125085830688), ('/ORGANIZATION', 0.9638431072235107), ('/PERSON/ARTIST/MUSIC', 0.9606705904006958), ('/PERSON/TITLE', 0.9530764818191528), ('/ORGANIZATION/COMPANY/NEWS', 0.9466463327407837), ('/OTHER/ART/WRITING', 0.9453839659690857)]\n"
          ],
          "name": "stdout"
        }
      ]
    },
    {
      "cell_type": "code",
      "metadata": {
        "id": "b4cTFT7A09Bj"
      },
      "source": [
        "# seconda analisi\n",
        "# per i 10 tipi più presenti in ciascun dataset quali sono i 5 tipi più vicini\n",
        "for name, value in dictionary_types_counters.items():\n",
        "  print(name)\n",
        "  print(\"-----------\")\n",
        "  for typ, count in value.items():\n",
        "    print(\"prime 5 parole vicine a:\", typ)\n",
        "    print(dictionary_restricted_models[name].wv.most_similar(typ)[:5])"
      ],
      "execution_count": null,
      "outputs": []
    }
  ]
}