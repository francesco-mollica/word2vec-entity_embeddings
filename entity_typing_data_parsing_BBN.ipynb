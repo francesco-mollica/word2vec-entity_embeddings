{
  "nbformat": 4,
  "nbformat_minor": 0,
  "metadata": {
    "kernelspec": {
      "display_name": "Python 3",
      "language": "python",
      "name": "python3"
    },
    "language_info": {
      "codemirror_mode": {
        "name": "ipython",
        "version": 3
      },
      "file_extension": ".py",
      "mimetype": "text/x-python",
      "name": "python",
      "nbconvert_exporter": "python",
      "pygments_lexer": "ipython3",
      "version": "3.6.9"
    },
    "colab": {
      "name": "entity_typing_data_parsing_BBN.ipynb",
      "provenance": [],
      "collapsed_sections": []
    }
  },
  "cells": [
    {
      "cell_type": "code",
      "metadata": {
        "id": "MKL7Wwcj3pSj",
        "colab": {
          "base_uri": "https://localhost:8080/"
        },
        "outputId": "cf251089-4cc0-4ace-9e01-2d9017c8eeca"
      },
      "source": [
        "from google.colab import drive\n",
        "drive.mount('/content/drive/', force_remount=True)\n",
        "root_dir = \"/content/drive/MyDrive/\"\n",
        "base_dir = root_dir + \"tesi_magistrale/datasets/to_zip/\"\n",
        "path_corpus_data = root_dir + \"tesi_magistrale/datasets/corpus_data_folder/\"\n",
        "bbn_path = base_dir + \"BBN/BBN/\""
      ],
      "execution_count": null,
      "outputs": [
        {
          "output_type": "stream",
          "text": [
            "Mounted at /content/drive/\n"
          ],
          "name": "stdout"
        }
      ]
    },
    {
      "cell_type": "code",
      "metadata": {
        "id": "Hm6RoPKn3IyB"
      },
      "source": [
        "import json\n",
        "\n",
        "with open(bbn_path + \"train.json\", 'r') as inp:\n",
        "    examples_train = [json.loads(l) for l in inp.readlines()]\n",
        "\n",
        "with open(bbn_path + \"test.json\", 'r') as inp:\n",
        "    examples_test = [json.loads(l) for l in inp.readlines()]"
      ],
      "execution_count": null,
      "outputs": []
    },
    {
      "cell_type": "code",
      "metadata": {
        "colab": {
          "base_uri": "https://localhost:8080/"
        },
        "id": "-66bcSCfxoIo",
        "outputId": "d0da37c7-c8b8-47de-b3de-2de5564c5e6e"
      },
      "source": [
        "print(\"il dataset train contiene \",len(examples_train), \"elementi\")"
      ],
      "execution_count": null,
      "outputs": [
        {
          "output_type": "stream",
          "text": [
            "il dataset train contiene  32739 elementi\n"
          ],
          "name": "stdout"
        }
      ]
    },
    {
      "cell_type": "code",
      "metadata": {
        "colab": {
          "base_uri": "https://localhost:8080/"
        },
        "id": "jpJi9a-Fxs0A",
        "outputId": "2076c0b1-2023-4f76-f927-8fa402901afe"
      },
      "source": [
        "print(\"il dataset test contiene \",len(examples_test), \"elementi\")"
      ],
      "execution_count": null,
      "outputs": [
        {
          "output_type": "stream",
          "text": [
            "il dataset test contiene  6338 elementi\n"
          ],
          "name": "stdout"
        }
      ]
    },
    {
      "cell_type": "markdown",
      "metadata": {
        "id": "a79ZYGSIzLka"
      },
      "source": [
        "Merge the two dataset train e test"
      ]
    },
    {
      "cell_type": "code",
      "metadata": {
        "colab": {
          "base_uri": "https://localhost:8080/"
        },
        "id": "ns1R03kY2dKW",
        "outputId": "44c442ab-5f1c-4bbf-d2fd-c5c1ac18e239"
      },
      "source": [
        "entire_dataset_list = examples_train + examples_test\n",
        "print(\" uniti train e test contengono \", len(entire_dataset_list), \"elementi\")"
      ],
      "execution_count": null,
      "outputs": [
        {
          "output_type": "stream",
          "text": [
            " uniti train e test contengono  39077 elementi\n"
          ],
          "name": "stdout"
        }
      ]
    },
    {
      "cell_type": "code",
      "metadata": {
        "id": "O_4McoLp3IyC",
        "colab": {
          "base_uri": "https://localhost:8080/"
        },
        "outputId": "37301d3a-76ba-4ff8-de7f-21d1c177f9d7"
      },
      "source": [
        "import itertools\n",
        "phrase = []\n",
        "phrases = []\n",
        "permutations = []\n",
        "num_total_phrases = 0\n",
        "for i in range(0, 2):\n",
        "  all_list = []\n",
        "  if len(entire_dataset_list[i]['mentions'])>1:\n",
        "\n",
        "    # creo tutte le permutazioni\n",
        "    for j in entire_dataset_list[i]['mentions']:\n",
        "      all_list.append(j['labels'])\n",
        "    permutations = list(itertools.product(*all_list))\n",
        "\n",
        "    num_total_phrases += len(permutations)\n",
        "\n",
        "    # creo tutte le possibili frasi a partire dalle permutazioni\n",
        "    for p in permutations:\n",
        "      phrase = entire_dataset_list[i]['tokens'].copy()\n",
        "      for h in range(0, len(p)):\n",
        "        phrase[entire_dataset_list[i]['mentions'][h]['start']] = p[h]\n",
        "      \n",
        "      phrases.append(phrase)\n",
        "    \n",
        "  else:\n",
        "    for k in entire_dataset_list[i]['mentions'][0]['labels']:\n",
        "      phrase = entire_dataset_list[i]['tokens'].copy()\n",
        "      phrase[entire_dataset_list[i]['mentions'][0]['start']] = k\n",
        "      phrases.append(phrase)\n",
        "      num_total_phrases+=1\n",
        "\n",
        "print(\"numero totale di frasi\", num_total_phrases)\n",
        "print(\"controllo se il numero di frasi totali è corretto\", num_total_phrases == len(phrases))"
      ],
      "execution_count": null,
      "outputs": [
        {
          "output_type": "stream",
          "text": [
            "numero totale di frasi 20\n",
            "controllo se il numero di frasi totali è corretto True\n"
          ],
          "name": "stdout"
        }
      ]
    },
    {
      "cell_type": "code",
      "metadata": {
        "id": "Vx8CYWDgWF2O"
      },
      "source": [
        "import pickle\n",
        "with open(path_corpus_data + \"corpus_data_bbn.txt\", \"wb\") as fp:  \n",
        "  pickle.dump(phrases, fp)"
      ],
      "execution_count": 10,
      "outputs": []
    }
  ]
}