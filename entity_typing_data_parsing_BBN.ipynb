{
  "nbformat": 4,
  "nbformat_minor": 0,
  "metadata": {
    "kernelspec": {
      "display_name": "Python 3",
      "language": "python",
      "name": "python3"
    },
    "language_info": {
      "codemirror_mode": {
        "name": "ipython",
        "version": 3
      },
      "file_extension": ".py",
      "mimetype": "text/x-python",
      "name": "python",
      "nbconvert_exporter": "python",
      "pygments_lexer": "ipython3",
      "version": "3.6.9"
    },
    "colab": {
      "name": "entity_typing_data_parsing_BBN.ipynb",
      "provenance": [],
      "collapsed_sections": []
    }
  },
  "cells": [
    {
      "cell_type": "code",
      "metadata": {
        "id": "MKL7Wwcj3pSj",
        "colab": {
          "base_uri": "https://localhost:8080/"
        },
        "outputId": "1f090d96-fe21-4470-f9ef-0d57f541e067"
      },
      "source": [
        "from google.colab import drive\n",
        "drive.mount('/content/drive/', force_remount=True)\n",
        "root_dir = \"/content/drive/MyDrive/\"\n",
        "base_dir = root_dir + \"tesi_magistrale/datasets/to_zip/\"\n",
        "path_corpus_data = root_dir + \"tesi_magistrale/datasets/corpus_data_folder/\"\n",
        "bbn_path = base_dir + \"BBN/BBN/\""
      ],
      "execution_count": 1,
      "outputs": [
        {
          "output_type": "stream",
          "text": [
            "Mounted at /content/drive/\n"
          ],
          "name": "stdout"
        }
      ]
    },
    {
      "cell_type": "code",
      "metadata": {
        "id": "Hm6RoPKn3IyB"
      },
      "source": [
        "import json\n",
        "\n",
        "with open(bbn_path + \"train.json\", 'r') as inp:\n",
        "    examples_train = [json.loads(l) for l in inp.readlines()]"
      ],
      "execution_count": 2,
      "outputs": []
    },
    {
      "cell_type": "code",
      "metadata": {
        "colab": {
          "base_uri": "https://localhost:8080/"
        },
        "id": "-66bcSCfxoIo",
        "outputId": "6f662ed6-07a3-4b4b-da50-1a2f67835103"
      },
      "source": [
        "print(\"il dataset train contiene \",len(examples_train), \"elementi\")"
      ],
      "execution_count": 3,
      "outputs": [
        {
          "output_type": "stream",
          "text": [
            "il dataset train contiene  32739 elementi\n"
          ],
          "name": "stdout"
        }
      ]
    },
    {
      "cell_type": "code",
      "metadata": {
        "id": "sxwS35kZN_AY",
        "colab": {
          "base_uri": "https://localhost:8080/"
        },
        "outputId": "f6fa91da-7d74-4d7f-9a2f-b112f0ab5e5e"
      },
      "source": [
        "# print(len(examples_train[14535]['mentions']))\n",
        "# print(len(examples_train[14535]['tokens']))\n",
        "# prod = 1\n",
        "# sum=0\n",
        "# for elem in examples_train[14535]['mentions']:\n",
        "#    prod *= len(elem)\n",
        "#    sum+=len(elem)\n",
        "\n",
        "# print(prod)\n",
        "# print(sum/len(examples_train[14535]['mentions']))"
      ],
      "execution_count": null,
      "outputs": [
        {
          "output_type": "stream",
          "text": [
            "27\n",
            "77\n",
            "7625597484987\n",
            "3.0\n"
          ],
          "name": "stdout"
        }
      ]
    },
    {
      "cell_type": "code",
      "metadata": {
        "id": "FgbjZPGyMSoC"
      },
      "source": [
        "#del examples_train[14000:15000]"
      ],
      "execution_count": null,
      "outputs": []
    },
    {
      "cell_type": "code",
      "metadata": {
        "id": "Gmut0vnRKOiq"
      },
      "source": [
        "# rimuovo elemento 14535, caso problematico in cui generare tutte le permutazioni della frase avrebbe generato 7625597484987 frasi.\n",
        "# questo elemento è una frase con 77 tokens, di cui 27 menzioni con ciascuna in media 3 tipi\n",
        "del examples_train[14535]\n",
        "examples_iter = iter(examples_train)"
      ],
      "execution_count": 4,
      "outputs": []
    },
    {
      "cell_type": "code",
      "metadata": {
        "id": "ns1R03kY2dKW"
      },
      "source": [
        "#examples_iter = iter(examples_train[len(examples_train)//2:len(examples_train)+1])"
      ],
      "execution_count": null,
      "outputs": []
    },
    {
      "cell_type": "code",
      "metadata": {
        "id": "3fZLRJuEIUkK"
      },
      "source": [
        "def skip_this_phrase(mentions,dictionary):\n",
        "    prod = 1\n",
        "    for elem in mentions:\n",
        "      prod*=len(elem['labels'])\n",
        "\n",
        "    if prod<=10:\n",
        "      dictionary['minori=_10']+=1\n",
        "    if prod>10 and  prod<=20:\n",
        "      dictionary['maggiori_10_minori=20']+=1\n",
        "    if prod>20 and prod<=50:\n",
        "      dictionary['maggiori_20_minori=50']+=1\n",
        "    if prod>50 and prod<=100:\n",
        "      dictionary['maggiori_50_minori=100']+=1\n",
        "    if prod>100 and prod<=200:\n",
        "      dictionary['maggiori_100_minori=200']+=1\n",
        "    if (prod>200):\n",
        "      dictionary['maggiori_200']+=1\n",
        "    if (prod>20):\n",
        "      return 0\n",
        "    \n",
        "    return prod"
      ],
      "execution_count": 5,
      "outputs": []
    },
    {
      "cell_type": "code",
      "metadata": {
        "id": "r8aGBivW8Hpm",
        "colab": {
          "base_uri": "https://localhost:8080/"
        },
        "outputId": "9b74af5e-1375-4cef-f0b4-8e4a81f5757c"
      },
      "source": [
        "import operator\n",
        "import itertools\n",
        "from tqdm import tqdm\n",
        "from gensim.parsing.preprocessing import remove_stopwords\n",
        "\n",
        "perm_a_priori=[]\n",
        "perm_effettive=[]\n",
        "sottostime=[]\n",
        "lunghezze={\n",
        "    'minori=_10':0,\n",
        "    'maggiori_10_minori=20':0,\n",
        "    'maggiori_20_minori=50':0,\n",
        "    'maggiori_50_minori=100':0,\n",
        "    'maggiori_100_minori=200':0,\n",
        "    'maggiori_200':0,\n",
        "    'sottostimate': 0,\n",
        "    'sovrastimate': 0,\n",
        "    'frasi_con_overlap':0,\n",
        "}\n",
        "\n",
        "fp = open(path_corpus_data + 'corpus_data_entire_bbn.txt', \"w\")\n",
        "restricted_set = set()\n",
        "\n",
        "for num,i in enumerate(tqdm(examples_iter)):\n",
        "\n",
        "  perm_priori=skip_this_phrase(i['mentions'],lunghezze)\n",
        "  if (perm_priori==0):\n",
        "    continue\n",
        "\n",
        "  perm_a_priori.append(perm_priori)\n",
        "  istance = i['mentions'][:]\n",
        "  if len(istance)>1:\n",
        "\n",
        "    d = sorted(istance, key=operator.itemgetter(\"start\"))\n",
        "\n",
        "    d = {k: list(v) for k, v in itertools.groupby(d, key=operator.itemgetter(\"start\"))}\n",
        "    all_list=[]\n",
        "    for key, value in d.items():\n",
        "      all_list.append(value)\n",
        "\n",
        "    permutations = list(itertools.product(*all_list))\n",
        "\n",
        "    iter = 0\n",
        "    real_perm = 0\n",
        "    for p in permutations:\n",
        "          mini_list = []\n",
        "          for lista_labels in p:\n",
        "            mini_list.append(lista_labels['labels'])\n",
        "\n",
        "          permutations_2 = itertools.product(*mini_list)\n",
        "          real_perm+=len(list(permutations_2))\n",
        "          for p_2 in permutations_2:\n",
        "            \n",
        "            phrase = i['tokens'][:]\n",
        "            \n",
        "            num_pop=0\n",
        "            for h in range(0, len(p_2)):\n",
        "              start = permutations[iter][h]['start']\n",
        "              end = permutations[iter][h]['end']\n",
        "      \n",
        "              phrase[start-num_pop:end-num_pop] = [p_2[h]]\n",
        "              if((end-start)>1):\n",
        "                num_pop += (end - start) - 1\n",
        "\n",
        "              restricted_set.add(p_2[h])\n",
        "\n",
        "              \n",
        "            fp.write((remove_stopwords(' '.join(phrase)) + '\\n'))\n",
        "          iter+=1\n",
        "    if real_perm!=perm_priori:\n",
        "      perm_a_priori.append(perm_priori)\n",
        "      perm_effettive.append(real_perm)\n",
        "      lunghezze['frasi_con_overlap']+=1\n",
        "      if real_perm>perm_priori:\n",
        "         sottostime.append(real_perm/perm_priori)\n",
        "         lunghezze['sottostimate']+=1\n",
        "      if real_perm<perm_priori:\n",
        "         lunghezze['sovrastimate']+=1\n",
        "      #print(f\"Frase {num}, permutazioni a priori {perm_priori}, permutazioni effettive {real_perm}\")\n",
        "  else:\n",
        "    for k in istance[0]['labels']:\n",
        "      phrase = i['tokens'][:]\n",
        "      if (i['mentions'][0]['end'] - i['mentions'][0]['start'] ==1):          \n",
        "        phrase[i['mentions'][0]['start']] = k\n",
        "        restricted_set.add(k)\n",
        "      else:\n",
        "        phrase[i['mentions'][0]['start']:i['mentions'][0]['end']] = [k]\n",
        "        restricted_set.add(k)\n",
        "\n",
        "      fp.write((remove_stopwords(' '.join(phrase)) + '\\n'))\n",
        "\n",
        "fp.close()"
      ],
      "execution_count": 6,
      "outputs": [
        {
          "output_type": "stream",
          "text": [
            "32738it [00:00, 79353.13it/s]\n"
          ],
          "name": "stderr"
        }
      ]
    },
    {
      "cell_type": "code",
      "metadata": {
        "id": "NkKJYzIkSFAn",
        "outputId": "4954d0cd-ccce-4dff-991a-8f3ddf1d916c",
        "colab": {
          "base_uri": "https://localhost:8080/"
        }
      },
      "source": [
        "import statistics\n",
        "print(f\"frasi con overlap in BBN {lunghezze['frasi_con_overlap']}\")\n",
        "print(f\"con stima a priori maggiore di effettiva {lunghezze['sovrastimate']}\")\n",
        "print(f\"con stima a priori minore di effettiva {lunghezze['sottostimate']}\")\n",
        "print(f\"mediana delle stime a priori {statistics.median(perm_a_priori)}\")\n",
        "print(f\"mediana delle permutazioni effettive {statistics.median(perm_effettive)}\")\n",
        "print(f\"nei {lunghezze['sottostimate']} casi in cui ho sottostimato la media della sottostima è di {sum(sottostime)/len(sottostime)}\")"
      ],
      "execution_count": 7,
      "outputs": [
        {
          "output_type": "stream",
          "text": [
            "frasi con overlap in BBN 1131\n",
            "con stima a priori maggiore di effettiva 307\n",
            "con stima a priori minore di effettiva 824\n",
            "mediana delle stime a priori 3\n",
            "mediana delle permutazioni effettive 6\n",
            "nei 824 casi in cui ho sottostimato la media della sottostima è di 1.6960558252427178\n"
          ],
          "name": "stdout"
        }
      ]
    },
    {
      "cell_type": "code",
      "metadata": {
        "id": "wARtW9w0NP1g",
        "outputId": "efe80851-dd72-4904-a997-89e8be7de123",
        "colab": {
          "base_uri": "https://localhost:8080/"
        }
      },
      "source": [
        "print(examples_train[28292])"
      ],
      "execution_count": 8,
      "outputs": [
        {
          "output_type": "stream",
          "text": [
            "{'tokens': ['Mr.', 'Buffett', \"'s\", 'firm', ',', 'Berkshire', 'Hathaway', ',', 'holds', 'a', 'much', 'bigger', 'stake', 'in', 'the', 'carrier', 'than', 'Mr.', 'Steinhardt', \"'s\", 'firm', ',', 'Steinhardt', 'Partners', '.'], 'senid': 5, 'mentions': [{'start': 5, 'labels': ['/ORGANIZATION/CORPORATION', '/ORGANIZATION'], 'end': 7}, {'start': 22, 'labels': ['/PERSON'], 'end': 24}, {'start': 1, 'labels': ['/PERSON'], 'end': 2}, {'start': 22, 'labels': ['/PERSON'], 'end': 23}], 'fileid': 'WSJ1881'}\n"
          ],
          "name": "stdout"
        }
      ]
    },
    {
      "cell_type": "code",
      "metadata": {
        "id": "quJ-reGZnRR-"
      },
      "source": [
        "restricted_list = list(restricted_set)"
      ],
      "execution_count": null,
      "outputs": []
    },
    {
      "cell_type": "code",
      "metadata": {
        "id": "0JX5BYuFcN08"
      },
      "source": [
        "import pickle\n",
        "with open(path_corpus_data + 'restricted_list_bbn.pkl', 'wb') as fp:\n",
        "  pickle.dump(restricted_list, fp)"
      ],
      "execution_count": null,
      "outputs": []
    }
  ]
}