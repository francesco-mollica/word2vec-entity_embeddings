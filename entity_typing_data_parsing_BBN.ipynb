{
  "nbformat": 4,
  "nbformat_minor": 0,
  "metadata": {
    "kernelspec": {
      "display_name": "Python 3",
      "language": "python",
      "name": "python3"
    },
    "language_info": {
      "codemirror_mode": {
        "name": "ipython",
        "version": 3
      },
      "file_extension": ".py",
      "mimetype": "text/x-python",
      "name": "python",
      "nbconvert_exporter": "python",
      "pygments_lexer": "ipython3",
      "version": "3.6.9"
    },
    "colab": {
      "name": "entity_typing_data_parsing_BBN.ipynb",
      "provenance": [],
      "collapsed_sections": []
    }
  },
  "cells": [
    {
      "cell_type": "code",
      "metadata": {
        "id": "MKL7Wwcj3pSj",
        "colab": {
          "base_uri": "https://localhost:8080/"
        },
        "outputId": "aeb1f7c0-9561-46e6-92e1-04715f3331a8"
      },
      "source": [
        "from google.colab import drive\n",
        "drive.mount('/content/drive/', force_remount=True)\n",
        "root_dir = \"/content/drive/MyDrive/\"\n",
        "base_dir = root_dir + \"tesi_magistrale/datasets/to_zip/\"\n",
        "path_corpus_data = root_dir + \"tesi_magistrale/datasets/corpus_data_folder/\"\n",
        "bbn_path = base_dir + \"BBN/BBN/\""
      ],
      "execution_count": 1,
      "outputs": [
        {
          "output_type": "stream",
          "text": [
            "Mounted at /content/drive/\n"
          ],
          "name": "stdout"
        }
      ]
    },
    {
      "cell_type": "code",
      "metadata": {
        "id": "Hm6RoPKn3IyB"
      },
      "source": [
        "import json\n",
        "\n",
        "with open(bbn_path + \"train.json\", 'r') as inp:\n",
        "    examples_train = [json.loads(l) for l in inp.readlines()]"
      ],
      "execution_count": 2,
      "outputs": []
    },
    {
      "cell_type": "code",
      "metadata": {
        "colab": {
          "base_uri": "https://localhost:8080/"
        },
        "id": "-66bcSCfxoIo",
        "outputId": "22eadfd0-f12b-4526-996b-f5aec0cc83a9"
      },
      "source": [
        "print(\"il dataset train contiene \",len(examples_train), \"elementi\")"
      ],
      "execution_count": 3,
      "outputs": [
        {
          "output_type": "stream",
          "text": [
            "il dataset train contiene  32739 elementi\n"
          ],
          "name": "stdout"
        }
      ]
    },
    {
      "cell_type": "code",
      "metadata": {
        "colab": {
          "base_uri": "https://localhost:8080/"
        },
        "id": "Lp6DElDxg3nq",
        "outputId": "9e203f06-3ad4-4d99-f17d-05d9089b8964"
      },
      "source": [
        "print(examples_train[14000])"
      ],
      "execution_count": 4,
      "outputs": [
        {
          "output_type": "stream",
          "text": [
            "{'tokens': ['British', 'Airways', 'dropped', 'out', 'of', 'the', 'current', 'bidding', 'for', 'United', 'Air', \"'s\", 'parent', ',', 'leaving', 'a', 'UAL', 'management-pilots', 'group', 'without', 'a', 'key', 'partner', '.'], 'senid': 6, 'mentions': [{'start': 2, 'labels': ['/EVENT', '/EVENT/WAR'], 'end': 3}, {'start': 0, 'labels': ['/ORGANIZATION/CORPORATION', '/ORGANIZATION'], 'end': 2}, {'start': 0, 'labels': ['/GPE/COUNTRY', '/GPE', '/LOCATION'], 'end': 1}], 'fileid': 'WSJ1728'}\n"
          ],
          "name": "stdout"
        }
      ]
    },
    {
      "cell_type": "code",
      "metadata": {
        "id": "ns1R03kY2dKW"
      },
      "source": [
        "examples_iter = iter(examples_train[0:10])"
      ],
      "execution_count": 5,
      "outputs": []
    },
    {
      "cell_type": "code",
      "metadata": {
        "id": "r8aGBivW8Hpm",
        "colab": {
          "base_uri": "https://localhost:8080/"
        },
        "outputId": "d3afeac5-640c-48de-8bce-833b1771e6bb"
      },
      "source": [
        "import operator\n",
        "import itertools\n",
        "from tqdm import tqdm\n",
        "# dictionary\n",
        "\n",
        "restricted_set = set()\n",
        "for i in tqdm(examples_iter):\n",
        "  istance = i['mentions'][:]\n",
        "\n",
        "  if len(istance)>1:\n",
        "    d = sorted(istance, key=operator.itemgetter(\"start\"))\n",
        "\n",
        "    d = {k: list(v) for k, v in itertools.groupby(d, key=operator.itemgetter(\"start\"))}\n",
        "    all_list=[]\n",
        "    for key, value in d.items():\n",
        "      all_list.append(value)\n",
        "\n",
        "    permutations = list(itertools.product(*all_list))\n",
        "    print(permutations)\n",
        "\n",
        "    iter = 0\n",
        "    for p in permutations:\n",
        "          \n",
        "          mini_list = []\n",
        "          for lista_labels in p:\n",
        "            mini_list.append(lista_labels['labels'])\n",
        "\n",
        "          permutations_2 = list(itertools.product(*mini_list))\n",
        "          print(permutations_2)\n",
        "\n",
        "          for p_2 in permutations_2:\n",
        "\n",
        "            phrase = i['tokens'][:]\n",
        "            print(phrase)\n",
        "            print(p_2)\n",
        "            \n",
        "            for h in range(0, len(p_2)):\n",
        "              print(permutations[iter][h]['end']-permutations[iter][h]['start'])\n",
        "              if (permutations[iter][h]['end']-permutations[iter][h]['start']==1):          \n",
        "                phrase[permutations[iter][h]['start']] = p_2[h]\n",
        "                restricted_set.add(p_2[h])\n",
        "              else:\n",
        "                phrase.pop(permutations[iter][h]['end']-1)\n",
        "                phrase[permutations[iter][h]['start']] = p_2[h]\n",
        "                restricted_set.add(p_2[h])\n",
        "            \n",
        "            print(phrase)\n",
        "            \n",
        "          iter+=1\n",
        "  else:\n",
        "    for k in istance[0]['labels']:\n",
        "      phrase = i['tokens'][:]\n",
        "      if (i['mentions'][0]['end'] - i['mentions'][0]['start'] ==1):          \n",
        "        phrase[i['mentions'][0]['start']] = k\n",
        "        restricted_set.add(p_2[h])\n",
        "      else:\n",
        "        phrase.pop(i['mentions'][0]['end']-1)\n",
        "        phrase[i['mentions'][0]['start']] = k\n",
        "        restricted_set.add(p_2[h])\n",
        "\n",
        "        print(phrase)\n",
        "      \n",
        "\n"
      ],
      "execution_count": 6,
      "outputs": [
        {
          "output_type": "stream",
          "text": [
            "10it [00:00, 425.91it/s]"
          ],
          "name": "stderr"
        },
        {
          "output_type": "stream",
          "text": [
            "[({'start': 12, 'labels': ['/ORGANIZATION/CORPORATION', '/WORK_OF_ART', '/ORGANIZATION', '/WORK_OF_ART/BOOK'], 'end': 13}, {'start': 15, 'labels': ['/PLANT', '/PRODUCT', '/SUBSTANCE', '/SUBSTANCE/FOOD'], 'end': 16})]\n",
            "[('/ORGANIZATION/CORPORATION', '/PLANT'), ('/ORGANIZATION/CORPORATION', '/PRODUCT'), ('/ORGANIZATION/CORPORATION', '/SUBSTANCE'), ('/ORGANIZATION/CORPORATION', '/SUBSTANCE/FOOD'), ('/WORK_OF_ART', '/PLANT'), ('/WORK_OF_ART', '/PRODUCT'), ('/WORK_OF_ART', '/SUBSTANCE'), ('/WORK_OF_ART', '/SUBSTANCE/FOOD'), ('/ORGANIZATION', '/PLANT'), ('/ORGANIZATION', '/PRODUCT'), ('/ORGANIZATION', '/SUBSTANCE'), ('/ORGANIZATION', '/SUBSTANCE/FOOD'), ('/WORK_OF_ART/BOOK', '/PLANT'), ('/WORK_OF_ART/BOOK', '/PRODUCT'), ('/WORK_OF_ART/BOOK', '/SUBSTANCE'), ('/WORK_OF_ART/BOOK', '/SUBSTANCE/FOOD')]\n",
            "['The', 'harvest', 'arrives', 'in', 'plenty', 'after', 'last', 'year', \"'s\", 'drought-ravaged', 'effort', ':', 'The', 'government', 'estimates', 'corn', 'output', 'at', '7.45', 'billion', 'bushels', ',', 'up', '51', '%', 'from', 'last', 'fall', '.']\n",
            "('/ORGANIZATION/CORPORATION', '/PLANT')\n",
            "1\n",
            "1\n",
            "['The', 'harvest', 'arrives', 'in', 'plenty', 'after', 'last', 'year', \"'s\", 'drought-ravaged', 'effort', ':', '/ORGANIZATION/CORPORATION', 'government', 'estimates', '/PLANT', 'output', 'at', '7.45', 'billion', 'bushels', ',', 'up', '51', '%', 'from', 'last', 'fall', '.']\n",
            "['The', 'harvest', 'arrives', 'in', 'plenty', 'after', 'last', 'year', \"'s\", 'drought-ravaged', 'effort', ':', 'The', 'government', 'estimates', 'corn', 'output', 'at', '7.45', 'billion', 'bushels', ',', 'up', '51', '%', 'from', 'last', 'fall', '.']\n",
            "('/ORGANIZATION/CORPORATION', '/PRODUCT')\n",
            "1\n",
            "1\n",
            "['The', 'harvest', 'arrives', 'in', 'plenty', 'after', 'last', 'year', \"'s\", 'drought-ravaged', 'effort', ':', '/ORGANIZATION/CORPORATION', 'government', 'estimates', '/PRODUCT', 'output', 'at', '7.45', 'billion', 'bushels', ',', 'up', '51', '%', 'from', 'last', 'fall', '.']\n",
            "['The', 'harvest', 'arrives', 'in', 'plenty', 'after', 'last', 'year', \"'s\", 'drought-ravaged', 'effort', ':', 'The', 'government', 'estimates', 'corn', 'output', 'at', '7.45', 'billion', 'bushels', ',', 'up', '51', '%', 'from', 'last', 'fall', '.']\n",
            "('/ORGANIZATION/CORPORATION', '/SUBSTANCE')\n",
            "1\n",
            "1\n",
            "['The', 'harvest', 'arrives', 'in', 'plenty', 'after', 'last', 'year', \"'s\", 'drought-ravaged', 'effort', ':', '/ORGANIZATION/CORPORATION', 'government', 'estimates', '/SUBSTANCE', 'output', 'at', '7.45', 'billion', 'bushels', ',', 'up', '51', '%', 'from', 'last', 'fall', '.']\n",
            "['The', 'harvest', 'arrives', 'in', 'plenty', 'after', 'last', 'year', \"'s\", 'drought-ravaged', 'effort', ':', 'The', 'government', 'estimates', 'corn', 'output', 'at', '7.45', 'billion', 'bushels', ',', 'up', '51', '%', 'from', 'last', 'fall', '.']\n",
            "('/ORGANIZATION/CORPORATION', '/SUBSTANCE/FOOD')\n",
            "1\n",
            "1\n",
            "['The', 'harvest', 'arrives', 'in', 'plenty', 'after', 'last', 'year', \"'s\", 'drought-ravaged', 'effort', ':', '/ORGANIZATION/CORPORATION', 'government', 'estimates', '/SUBSTANCE/FOOD', 'output', 'at', '7.45', 'billion', 'bushels', ',', 'up', '51', '%', 'from', 'last', 'fall', '.']\n",
            "['The', 'harvest', 'arrives', 'in', 'plenty', 'after', 'last', 'year', \"'s\", 'drought-ravaged', 'effort', ':', 'The', 'government', 'estimates', 'corn', 'output', 'at', '7.45', 'billion', 'bushels', ',', 'up', '51', '%', 'from', 'last', 'fall', '.']\n",
            "('/WORK_OF_ART', '/PLANT')\n",
            "1\n",
            "1\n",
            "['The', 'harvest', 'arrives', 'in', 'plenty', 'after', 'last', 'year', \"'s\", 'drought-ravaged', 'effort', ':', '/WORK_OF_ART', 'government', 'estimates', '/PLANT', 'output', 'at', '7.45', 'billion', 'bushels', ',', 'up', '51', '%', 'from', 'last', 'fall', '.']\n",
            "['The', 'harvest', 'arrives', 'in', 'plenty', 'after', 'last', 'year', \"'s\", 'drought-ravaged', 'effort', ':', 'The', 'government', 'estimates', 'corn', 'output', 'at', '7.45', 'billion', 'bushels', ',', 'up', '51', '%', 'from', 'last', 'fall', '.']\n",
            "('/WORK_OF_ART', '/PRODUCT')\n",
            "1\n",
            "1\n",
            "['The', 'harvest', 'arrives', 'in', 'plenty', 'after', 'last', 'year', \"'s\", 'drought-ravaged', 'effort', ':', '/WORK_OF_ART', 'government', 'estimates', '/PRODUCT', 'output', 'at', '7.45', 'billion', 'bushels', ',', 'up', '51', '%', 'from', 'last', 'fall', '.']\n",
            "['The', 'harvest', 'arrives', 'in', 'plenty', 'after', 'last', 'year', \"'s\", 'drought-ravaged', 'effort', ':', 'The', 'government', 'estimates', 'corn', 'output', 'at', '7.45', 'billion', 'bushels', ',', 'up', '51', '%', 'from', 'last', 'fall', '.']\n",
            "('/WORK_OF_ART', '/SUBSTANCE')\n",
            "1\n",
            "1\n",
            "['The', 'harvest', 'arrives', 'in', 'plenty', 'after', 'last', 'year', \"'s\", 'drought-ravaged', 'effort', ':', '/WORK_OF_ART', 'government', 'estimates', '/SUBSTANCE', 'output', 'at', '7.45', 'billion', 'bushels', ',', 'up', '51', '%', 'from', 'last', 'fall', '.']\n",
            "['The', 'harvest', 'arrives', 'in', 'plenty', 'after', 'last', 'year', \"'s\", 'drought-ravaged', 'effort', ':', 'The', 'government', 'estimates', 'corn', 'output', 'at', '7.45', 'billion', 'bushels', ',', 'up', '51', '%', 'from', 'last', 'fall', '.']\n",
            "('/WORK_OF_ART', '/SUBSTANCE/FOOD')\n",
            "1\n",
            "1\n",
            "['The', 'harvest', 'arrives', 'in', 'plenty', 'after', 'last', 'year', \"'s\", 'drought-ravaged', 'effort', ':', '/WORK_OF_ART', 'government', 'estimates', '/SUBSTANCE/FOOD', 'output', 'at', '7.45', 'billion', 'bushels', ',', 'up', '51', '%', 'from', 'last', 'fall', '.']\n",
            "['The', 'harvest', 'arrives', 'in', 'plenty', 'after', 'last', 'year', \"'s\", 'drought-ravaged', 'effort', ':', 'The', 'government', 'estimates', 'corn', 'output', 'at', '7.45', 'billion', 'bushels', ',', 'up', '51', '%', 'from', 'last', 'fall', '.']\n",
            "('/ORGANIZATION', '/PLANT')\n",
            "1\n",
            "1\n",
            "['The', 'harvest', 'arrives', 'in', 'plenty', 'after', 'last', 'year', \"'s\", 'drought-ravaged', 'effort', ':', '/ORGANIZATION', 'government', 'estimates', '/PLANT', 'output', 'at', '7.45', 'billion', 'bushels', ',', 'up', '51', '%', 'from', 'last', 'fall', '.']\n",
            "['The', 'harvest', 'arrives', 'in', 'plenty', 'after', 'last', 'year', \"'s\", 'drought-ravaged', 'effort', ':', 'The', 'government', 'estimates', 'corn', 'output', 'at', '7.45', 'billion', 'bushels', ',', 'up', '51', '%', 'from', 'last', 'fall', '.']\n",
            "('/ORGANIZATION', '/PRODUCT')\n",
            "1\n",
            "1\n",
            "['The', 'harvest', 'arrives', 'in', 'plenty', 'after', 'last', 'year', \"'s\", 'drought-ravaged', 'effort', ':', '/ORGANIZATION', 'government', 'estimates', '/PRODUCT', 'output', 'at', '7.45', 'billion', 'bushels', ',', 'up', '51', '%', 'from', 'last', 'fall', '.']\n",
            "['The', 'harvest', 'arrives', 'in', 'plenty', 'after', 'last', 'year', \"'s\", 'drought-ravaged', 'effort', ':', 'The', 'government', 'estimates', 'corn', 'output', 'at', '7.45', 'billion', 'bushels', ',', 'up', '51', '%', 'from', 'last', 'fall', '.']\n",
            "('/ORGANIZATION', '/SUBSTANCE')\n",
            "1\n",
            "1\n",
            "['The', 'harvest', 'arrives', 'in', 'plenty', 'after', 'last', 'year', \"'s\", 'drought-ravaged', 'effort', ':', '/ORGANIZATION', 'government', 'estimates', '/SUBSTANCE', 'output', 'at', '7.45', 'billion', 'bushels', ',', 'up', '51', '%', 'from', 'last', 'fall', '.']\n",
            "['The', 'harvest', 'arrives', 'in', 'plenty', 'after', 'last', 'year', \"'s\", 'drought-ravaged', 'effort', ':', 'The', 'government', 'estimates', 'corn', 'output', 'at', '7.45', 'billion', 'bushels', ',', 'up', '51', '%', 'from', 'last', 'fall', '.']\n",
            "('/ORGANIZATION', '/SUBSTANCE/FOOD')\n",
            "1\n",
            "1\n",
            "['The', 'harvest', 'arrives', 'in', 'plenty', 'after', 'last', 'year', \"'s\", 'drought-ravaged', 'effort', ':', '/ORGANIZATION', 'government', 'estimates', '/SUBSTANCE/FOOD', 'output', 'at', '7.45', 'billion', 'bushels', ',', 'up', '51', '%', 'from', 'last', 'fall', '.']\n",
            "['The', 'harvest', 'arrives', 'in', 'plenty', 'after', 'last', 'year', \"'s\", 'drought-ravaged', 'effort', ':', 'The', 'government', 'estimates', 'corn', 'output', 'at', '7.45', 'billion', 'bushels', ',', 'up', '51', '%', 'from', 'last', 'fall', '.']\n",
            "('/WORK_OF_ART/BOOK', '/PLANT')\n",
            "1\n",
            "1\n",
            "['The', 'harvest', 'arrives', 'in', 'plenty', 'after', 'last', 'year', \"'s\", 'drought-ravaged', 'effort', ':', '/WORK_OF_ART/BOOK', 'government', 'estimates', '/PLANT', 'output', 'at', '7.45', 'billion', 'bushels', ',', 'up', '51', '%', 'from', 'last', 'fall', '.']\n",
            "['The', 'harvest', 'arrives', 'in', 'plenty', 'after', 'last', 'year', \"'s\", 'drought-ravaged', 'effort', ':', 'The', 'government', 'estimates', 'corn', 'output', 'at', '7.45', 'billion', 'bushels', ',', 'up', '51', '%', 'from', 'last', 'fall', '.']\n",
            "('/WORK_OF_ART/BOOK', '/PRODUCT')\n",
            "1\n",
            "1\n",
            "['The', 'harvest', 'arrives', 'in', 'plenty', 'after', 'last', 'year', \"'s\", 'drought-ravaged', 'effort', ':', '/WORK_OF_ART/BOOK', 'government', 'estimates', '/PRODUCT', 'output', 'at', '7.45', 'billion', 'bushels', ',', 'up', '51', '%', 'from', 'last', 'fall', '.']\n",
            "['The', 'harvest', 'arrives', 'in', 'plenty', 'after', 'last', 'year', \"'s\", 'drought-ravaged', 'effort', ':', 'The', 'government', 'estimates', 'corn', 'output', 'at', '7.45', 'billion', 'bushels', ',', 'up', '51', '%', 'from', 'last', 'fall', '.']\n",
            "('/WORK_OF_ART/BOOK', '/SUBSTANCE')\n",
            "1\n",
            "1\n",
            "['The', 'harvest', 'arrives', 'in', 'plenty', 'after', 'last', 'year', \"'s\", 'drought-ravaged', 'effort', ':', '/WORK_OF_ART/BOOK', 'government', 'estimates', '/SUBSTANCE', 'output', 'at', '7.45', 'billion', 'bushels', ',', 'up', '51', '%', 'from', 'last', 'fall', '.']\n",
            "['The', 'harvest', 'arrives', 'in', 'plenty', 'after', 'last', 'year', \"'s\", 'drought-ravaged', 'effort', ':', 'The', 'government', 'estimates', 'corn', 'output', 'at', '7.45', 'billion', 'bushels', ',', 'up', '51', '%', 'from', 'last', 'fall', '.']\n",
            "('/WORK_OF_ART/BOOK', '/SUBSTANCE/FOOD')\n",
            "1\n",
            "1\n",
            "['The', 'harvest', 'arrives', 'in', 'plenty', 'after', 'last', 'year', \"'s\", 'drought-ravaged', 'effort', ':', '/WORK_OF_ART/BOOK', 'government', 'estimates', '/SUBSTANCE/FOOD', 'output', 'at', '7.45', 'billion', 'bushels', ',', 'up', '51', '%', 'from', 'last', 'fall', '.']\n",
            "[({'start': 0, 'labels': ['/PLANT', '/PRODUCT', '/SUBSTANCE', '/SUBSTANCE/FOOD'], 'end': 1}, {'start': 2, 'labels': ['/DISEASE'], 'end': 3})]\n",
            "[('/PLANT', '/DISEASE'), ('/PRODUCT', '/DISEASE'), ('/SUBSTANCE', '/DISEASE'), ('/SUBSTANCE/FOOD', '/DISEASE')]\n",
            "['Soybean', 'production', 'swells', '24', '%', '.']\n",
            "('/PLANT', '/DISEASE')\n",
            "1\n",
            "1\n",
            "['/PLANT', 'production', '/DISEASE', '24', '%', '.']\n",
            "['Soybean', 'production', 'swells', '24', '%', '.']\n",
            "('/PRODUCT', '/DISEASE')\n",
            "1\n",
            "1\n",
            "['/PRODUCT', 'production', '/DISEASE', '24', '%', '.']\n",
            "['Soybean', 'production', 'swells', '24', '%', '.']\n",
            "('/SUBSTANCE', '/DISEASE')\n",
            "1\n",
            "1\n",
            "['/SUBSTANCE', 'production', '/DISEASE', '24', '%', '.']\n",
            "['Soybean', 'production', 'swells', '24', '%', '.']\n",
            "('/SUBSTANCE/FOOD', '/DISEASE')\n",
            "1\n",
            "1\n",
            "['/SUBSTANCE/FOOD', 'production', '/DISEASE', '24', '%', '.']\n",
            "[({'start': 0, 'labels': ['/SUBSTANCE/CHEMICAL', '/SUBSTANCE'], 'end': 1}, {'start': 2, 'labels': ['/GAME'], 'end': 3}, {'start': 23, 'labels': ['/PLANT', '/ANIMAL'], 'end': 25})]\n",
            "[('/SUBSTANCE/CHEMICAL', '/GAME', '/PLANT'), ('/SUBSTANCE/CHEMICAL', '/GAME', '/ANIMAL'), ('/SUBSTANCE', '/GAME', '/PLANT'), ('/SUBSTANCE', '/GAME', '/ANIMAL')]\n",
            "['As', 'a', 'result', ',', 'prices', 'paid', 'to', 'farmers', 'for', 'the', 'commodities', ',', 'which', 'are', 'used', 'in', 'products', 'as', 'diverse', 'as', 'bubble', 'gum', 'and', 'chicken', 'feed', ',', 'plummet', '20', '%', 'to', '33', '%', '.']\n",
            "('/SUBSTANCE/CHEMICAL', '/GAME', '/PLANT')\n",
            "1\n",
            "1\n",
            "2\n",
            "['/SUBSTANCE/CHEMICAL', 'a', '/GAME', ',', 'prices', 'paid', 'to', 'farmers', 'for', 'the', 'commodities', ',', 'which', 'are', 'used', 'in', 'products', 'as', 'diverse', 'as', 'bubble', 'gum', 'and', '/PLANT', ',', 'plummet', '20', '%', 'to', '33', '%', '.']\n",
            "['As', 'a', 'result', ',', 'prices', 'paid', 'to', 'farmers', 'for', 'the', 'commodities', ',', 'which', 'are', 'used', 'in', 'products', 'as', 'diverse', 'as', 'bubble', 'gum', 'and', 'chicken', 'feed', ',', 'plummet', '20', '%', 'to', '33', '%', '.']\n",
            "('/SUBSTANCE/CHEMICAL', '/GAME', '/ANIMAL')\n",
            "1\n",
            "1\n",
            "2\n",
            "['/SUBSTANCE/CHEMICAL', 'a', '/GAME', ',', 'prices', 'paid', 'to', 'farmers', 'for', 'the', 'commodities', ',', 'which', 'are', 'used', 'in', 'products', 'as', 'diverse', 'as', 'bubble', 'gum', 'and', '/ANIMAL', ',', 'plummet', '20', '%', 'to', '33', '%', '.']\n",
            "['As', 'a', 'result', ',', 'prices', 'paid', 'to', 'farmers', 'for', 'the', 'commodities', ',', 'which', 'are', 'used', 'in', 'products', 'as', 'diverse', 'as', 'bubble', 'gum', 'and', 'chicken', 'feed', ',', 'plummet', '20', '%', 'to', '33', '%', '.']\n",
            "('/SUBSTANCE', '/GAME', '/PLANT')\n",
            "1\n",
            "1\n",
            "2\n",
            "['/SUBSTANCE', 'a', '/GAME', ',', 'prices', 'paid', 'to', 'farmers', 'for', 'the', 'commodities', ',', 'which', 'are', 'used', 'in', 'products', 'as', 'diverse', 'as', 'bubble', 'gum', 'and', '/PLANT', ',', 'plummet', '20', '%', 'to', '33', '%', '.']\n",
            "['As', 'a', 'result', ',', 'prices', 'paid', 'to', 'farmers', 'for', 'the', 'commodities', ',', 'which', 'are', 'used', 'in', 'products', 'as', 'diverse', 'as', 'bubble', 'gum', 'and', 'chicken', 'feed', ',', 'plummet', '20', '%', 'to', '33', '%', '.']\n",
            "('/SUBSTANCE', '/GAME', '/ANIMAL')\n",
            "1\n",
            "1\n",
            "2\n",
            "['/SUBSTANCE', 'a', '/GAME', ',', 'prices', 'paid', 'to', 'farmers', 'for', 'the', 'commodities', ',', 'which', 'are', 'used', 'in', 'products', 'as', 'diverse', 'as', 'bubble', 'gum', 'and', '/ANIMAL', ',', 'plummet', '20', '%', 'to', '33', '%', '.']\n",
            "[({'start': 0, 'labels': ['/PRODUCT', '/SUBSTANCE', '/SUBSTANCE/FOOD'], 'end': 1}, {'start': 19, 'labels': ['/PLANT', '/ANIMAL'], 'end': 20})]\n",
            "[('/PRODUCT', '/PLANT'), ('/PRODUCT', '/ANIMAL'), ('/SUBSTANCE', '/PLANT'), ('/SUBSTANCE', '/ANIMAL'), ('/SUBSTANCE/FOOD', '/PLANT'), ('/SUBSTANCE/FOOD', '/ANIMAL')]\n",
            "['Beef', 'prices', ',', 'hovering', 'near', 'records', 'since', 'the', 'drought', ',', 'could', 'drop', 'in', 'earnest', 'this', 'winter', 'if', 'ranchers', 'expand', 'herds', '.']\n",
            "('/PRODUCT', '/PLANT')\n",
            "1\n",
            "1\n",
            "['/PRODUCT', 'prices', ',', 'hovering', 'near', 'records', 'since', 'the', 'drought', ',', 'could', 'drop', 'in', 'earnest', 'this', 'winter', 'if', 'ranchers', 'expand', '/PLANT', '.']\n",
            "['Beef', 'prices', ',', 'hovering', 'near', 'records', 'since', 'the', 'drought', ',', 'could', 'drop', 'in', 'earnest', 'this', 'winter', 'if', 'ranchers', 'expand', 'herds', '.']\n",
            "('/PRODUCT', '/ANIMAL')\n",
            "1\n",
            "1\n",
            "['/PRODUCT', 'prices', ',', 'hovering', 'near', 'records', 'since', 'the', 'drought', ',', 'could', 'drop', 'in', 'earnest', 'this', 'winter', 'if', 'ranchers', 'expand', '/ANIMAL', '.']\n",
            "['Beef', 'prices', ',', 'hovering', 'near', 'records', 'since', 'the', 'drought', ',', 'could', 'drop', 'in', 'earnest', 'this', 'winter', 'if', 'ranchers', 'expand', 'herds', '.']\n",
            "('/SUBSTANCE', '/PLANT')\n",
            "1\n",
            "1\n",
            "['/SUBSTANCE', 'prices', ',', 'hovering', 'near', 'records', 'since', 'the', 'drought', ',', 'could', 'drop', 'in', 'earnest', 'this', 'winter', 'if', 'ranchers', 'expand', '/PLANT', '.']\n",
            "['Beef', 'prices', ',', 'hovering', 'near', 'records', 'since', 'the', 'drought', ',', 'could', 'drop', 'in', 'earnest', 'this', 'winter', 'if', 'ranchers', 'expand', 'herds', '.']\n",
            "('/SUBSTANCE', '/ANIMAL')\n",
            "1\n",
            "1\n",
            "['/SUBSTANCE', 'prices', ',', 'hovering', 'near', 'records', 'since', 'the', 'drought', ',', 'could', 'drop', 'in', 'earnest', 'this', 'winter', 'if', 'ranchers', 'expand', '/ANIMAL', '.']\n",
            "['Beef', 'prices', ',', 'hovering', 'near', 'records', 'since', 'the', 'drought', ',', 'could', 'drop', 'in', 'earnest', 'this', 'winter', 'if', 'ranchers', 'expand', 'herds', '.']\n",
            "('/SUBSTANCE/FOOD', '/PLANT')\n",
            "1\n",
            "1\n",
            "['/SUBSTANCE/FOOD', 'prices', ',', 'hovering', 'near', 'records', 'since', 'the', 'drought', ',', 'could', 'drop', 'in', 'earnest', 'this', 'winter', 'if', 'ranchers', 'expand', '/PLANT', '.']\n",
            "['Beef', 'prices', ',', 'hovering', 'near', 'records', 'since', 'the', 'drought', ',', 'could', 'drop', 'in', 'earnest', 'this', 'winter', 'if', 'ranchers', 'expand', 'herds', '.']\n",
            "('/SUBSTANCE/FOOD', '/ANIMAL')\n",
            "1\n",
            "1\n",
            "['/SUBSTANCE/FOOD', 'prices', ',', 'hovering', 'near', 'records', 'since', 'the', 'drought', ',', 'could', 'drop', 'in', 'earnest', 'this', 'winter', 'if', 'ranchers', 'expand', '/ANIMAL', '.']\n",
            "[({'start': 0, 'labels': ['/LOCATION'], 'end': 1}, {'start': 11, 'labels': ['/PLANT'], 'end': 12})]\n",
            "[('/LOCATION', '/PLANT')]\n",
            "['Lower', 'feed', 'prices', 'may', 'help', 'animals', 'eat', 'more', 'cheaply', ',', 'but', 'humans', 'have', 'to', 'factor', 'in', 'an', 'expensive', 'middleman', ':', 'the', 'processor', '.']\n",
            "('/LOCATION', '/PLANT')\n",
            "1\n",
            "1\n",
            "['/LOCATION', 'feed', 'prices', 'may', 'help', 'animals', 'eat', 'more', 'cheaply', ',', 'but', '/PLANT', 'have', 'to', 'factor', 'in', 'an', 'expensive', 'middleman', ':', 'the', 'processor', '.']\n",
            "[({'start': 3, 'labels': ['/SUBSTANCE/DRUG', '/SUBSTANCE'], 'end': 4}, {'start': 9, 'labels': ['/PLANT', '/PRODUCT', '/SUBSTANCE', '/SUBSTANCE/FOOD'], 'end': 10})]\n",
            "[('/SUBSTANCE/DRUG', '/PLANT'), ('/SUBSTANCE/DRUG', '/PRODUCT'), ('/SUBSTANCE/DRUG', '/SUBSTANCE'), ('/SUBSTANCE/DRUG', '/SUBSTANCE/FOOD'), ('/SUBSTANCE', '/PLANT'), ('/SUBSTANCE', '/PRODUCT'), ('/SUBSTANCE', '/SUBSTANCE'), ('/SUBSTANCE', '/SUBSTANCE/FOOD')]\n",
            "['Stokely', 'says', 'stores', 'revive', 'specials', 'like', 'three', 'cans', 'of', 'peas', 'for', '99', 'cents', '.']\n",
            "('/SUBSTANCE/DRUG', '/PLANT')\n",
            "1\n",
            "1\n",
            "['Stokely', 'says', 'stores', '/SUBSTANCE/DRUG', 'specials', 'like', 'three', 'cans', 'of', '/PLANT', 'for', '99', 'cents', '.']\n",
            "['Stokely', 'says', 'stores', 'revive', 'specials', 'like', 'three', 'cans', 'of', 'peas', 'for', '99', 'cents', '.']\n",
            "('/SUBSTANCE/DRUG', '/PRODUCT')\n",
            "1\n",
            "1\n",
            "['Stokely', 'says', 'stores', '/SUBSTANCE/DRUG', 'specials', 'like', 'three', 'cans', 'of', '/PRODUCT', 'for', '99', 'cents', '.']\n",
            "['Stokely', 'says', 'stores', 'revive', 'specials', 'like', 'three', 'cans', 'of', 'peas', 'for', '99', 'cents', '.']\n",
            "('/SUBSTANCE/DRUG', '/SUBSTANCE')\n",
            "1\n",
            "1\n",
            "['Stokely', 'says', 'stores', '/SUBSTANCE/DRUG', 'specials', 'like', 'three', 'cans', 'of', '/SUBSTANCE', 'for', '99', 'cents', '.']\n",
            "['Stokely', 'says', 'stores', 'revive', 'specials', 'like', 'three', 'cans', 'of', 'peas', 'for', '99', 'cents', '.']\n",
            "('/SUBSTANCE/DRUG', '/SUBSTANCE/FOOD')\n",
            "1\n",
            "1\n",
            "['Stokely', 'says', 'stores', '/SUBSTANCE/DRUG', 'specials', 'like', 'three', 'cans', 'of', '/SUBSTANCE/FOOD', 'for', '99', 'cents', '.']\n",
            "['Stokely', 'says', 'stores', 'revive', 'specials', 'like', 'three', 'cans', 'of', 'peas', 'for', '99', 'cents', '.']\n",
            "('/SUBSTANCE', '/PLANT')\n",
            "1\n",
            "1\n",
            "['Stokely', 'says', 'stores', '/SUBSTANCE', 'specials', 'like', 'three', 'cans', 'of', '/PLANT', 'for', '99', 'cents', '.']\n",
            "['Stokely', 'says', 'stores', 'revive', 'specials', 'like', 'three', 'cans', 'of', 'peas', 'for', '99', 'cents', '.']\n",
            "('/SUBSTANCE', '/PRODUCT')\n",
            "1\n",
            "1\n",
            "['Stokely', 'says', 'stores', '/SUBSTANCE', 'specials', 'like', 'three', 'cans', 'of', '/PRODUCT', 'for', '99', 'cents', '.']\n",
            "['Stokely', 'says', 'stores', 'revive', 'specials', 'like', 'three', 'cans', 'of', 'peas', 'for', '99', 'cents', '.']\n",
            "('/SUBSTANCE', '/SUBSTANCE')\n",
            "1\n",
            "1\n",
            "['Stokely', 'says', 'stores', '/SUBSTANCE', 'specials', 'like', 'three', 'cans', 'of', '/SUBSTANCE', 'for', '99', 'cents', '.']\n",
            "['Stokely', 'says', 'stores', 'revive', 'specials', 'like', 'three', 'cans', 'of', 'peas', 'for', '99', 'cents', '.']\n",
            "('/SUBSTANCE', '/SUBSTANCE/FOOD')\n",
            "1\n",
            "1\n",
            "['Stokely', 'says', 'stores', '/SUBSTANCE', 'specials', 'like', 'three', 'cans', 'of', '/SUBSTANCE/FOOD', 'for', '99', 'cents', '.']\n",
            "[({'start': 0, 'labels': ['/PERSON'], 'end': 1}, {'start': 1, 'labels': ['/GPE/CITY', '/GPE', '/LOCATION'], 'end': 2}, {'start': 3, 'labels': ['/SUBSTANCE'], 'end': 4})]\n",
            "[('/PERSON', '/GPE/CITY', '/SUBSTANCE'), ('/PERSON', '/GPE', '/SUBSTANCE'), ('/PERSON', '/LOCATION', '/SUBSTANCE')]\n",
            "['IF', 'IN', 'VITRO', 'fertilization', 'works', ',', 'it', 'usually', 'does', 'so', 'after', 'only', 'a', 'few', 'tries', '.']\n",
            "('/PERSON', '/GPE/CITY', '/SUBSTANCE')\n",
            "1\n",
            "1\n",
            "1\n",
            "['/PERSON', '/GPE/CITY', 'VITRO', '/SUBSTANCE', 'works', ',', 'it', 'usually', 'does', 'so', 'after', 'only', 'a', 'few', 'tries', '.']\n",
            "['IF', 'IN', 'VITRO', 'fertilization', 'works', ',', 'it', 'usually', 'does', 'so', 'after', 'only', 'a', 'few', 'tries', '.']\n",
            "('/PERSON', '/GPE', '/SUBSTANCE')\n",
            "1\n",
            "1\n",
            "1\n",
            "['/PERSON', '/GPE', 'VITRO', '/SUBSTANCE', 'works', ',', 'it', 'usually', 'does', 'so', 'after', 'only', 'a', 'few', 'tries', '.']\n",
            "['IF', 'IN', 'VITRO', 'fertilization', 'works', ',', 'it', 'usually', 'does', 'so', 'after', 'only', 'a', 'few', 'tries', '.']\n",
            "('/PERSON', '/LOCATION', '/SUBSTANCE')\n",
            "1\n",
            "1\n",
            "1\n",
            "['/PERSON', '/LOCATION', 'VITRO', '/SUBSTANCE', 'works', ',', 'it', 'usually', 'does', 'so', 'after', 'only', 'a', 'few', 'tries', '.']\n",
            "[({'start': 1, 'labels': ['/DISEASE'], 'end': 2}, {'start': 8, 'labels': ['/EVENT'], 'end': 10})]\n",
            "[('/DISEASE', '/EVENT')]\n",
            "['Costly', 'infertility', 'problems', 'and', 'procedures', 'proliferate', 'as', 'aging', 'baby', 'boomers', 'and', 'others', 'decide', 'to', 'have', 'children', '--', 'now', '.']\n",
            "('/DISEASE', '/EVENT')\n",
            "1\n",
            "2\n",
            "['Costly', '/DISEASE', 'problems', 'and', 'procedures', 'proliferate', 'as', 'aging', '/EVENT', 'and', 'others', 'decide', 'to', 'have', 'children', '--', 'now', '.']\n"
          ],
          "name": "stdout"
        },
        {
          "output_type": "stream",
          "text": [
            "\n"
          ],
          "name": "stderr"
        }
      ]
    },
    {
      "cell_type": "code",
      "metadata": {
        "id": "O_4McoLp3IyC",
        "colab": {
          "base_uri": "https://localhost:8080/",
          "height": 351
        },
        "outputId": "4a6d4617-1118-4896-c2f2-38d6c8f18cb1"
      },
      "source": [
        "#open(path_corpus_data + 'corpus_data_bbn.txt', \"w\").write(' '.join(phrase) + '\\n')"
      ],
      "execution_count": null,
      "outputs": [
        {
          "output_type": "error",
          "ename": "KeyboardInterrupt",
          "evalue": "ignored",
          "traceback": [
            "\u001b[0;31m---------------------------------------------------------------------------\u001b[0m",
            "\u001b[0;31mKeyboardInterrupt\u001b[0m                         Traceback (most recent call last)",
            "\u001b[0;32m<ipython-input-13-2fb6b9cf928d>\u001b[0m in \u001b[0;36m<module>\u001b[0;34m()\u001b[0m\n\u001b[1;32m     21\u001b[0m         \u001b[0mphrase\u001b[0m\u001b[0;34m[\u001b[0m\u001b[0mi\u001b[0m\u001b[0;34m[\u001b[0m\u001b[0;34m'mentions'\u001b[0m\u001b[0;34m]\u001b[0m\u001b[0;34m[\u001b[0m\u001b[0mh\u001b[0m\u001b[0;34m]\u001b[0m\u001b[0;34m[\u001b[0m\u001b[0;34m'start'\u001b[0m\u001b[0;34m]\u001b[0m\u001b[0;34m]\u001b[0m \u001b[0;34m=\u001b[0m \u001b[0mp\u001b[0m\u001b[0;34m[\u001b[0m\u001b[0mh\u001b[0m\u001b[0;34m]\u001b[0m\u001b[0;34m\u001b[0m\u001b[0;34m\u001b[0m\u001b[0m\n\u001b[1;32m     22\u001b[0m         \u001b[0mrestricted_set\u001b[0m\u001b[0;34m.\u001b[0m\u001b[0madd\u001b[0m\u001b[0;34m(\u001b[0m\u001b[0mp\u001b[0m\u001b[0;34m[\u001b[0m\u001b[0mh\u001b[0m\u001b[0;34m]\u001b[0m\u001b[0;34m)\u001b[0m\u001b[0;34m\u001b[0m\u001b[0;34m\u001b[0m\u001b[0m\n\u001b[0;32m---> 23\u001b[0;31m       \u001b[0mopen\u001b[0m\u001b[0;34m(\u001b[0m\u001b[0mpath_corpus_data\u001b[0m \u001b[0;34m+\u001b[0m \u001b[0;34m'corpus_data_bbn.txt'\u001b[0m\u001b[0;34m,\u001b[0m \u001b[0;34m\"w\"\u001b[0m\u001b[0;34m)\u001b[0m\u001b[0;34m.\u001b[0m\u001b[0mwrite\u001b[0m\u001b[0;34m(\u001b[0m\u001b[0;34m' '\u001b[0m\u001b[0;34m.\u001b[0m\u001b[0mjoin\u001b[0m\u001b[0;34m(\u001b[0m\u001b[0mphrase\u001b[0m\u001b[0;34m)\u001b[0m \u001b[0;34m+\u001b[0m \u001b[0;34m'\\n'\u001b[0m\u001b[0;34m)\u001b[0m\u001b[0;34m\u001b[0m\u001b[0;34m\u001b[0m\u001b[0m\n\u001b[0m\u001b[1;32m     24\u001b[0m       \u001b[0;32mdel\u001b[0m \u001b[0mphrase\u001b[0m\u001b[0;34m\u001b[0m\u001b[0;34m\u001b[0m\u001b[0m\n\u001b[1;32m     25\u001b[0m \u001b[0;34m\u001b[0m\u001b[0m\n",
            "\u001b[0;32m/usr/lib/python3.7/_bootlocale.py\u001b[0m in \u001b[0;36mgetpreferredencoding\u001b[0;34m(do_setlocale)\u001b[0m\n\u001b[1;32m     31\u001b[0m                 \u001b[0;32mreturn\u001b[0m \u001b[0mlocale\u001b[0m\u001b[0;34m.\u001b[0m\u001b[0mgetpreferredencoding\u001b[0m\u001b[0;34m(\u001b[0m\u001b[0mdo_setlocale\u001b[0m\u001b[0;34m)\u001b[0m\u001b[0;34m\u001b[0m\u001b[0;34m\u001b[0m\u001b[0m\n\u001b[1;32m     32\u001b[0m     \u001b[0;32melse\u001b[0m\u001b[0;34m:\u001b[0m\u001b[0;34m\u001b[0m\u001b[0;34m\u001b[0m\u001b[0m\n\u001b[0;32m---> 33\u001b[0;31m         \u001b[0;32mdef\u001b[0m \u001b[0mgetpreferredencoding\u001b[0m\u001b[0;34m(\u001b[0m\u001b[0mdo_setlocale\u001b[0m\u001b[0;34m=\u001b[0m\u001b[0;32mTrue\u001b[0m\u001b[0;34m)\u001b[0m\u001b[0;34m:\u001b[0m\u001b[0;34m\u001b[0m\u001b[0;34m\u001b[0m\u001b[0m\n\u001b[0m\u001b[1;32m     34\u001b[0m             \u001b[0;32massert\u001b[0m \u001b[0;32mnot\u001b[0m \u001b[0mdo_setlocale\u001b[0m\u001b[0;34m\u001b[0m\u001b[0;34m\u001b[0m\u001b[0m\n\u001b[1;32m     35\u001b[0m             \u001b[0;32mif\u001b[0m \u001b[0msys\u001b[0m\u001b[0;34m.\u001b[0m\u001b[0mflags\u001b[0m\u001b[0;34m.\u001b[0m\u001b[0mutf8_mode\u001b[0m\u001b[0;34m:\u001b[0m\u001b[0;34m\u001b[0m\u001b[0;34m\u001b[0m\u001b[0m\n",
            "\u001b[0;31mKeyboardInterrupt\u001b[0m: "
          ]
        }
      ]
    },
    {
      "cell_type": "code",
      "metadata": {
        "id": "quJ-reGZnRR-"
      },
      "source": [
        "restricted_list = list(restricted_set)"
      ],
      "execution_count": null,
      "outputs": []
    },
    {
      "cell_type": "code",
      "metadata": {
        "id": "0JX5BYuFcN08"
      },
      "source": [
        "import pickle\n",
        "with open(path_corpus_data + 'restricted_list_bbn.pkl', 'wb') as fp:\n",
        "  pickle.dump(restricted_list, fp)"
      ],
      "execution_count": null,
      "outputs": []
    }
  ]
}