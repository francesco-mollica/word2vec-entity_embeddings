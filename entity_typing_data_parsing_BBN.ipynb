{
  "nbformat": 4,
  "nbformat_minor": 0,
  "metadata": {
    "kernelspec": {
      "display_name": "Python 3",
      "language": "python",
      "name": "python3"
    },
    "language_info": {
      "codemirror_mode": {
        "name": "ipython",
        "version": 3
      },
      "file_extension": ".py",
      "mimetype": "text/x-python",
      "name": "python",
      "nbconvert_exporter": "python",
      "pygments_lexer": "ipython3",
      "version": "3.6.9"
    },
    "colab": {
      "name": "entity_typing_data_parsing_BBN.ipynb",
      "provenance": [],
      "collapsed_sections": []
    }
  },
  "cells": [
    {
      "cell_type": "code",
      "metadata": {
        "id": "MKL7Wwcj3pSj",
        "colab": {
          "base_uri": "https://localhost:8080/"
        },
        "outputId": "56ec61ba-6041-4576-f2d9-7f09aefd8f55"
      },
      "source": [
        "from google.colab import drive\n",
        "drive.mount('/content/drive/', force_remount=True)\n",
        "root_dir = \"/content/drive/MyDrive/\"\n",
        "base_dir = root_dir + \"tesi_magistrale/datasets/to_zip/\"\n",
        "path_corpus_data = root_dir + \"tesi_magistrale/datasets/corpus_data_folder/\"\n",
        "bbn_path = base_dir + \"BBN/BBN/\""
      ],
      "execution_count": 1,
      "outputs": [
        {
          "output_type": "stream",
          "text": [
            "Mounted at /content/drive/\n"
          ],
          "name": "stdout"
        }
      ]
    },
    {
      "cell_type": "code",
      "metadata": {
        "id": "Hm6RoPKn3IyB"
      },
      "source": [
        "import json\n",
        "\n",
        "with open(bbn_path + \"train.json\", 'r') as inp:\n",
        "    examples_train = [json.loads(l) for l in inp.readlines()]"
      ],
      "execution_count": 2,
      "outputs": []
    },
    {
      "cell_type": "code",
      "metadata": {
        "colab": {
          "base_uri": "https://localhost:8080/"
        },
        "id": "-66bcSCfxoIo",
        "outputId": "e0cab5ea-35fd-4db9-efb2-4c0479cb23db"
      },
      "source": [
        "print(\"il dataset train contiene \",len(examples_train), \"elementi\")"
      ],
      "execution_count": 3,
      "outputs": [
        {
          "output_type": "stream",
          "text": [
            "il dataset train contiene  32739 elementi\n"
          ],
          "name": "stdout"
        }
      ]
    },
    {
      "cell_type": "code",
      "metadata": {
        "id": "sxwS35kZN_AY"
      },
      "source": [
        "# print(len(examples_train[14535]['mentions']))\n",
        "# print(len(examples_train[14535]['tokens']))\n",
        "# prod = 1\n",
        "# sum=0\n",
        "# for elem in examples_train[14535]['mentions']:\n",
        "#    prod *= len(elem)\n",
        "#    sum+=len(elem)\n",
        "\n",
        "# print(prod)\n",
        "# print(sum/len(examples_train[14535]['mentions']))"
      ],
      "execution_count": 4,
      "outputs": []
    },
    {
      "cell_type": "code",
      "metadata": {
        "id": "Gmut0vnRKOiq"
      },
      "source": [
        "# rimuovo elemento 14535, caso problematico in cui generare tutte le permutazioni della frase avrebbe generato 7625597484987 frasi.\n",
        "# questo elemento è una frase con 77 tokens, di cui 27 menzioni con ciascuna in media 3 tipi\n",
        "# del examples_train[14535]\n",
        "examples_iter = iter(examples_train)"
      ],
      "execution_count": 4,
      "outputs": []
    },
    {
      "cell_type": "code",
      "metadata": {
        "id": "ns1R03kY2dKW"
      },
      "source": [
        "#examples_iter = iter(examples_train[len(examples_train)//2:len(examples_train)+1])"
      ],
      "execution_count": 6,
      "outputs": []
    },
    {
      "cell_type": "code",
      "metadata": {
        "id": "nUW2u1y0LDgy"
      },
      "source": [
        "def get_permutations(i, threshold):\n",
        "\n",
        "  d = sorted(i, key=operator.itemgetter(\"start\"))\n",
        "  d = {k: list(v) for k, v in itertools.groupby(d, key=operator.itemgetter(\"start\"))}\n",
        "\n",
        "  all_list=[]\n",
        "  for key, value in d.items():\n",
        "    all_list.append(value)\n",
        "\n",
        "  p = list(itertools.product(*all_list))\n",
        "\n",
        "  sum=0\n",
        "  for per in p:\n",
        "    prod=1\n",
        "    for i in per:\n",
        "      prod*= len(i)\n",
        "    sum+=prod\n",
        "\n",
        "  if (sum>threshold):\n",
        "    return [], [], sum\n",
        "  else:\n",
        "\n",
        "    total_perm=[]\n",
        "    count_perm=0\n",
        "    for per in p:\n",
        "      mini_list = []\n",
        "      for lista_labels in per:\n",
        "        mini_list.append(lista_labels['labels'])\n",
        "\n",
        "      p2 = list(itertools.product(*mini_list))\n",
        "      total_perm.append(p2)\n",
        "\n",
        "    return total_perm.copy(), p.copy(), sum\n",
        "\n",
        "\n",
        "\n",
        "\n"
      ],
      "execution_count": 5,
      "outputs": []
    },
    {
      "cell_type": "code",
      "metadata": {
        "id": "r8aGBivW8Hpm",
        "colab": {
          "base_uri": "https://localhost:8080/"
        },
        "outputId": "5e91e1e9-b743-413d-c46c-8fbc09e1604d"
      },
      "source": [
        "import operator\n",
        "import itertools\n",
        "from tqdm import tqdm\n",
        "from gensim.parsing.preprocessing import remove_stopwords\n",
        "import json\n",
        "\n",
        "perm_a_priori=[]\n",
        "perm_effettive=[]\n",
        "sottostime=[]\n",
        "lunghezze={\n",
        "    'minori=_10':0,\n",
        "    'maggiori_10_minori=20':0,\n",
        "    'maggiori_20_minori=50':0,\n",
        "    'maggiori_50_minori=100':0,\n",
        "    'maggiori_100_minori=200':0,\n",
        "    'maggiori_200':0,\n",
        "    'sottostimate': 0,\n",
        "    'sovrastimate': 0,\n",
        "    'frasi_con_overlap':0,\n",
        "}\n",
        "\n",
        "fp = open(path_corpus_data + 'corpus_data_entire_bbn.txt', \"w\")\n",
        "restricted_set = set()\n",
        "\n",
        "for num,i in enumerate(tqdm(examples_iter)):\n",
        "  dizionario_permutations = {'pos':num, 'num': 0,'istanza':i}\n",
        "  istance = i['mentions'][:]\n",
        "  if len(istance)>1:\n",
        "    \n",
        "    permutations_2, permutations, num_permutations = get_permutations(istance, 20)\n",
        "    \n",
        "    dizionario_permutations['num'] = num_permutations\n",
        "    \n",
        "\n",
        "    iteri=0\n",
        "\n",
        "    for p_1 in permutations:\n",
        "      for p_2 in iter(permutations_2[iteri]):\n",
        "        \n",
        "        phrase = i['tokens'][:]\n",
        "        num_pop=0\n",
        "        for h in range(0, len(p_2)):\n",
        "          start = permutations[iteri][h]['start']\n",
        "          end = permutations[iteri][h]['end']\n",
        "\n",
        "          phrase[start-num_pop:end-num_pop] = [p_2[h]]\n",
        "          if((end-start)>1):\n",
        "            num_pop += (end - start) - 1\n",
        "\n",
        "          restricted_set.add(p_2[h])\n",
        "\n",
        "        \n",
        "        fp.write((remove_stopwords(' '.join(phrase)) + '\\n'))\n",
        "\n",
        "      iteri+=1\n",
        "    \n",
        "  else:\n",
        "    dizionario_permutations['num'] = len(istance[0]['labels'])\n",
        "    for k in istance[0]['labels']:\n",
        "      phrase = i['tokens'][:]\n",
        "      if (i['mentions'][0]['end'] - i['mentions'][0]['start'] ==1):          \n",
        "        phrase[i['mentions'][0]['start']] = k\n",
        "        restricted_set.add(k)\n",
        "      else:\n",
        "        phrase[i['mentions'][0]['start']:i['mentions'][0]['end']] = [k]\n",
        "        restricted_set.add(k)\n",
        "\n",
        "      fp.write((remove_stopwords(' '.join(phrase)) + '\\n'))\n",
        "  \n",
        "  with open(path_corpus_data + 'data.json', 'a') as fp_1:\n",
        "      json.dump(dizionario_permutations, fp_1)\n",
        "\n",
        "fp.close()"
      ],
      "execution_count": 6,
      "outputs": [
        {
          "output_type": "stream",
          "text": [
            "32739it [02:00, 272.12it/s]\n"
          ],
          "name": "stderr"
        }
      ]
    },
    {
      "cell_type": "code",
      "metadata": {
        "id": "7xiKIObkDfxu",
        "outputId": "2fd9cc1a-a3b3-4d50-f5d4-8a4e9bc61455",
        "colab": {
          "base_uri": "https://localhost:8080/"
        }
      },
      "source": [
        "dizionario = {0:[[1,2,7],[3,4,8]], 1: [[5,6]], 2:[[1,2],[3,4]] }\n",
        "\n",
        "num_permutations = 0\n",
        "#for key,value in dizionario.items():\n",
        "  #if len(list(value))>1:\n",
        "    #print(key ,'->', value)\n",
        "  #else:\n",
        "    #print(\"sono lunga uno\")\n",
        "\n",
        " #((3*2*2)+(3*2*2)) + ((3*2*2)+(3*2*2)) = 48\n",
        "all_list=[]\n",
        "for key, value in dizionario.items():\n",
        "    all_list.append(value)\n",
        "\n",
        "permutations = list(itertools.product(*all_list))\n",
        "print(permutations)\n",
        "sum=0\n",
        "# for p in permutations:\n",
        "#   prod=1\n",
        "#   for i in p:\n",
        "#     prod*= len(i)\n",
        "#   sum+=prod\n",
        "\n",
        "# print(sum)\n",
        "total_perm=[]\n",
        "tot_perm=0\n",
        "for p in permutations:\n",
        "    mini_list = []\n",
        "    for lista_labels in p:\n",
        "      mini_list.append(lista_labels)\n",
        "\n",
        "    permutations_2 = list(itertools.product(*mini_list))\n",
        "    tot_perm+=len(permutations_2)\n",
        "    total_perm.append(permutations_2)\n",
        "\n",
        "    print(permutations_2)\n",
        "\n",
        "print(total_perm)\n",
        "print(tot_perm)\n",
        "if total_perm > threshold:\n",
        "  continue \n",
        "else\n",
        "# inizia a creare le frasi\n",
        "\n"
      ],
      "execution_count": 38,
      "outputs": [
        {
          "output_type": "stream",
          "text": [
            "[([1, 2, 7], [5, 6], [1, 2]), ([1, 2, 7], [5, 6], [3, 4]), ([3, 4, 8], [5, 6], [1, 2]), ([3, 4, 8], [5, 6], [3, 4])]\n",
            "[(1, 5, 1), (1, 5, 2), (1, 6, 1), (1, 6, 2), (2, 5, 1), (2, 5, 2), (2, 6, 1), (2, 6, 2), (7, 5, 1), (7, 5, 2), (7, 6, 1), (7, 6, 2)]\n",
            "[(1, 5, 3), (1, 5, 4), (1, 6, 3), (1, 6, 4), (2, 5, 3), (2, 5, 4), (2, 6, 3), (2, 6, 4), (7, 5, 3), (7, 5, 4), (7, 6, 3), (7, 6, 4)]\n",
            "[(3, 5, 1), (3, 5, 2), (3, 6, 1), (3, 6, 2), (4, 5, 1), (4, 5, 2), (4, 6, 1), (4, 6, 2), (8, 5, 1), (8, 5, 2), (8, 6, 1), (8, 6, 2)]\n",
            "[(3, 5, 3), (3, 5, 4), (3, 6, 3), (3, 6, 4), (4, 5, 3), (4, 5, 4), (4, 6, 3), (4, 6, 4), (8, 5, 3), (8, 5, 4), (8, 6, 3), (8, 6, 4)]\n",
            "[[(1, 5, 1), (1, 5, 2), (1, 6, 1), (1, 6, 2), (2, 5, 1), (2, 5, 2), (2, 6, 1), (2, 6, 2), (7, 5, 1), (7, 5, 2), (7, 6, 1), (7, 6, 2)], [(1, 5, 3), (1, 5, 4), (1, 6, 3), (1, 6, 4), (2, 5, 3), (2, 5, 4), (2, 6, 3), (2, 6, 4), (7, 5, 3), (7, 5, 4), (7, 6, 3), (7, 6, 4)], [(3, 5, 1), (3, 5, 2), (3, 6, 1), (3, 6, 2), (4, 5, 1), (4, 5, 2), (4, 6, 1), (4, 6, 2), (8, 5, 1), (8, 5, 2), (8, 6, 1), (8, 6, 2)], [(3, 5, 3), (3, 5, 4), (3, 6, 3), (3, 6, 4), (4, 5, 3), (4, 5, 4), (4, 6, 3), (4, 6, 4), (8, 5, 3), (8, 5, 4), (8, 6, 3), (8, 6, 4)]]\n",
            "48\n"
          ],
          "name": "stdout"
        }
      ]
    },
    {
      "cell_type": "code",
      "metadata": {
        "id": "NkKJYzIkSFAn",
        "colab": {
          "base_uri": "https://localhost:8080/"
        },
        "outputId": "4954d0cd-ccce-4dff-991a-8f3ddf1d916c"
      },
      "source": [
        "import statistics\n",
        "print(f\"frasi con overlap in BBN {lunghezze['frasi_con_overlap']}\")\n",
        "print(f\"con stima a priori maggiore di effettiva {lunghezze['sovrastimate']}\")\n",
        "print(f\"con stima a priori minore di effettiva {lunghezze['sottostimate']}\")\n",
        "print(f\"mediana delle stime a priori {statistics.median(perm_a_priori)}\")\n",
        "print(f\"mediana delle permutazioni effettive {statistics.median(perm_effettive)}\")\n",
        "print(f\"nei {lunghezze['sottostimate']} casi in cui ho sottostimato la media della sottostima è di {sum(sottostime)/len(sottostime)}\")"
      ],
      "execution_count": null,
      "outputs": [
        {
          "output_type": "stream",
          "text": [
            "frasi con overlap in BBN 1131\n",
            "con stima a priori maggiore di effettiva 307\n",
            "con stima a priori minore di effettiva 824\n",
            "mediana delle stime a priori 3\n",
            "mediana delle permutazioni effettive 6\n",
            "nei 824 casi in cui ho sottostimato la media della sottostima è di 1.6960558252427178\n"
          ],
          "name": "stdout"
        }
      ]
    },
    {
      "cell_type": "code",
      "metadata": {
        "id": "quJ-reGZnRR-"
      },
      "source": [
        "restricted_list = list(restricted_set)"
      ],
      "execution_count": null,
      "outputs": []
    },
    {
      "cell_type": "code",
      "metadata": {
        "id": "0JX5BYuFcN08"
      },
      "source": [
        "import pickle\n",
        "with open(path_corpus_data + 'restricted_list_bbn.pkl', 'wb') as fp:\n",
        "  pickle.dump(restricted_list, fp)"
      ],
      "execution_count": null,
      "outputs": []
    }
  ]
}