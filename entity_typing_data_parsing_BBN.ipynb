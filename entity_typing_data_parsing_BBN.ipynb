{
  "nbformat": 4,
  "nbformat_minor": 0,
  "metadata": {
    "kernelspec": {
      "display_name": "Python 3",
      "language": "python",
      "name": "python3"
    },
    "language_info": {
      "codemirror_mode": {
        "name": "ipython",
        "version": 3
      },
      "file_extension": ".py",
      "mimetype": "text/x-python",
      "name": "python",
      "nbconvert_exporter": "python",
      "pygments_lexer": "ipython3",
      "version": "3.6.9"
    },
    "colab": {
      "name": "entity_typing_data_parsing_BBN.ipynb",
      "provenance": [],
      "collapsed_sections": []
    }
  },
  "cells": [
    {
      "cell_type": "code",
      "metadata": {
        "id": "MKL7Wwcj3pSj",
        "colab": {
          "base_uri": "https://localhost:8080/"
        },
        "outputId": "5213b839-1c28-4356-b63c-0ab5fa66ef92"
      },
      "source": [
        "from google.colab import drive\n",
        "drive.mount('/content/drive/', force_remount=True)\n",
        "root_dir = \"/content/drive/MyDrive/\"\n",
        "base_dir = root_dir + \"tesi_magistrale/datasets/to_zip/\"\n",
        "path_corpus_data = root_dir + \"tesi_magistrale/datasets/corpus_data_folder/\"\n",
        "bbn_path = base_dir + \"BBN/BBN/\""
      ],
      "execution_count": 1,
      "outputs": [
        {
          "output_type": "stream",
          "text": [
            "Mounted at /content/drive/\n"
          ],
          "name": "stdout"
        }
      ]
    },
    {
      "cell_type": "code",
      "metadata": {
        "id": "Hm6RoPKn3IyB"
      },
      "source": [
        "import json\n",
        "\n",
        "with open(bbn_path + \"train.json\", 'r') as inp:\n",
        "    examples_train = [json.loads(l) for l in inp.readlines()]"
      ],
      "execution_count": 2,
      "outputs": []
    },
    {
      "cell_type": "code",
      "metadata": {
        "colab": {
          "base_uri": "https://localhost:8080/"
        },
        "id": "-66bcSCfxoIo",
        "outputId": "e8c07350-62a1-43d3-e7e6-ec7fba754ff7"
      },
      "source": [
        "print(\"il dataset train contiene \",len(examples_train), \"elementi\")"
      ],
      "execution_count": 3,
      "outputs": [
        {
          "output_type": "stream",
          "text": [
            "il dataset train contiene  32739 elementi\n"
          ],
          "name": "stdout"
        }
      ]
    },
    {
      "cell_type": "code",
      "metadata": {
        "colab": {
          "base_uri": "https://localhost:8080/"
        },
        "id": "Lp6DElDxg3nq",
        "outputId": "bb293712-c3e0-4577-e974-8a06d70b47dc"
      },
      "source": [
        "print(examples_train[14496])"
      ],
      "execution_count": 10,
      "outputs": [
        {
          "output_type": "stream",
          "text": [
            "{'tokens': ['Officials', 'in', 'some', 'of', 'these', 'states', 'say', 'they', 'do', \"n't\", 'want', 'to', 'simply', 'accept', 'the', 'settlements', 'offered', 'by', 'Drexel', '.'], 'senid': 6, 'mentions': [{'start': 18, 'labels': ['/ORGANIZATION/CORPORATION', '/ORGANIZATION', '/ORGANIZATION/EDUCATIONAL'], 'end': 19}, {'start': 0, 'labels': ['/PERSON'], 'end': 1}], 'fileid': 'WSJ1296'}\n"
          ],
          "name": "stdout"
        }
      ]
    },
    {
      "cell_type": "code",
      "metadata": {
        "id": "ns1R03kY2dKW"
      },
      "source": [
        "examples_iter = iter(examples_train)"
      ],
      "execution_count": 3,
      "outputs": []
    },
    {
      "cell_type": "code",
      "metadata": {
        "id": "O_4McoLp3IyC",
        "colab": {
          "base_uri": "https://localhost:8080/"
        },
        "outputId": "fb000417-fe8c-4a07-d05d-eec5e33469b8"
      },
      "source": [
        "import itertools\n",
        "from tqdm import tqdm\n",
        "fp = open(path_corpus_data + 'corpus_data_bbn.txt', \"w+\")  # Open a file\n",
        "phrase = []\n",
        "restricted_set = set()\n",
        "for i in tqdm(examples_iter):\n",
        "  all_list = []\n",
        "  permutations = []\n",
        "  if len(i['mentions'])>1:\n",
        "    # creo tutte le permutazioni\n",
        "    for j in i['mentions']:\n",
        "      all_list.append(j['labels'])\n",
        "\n",
        "    permutations = iter(list(itertools.product(*all_list)))\n",
        "    del all_list\n",
        "\n",
        "    # creo tutte le possibili frasi a partire dalle permutazioni\n",
        "    for p in permutations:\n",
        "      phrase = []\n",
        "      phrase = i['tokens'].copy()\n",
        "      for h in range(0, len(p)):\n",
        "        phrase[i['mentions'][h]['start']] = p[h]\n",
        "        restricted_set.add(p[h])\n",
        "      fp.write(' '.join(phrase) + '\\n')\n",
        "      del phrase\n",
        "    \n",
        "  else:\n",
        "    for k in i['mentions'][0]['labels']:\n",
        "      phrase = []\n",
        "      phrase = i['tokens'].copy()\n",
        "      phrase[i['mentions'][0]['start']] = k\n",
        "      restricted_set.add(k)\n",
        "      fp.write(' '.join(phrase) + '\\n')\n",
        "      del phrase\n",
        "\n",
        "fp.close()"
      ],
      "execution_count": null,
      "outputs": [
        {
          "output_type": "stream",
          "text": [
            "14093it [00:02, 6066.21it/s]"
          ],
          "name": "stderr"
        }
      ]
    },
    {
      "cell_type": "code",
      "metadata": {
        "id": "quJ-reGZnRR-"
      },
      "source": [
        "restricted_list = list(restricted_set)"
      ],
      "execution_count": null,
      "outputs": []
    },
    {
      "cell_type": "code",
      "metadata": {
        "id": "0JX5BYuFcN08"
      },
      "source": [
        "import pickle\n",
        "with open(path_corpus_data + 'restricted_list_bbn.pkl', 'wb') as fp:\n",
        "  pickle.dump(restricted_list, fp)"
      ],
      "execution_count": null,
      "outputs": []
    }
  ]
}