{
  "nbformat": 4,
  "nbformat_minor": 0,
  "metadata": {
    "kernelspec": {
      "display_name": "Python 3",
      "language": "python",
      "name": "python3"
    },
    "language_info": {
      "codemirror_mode": {
        "name": "ipython",
        "version": 3
      },
      "file_extension": ".py",
      "mimetype": "text/x-python",
      "name": "python",
      "nbconvert_exporter": "python",
      "pygments_lexer": "ipython3",
      "version": "3.6.9"
    },
    "colab": {
      "name": "entity_typing_data_parsing_BBN.ipynb",
      "provenance": [],
      "collapsed_sections": []
    }
  },
  "cells": [
    {
      "cell_type": "code",
      "metadata": {
        "id": "MKL7Wwcj3pSj",
        "colab": {
          "base_uri": "https://localhost:8080/"
        },
        "outputId": "6767f76b-bb1c-4805-b65e-ea23a56ff6fd"
      },
      "source": [
        "from google.colab import drive\n",
        "drive.mount('/content/drive/', force_remount=True)\n",
        "root_dir = \"/content/drive/MyDrive/\"\n",
        "base_dir = root_dir + \"tesi_magistrale/datasets/to_zip/\"\n",
        "path_corpus_data = root_dir + \"tesi_magistrale/datasets/corpus_data_folder/\"\n",
        "bbn_path = base_dir + \"BBN/BBN/\""
      ],
      "execution_count": 1,
      "outputs": [
        {
          "output_type": "stream",
          "text": [
            "Mounted at /content/drive/\n"
          ],
          "name": "stdout"
        }
      ]
    },
    {
      "cell_type": "code",
      "metadata": {
        "id": "Hm6RoPKn3IyB"
      },
      "source": [
        "import json\n",
        "\n",
        "with open(bbn_path + \"train.json\", 'r') as inp:\n",
        "    examples_train = [json.loads(l) for l in inp.readlines()]"
      ],
      "execution_count": 8,
      "outputs": []
    },
    {
      "cell_type": "code",
      "metadata": {
        "colab": {
          "base_uri": "https://localhost:8080/"
        },
        "id": "-66bcSCfxoIo",
        "outputId": "ab9cd89c-5a5c-4720-945f-8ce72e617e37"
      },
      "source": [
        "print(\"il dataset train contiene \",len(examples_train), \"elementi\")"
      ],
      "execution_count": 9,
      "outputs": [
        {
          "output_type": "stream",
          "text": [
            "il dataset train contiene  32739 elementi\n"
          ],
          "name": "stdout"
        }
      ]
    },
    {
      "cell_type": "code",
      "metadata": {
        "id": "sxwS35kZN_AY",
        "colab": {
          "base_uri": "https://localhost:8080/"
        },
        "outputId": "f6fa91da-7d74-4d7f-9a2f-b112f0ab5e5e"
      },
      "source": [
        "# print(len(examples_train[14535]['mentions']))\n",
        "# print(len(examples_train[14535]['tokens']))\n",
        "# prod = 1\n",
        "# sum=0\n",
        "# for elem in examples_train[14535]['mentions']:\n",
        "#    prod *= len(elem)\n",
        "#    sum+=len(elem)\n",
        "\n",
        "# print(prod)\n",
        "# print(sum/len(examples_train[14535]['mentions']))"
      ],
      "execution_count": 7,
      "outputs": [
        {
          "output_type": "stream",
          "text": [
            "27\n",
            "77\n",
            "7625597484987\n",
            "3.0\n"
          ],
          "name": "stdout"
        }
      ]
    },
    {
      "cell_type": "code",
      "metadata": {
        "id": "FgbjZPGyMSoC"
      },
      "source": [
        "#del examples_train[14000:15000]"
      ],
      "execution_count": null,
      "outputs": []
    },
    {
      "cell_type": "code",
      "metadata": {
        "id": "Gmut0vnRKOiq"
      },
      "source": [
        "# rimuovo elemento 14535, caso problematico in cui generare tutte le permutazioni della frase avrebbe generato 7625597484987 frasi.\n",
        "# questo elemento è una frase con 77 tokens, di cui 27 menzioni con ciascuna in media 3 tipi\n",
        "del examples_train[14535]\n",
        "examples_iter = iter(examples_train)"
      ],
      "execution_count": 10,
      "outputs": []
    },
    {
      "cell_type": "code",
      "metadata": {
        "id": "ns1R03kY2dKW"
      },
      "source": [
        "#examples_iter = iter(examples_train[len(examples_train)//2:len(examples_train)+1])"
      ],
      "execution_count": null,
      "outputs": []
    },
    {
      "cell_type": "code",
      "metadata": {
        "id": "r8aGBivW8Hpm",
        "outputId": "14f3b41a-2a01-43ac-c9cb-5caa1e58dd56",
        "colab": {
          "base_uri": "https://localhost:8080/"
        }
      },
      "source": [
        "import operator\n",
        "import itertools\n",
        "from tqdm import tqdm\n",
        "from gensim.parsing.preprocessing import remove_stopwords\n",
        "\n",
        "fp = open(path_corpus_data + 'corpus_data_bbn_entire_def.txt', \"w\")\n",
        "restricted_set = set()\n",
        "\n",
        "for i in tqdm(examples_iter):\n",
        "\n",
        "  istance = i['mentions'][:]\n",
        "  if len(istance)>1:\n",
        "\n",
        "    d = sorted(istance, key=operator.itemgetter(\"start\"))\n",
        "\n",
        "    d = {k: list(v) for k, v in itertools.groupby(d, key=operator.itemgetter(\"start\"))}\n",
        "    all_list=[]\n",
        "    for key, value in d.items():\n",
        "      all_list.append(value)\n",
        "\n",
        "    permutations = list(itertools.product(*all_list))\n",
        "\n",
        "    iter = 0\n",
        "    for p in permutations:\n",
        "          mini_list = []\n",
        "          for lista_labels in p:\n",
        "            mini_list.append(lista_labels['labels'])\n",
        "\n",
        "          permutations_2 = itertools.product(*mini_list)\n",
        "\n",
        "          for p_2 in permutations_2:\n",
        "            \n",
        "            phrase = i['tokens'][:]\n",
        "            \n",
        "            num_pop=0\n",
        "            for h in range(0, len(p_2)):\n",
        "              start = permutations[iter][h]['start']\n",
        "              end = permutations[iter][h]['end']\n",
        "      \n",
        "              phrase[start-num_pop:end-num_pop] = [p_2[h]]\n",
        "              if((end-start)>1):\n",
        "                num_pop += (end - start) - 1\n",
        "\n",
        "              restricted_set.add(p_2[h])\n",
        "\n",
        "              \n",
        "            fp.write((remove_stopwords(' '.join(phrase)) + '\\n'))\n",
        "          iter+=1\n",
        "  else:\n",
        "    for k in istance[0]['labels']:\n",
        "      phrase = i['tokens'][:]\n",
        "      if (i['mentions'][0]['end'] - i['mentions'][0]['start'] ==1):          \n",
        "        phrase[i['mentions'][0]['start']] = k\n",
        "        restricted_set.add(k)\n",
        "      else:\n",
        "        phrase[i['mentions'][0]['start']:i['mentions'][0]['end']] = [k]\n",
        "        restricted_set.add(k)\n",
        "\n",
        "      fp.write((remove_stopwords(' '.join(phrase)) + '\\n'))\n",
        "\n",
        "fp.close()"
      ],
      "execution_count": 11,
      "outputs": [
        {
          "output_type": "stream",
          "text": [
            "32738it [00:26, 1236.93it/s]\n"
          ],
          "name": "stderr"
        }
      ]
    },
    {
      "cell_type": "code",
      "metadata": {
        "id": "quJ-reGZnRR-"
      },
      "source": [
        "restricted_list = list(restricted_set)"
      ],
      "execution_count": 12,
      "outputs": []
    },
    {
      "cell_type": "code",
      "metadata": {
        "id": "0JX5BYuFcN08"
      },
      "source": [
        "import pickle\n",
        "with open(path_corpus_data + 'restricted_list_bbn.pkl', 'wb') as fp:\n",
        "  pickle.dump(restricted_list, fp)"
      ],
      "execution_count": 15,
      "outputs": []
    }
  ]
}