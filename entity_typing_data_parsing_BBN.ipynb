{
  "nbformat": 4,
  "nbformat_minor": 0,
  "metadata": {
    "kernelspec": {
      "display_name": "Python 3",
      "language": "python",
      "name": "python3"
    },
    "language_info": {
      "codemirror_mode": {
        "name": "ipython",
        "version": 3
      },
      "file_extension": ".py",
      "mimetype": "text/x-python",
      "name": "python",
      "nbconvert_exporter": "python",
      "pygments_lexer": "ipython3",
      "version": "3.6.9"
    },
    "colab": {
      "name": "entity_typing_data_parsing_BBN.ipynb",
      "provenance": [],
      "collapsed_sections": []
    }
  },
  "cells": [
    {
      "cell_type": "code",
      "metadata": {
        "id": "MKL7Wwcj3pSj",
        "colab": {
          "base_uri": "https://localhost:8080/"
        },
        "outputId": "3bd91573-9de4-405e-ef6a-cac3a0a87ce2"
      },
      "source": [
        "from google.colab import drive\n",
        "drive.mount('/content/drive/', force_remount=True)\n",
        "root_dir = \"/content/drive/MyDrive/\"\n",
        "base_dir = root_dir + \"tesi_magistrale/datasets/to_zip/\"\n",
        "path_corpus_data = root_dir + \"tesi_magistrale/datasets/corpus_data_folder/\"\n",
        "bbn_path = base_dir + \"BBN/BBN/\""
      ],
      "execution_count": null,
      "outputs": [
        {
          "output_type": "stream",
          "text": [
            "Mounted at /content/drive/\n"
          ],
          "name": "stdout"
        }
      ]
    },
    {
      "cell_type": "code",
      "metadata": {
        "id": "-TBy3Ul-Xv74"
      },
      "source": [
        "from gensim.parsing.preprocessing import STOPWORDS\n",
        " \n",
        "# Adding multiple words to gensim stoplist\n",
        "new_stopword = STOPWORDS.union(set([\"\\'\", ',', '?','-', '--', '.', '``', '`', ';', '!', '\\'s', '\\'t','(', ')', 'n\\'t', '\\'d', 'A', '\\'re', '\\'m']))\n",
        "\n",
        "def remove_custom_stopwords(p):\n",
        "  tok_without_sw = [word for word in p if not word.lower() in new_stopword]\n",
        "  p[:] = tok_without_sw\n"
      ],
      "execution_count": null,
      "outputs": []
    },
    {
      "cell_type": "code",
      "metadata": {
        "id": "Ny65tIAg3AWh"
      },
      "source": [
        "only_corpus=False\n",
        "custom_stopwords=True"
      ],
      "execution_count": null,
      "outputs": []
    },
    {
      "cell_type": "code",
      "metadata": {
        "id": "1sD9i2Jdw62d"
      },
      "source": [
        "if not only_corpus:\n",
        "  open(path_corpus_data + 'counters_bbn.json', 'w').close()\n",
        "  open(path_corpus_data + 'types_counters_bbn.json', 'w').close()"
      ],
      "execution_count": null,
      "outputs": []
    },
    {
      "cell_type": "code",
      "metadata": {
        "id": "Hm6RoPKn3IyB"
      },
      "source": [
        "import json\n",
        "with open(bbn_path + \"train.json\", 'r') as inp:\n",
        "    examples_train = [json.loads(l) for l in inp.readlines()]"
      ],
      "execution_count": null,
      "outputs": []
    },
    {
      "cell_type": "code",
      "metadata": {
        "colab": {
          "base_uri": "https://localhost:8080/"
        },
        "id": "-66bcSCfxoIo",
        "outputId": "f1a0ab46-154c-472f-825d-aa2ee4b2627e"
      },
      "source": [
        "print(\"il dataset train contiene \",len(examples_train), \"elementi\")"
      ],
      "execution_count": null,
      "outputs": [
        {
          "output_type": "stream",
          "text": [
            "il dataset train contiene  32739 elementi\n"
          ],
          "name": "stdout"
        }
      ]
    },
    {
      "cell_type": "code",
      "metadata": {
        "id": "sxwS35kZN_AY"
      },
      "source": [
        "# print(len(examples_train[14535]['mentions']))\n",
        "# print(len(examples_train[14535]['tokens']))\n",
        "# prod = 1\n",
        "# sum=0\n",
        "# for elem in examples_train[14535]['mentions']:\n",
        "#    prod *= len(elem)\n",
        "#    sum+=len(elem)\n",
        "\n",
        "# print(prod)\n",
        "# print(sum/len(examples_train[14535]['mentions']))"
      ],
      "execution_count": null,
      "outputs": []
    },
    {
      "cell_type": "code",
      "metadata": {
        "id": "Gmut0vnRKOiq"
      },
      "source": [
        "# rimuovo elemento 14535, caso problematico in cui generare tutte le permutazioni della frase avrebbe generato 7625597484987 frasi.\n",
        "# questo elemento è una frase con 77 tokens, di cui 27 menzioni con ciascuna in media 3 tipi\n",
        "# del examples_train[14535]\n",
        "examples_iter = iter(examples_train)"
      ],
      "execution_count": null,
      "outputs": []
    },
    {
      "cell_type": "code",
      "metadata": {
        "id": "ns1R03kY2dKW"
      },
      "source": [
        "#examples_iter = iter(examples_train[len(examples_train)//2:len(examples_train)+1])"
      ],
      "execution_count": null,
      "outputs": []
    },
    {
      "cell_type": "code",
      "metadata": {
        "id": "nUW2u1y0LDgy"
      },
      "source": [
        "def get_permutations(i, threshold,generating_only_corpus):\n",
        "  # calcolo le permutazioni sulla base del dizionario, se sforano il treshold\n",
        "  # non le esplodo\n",
        "  d = sorted(i, key=operator.itemgetter(\"start\"))\n",
        "  d = {k: list(v) for k, v in itertools.groupby(d, key=operator.itemgetter(\"start\"))}\n",
        "\n",
        "  all_list=[]\n",
        "  for key, value in d.items():\n",
        "    all_list.append(value)\n",
        "\n",
        "  p = list(itertools.product(*all_list))\n",
        "  sum=0\n",
        "  #se sto generando solo il corpus e non mi interessa delle occorrenze\n",
        "  if generating_only_corpus:\n",
        "    for per in p:\n",
        "      prod=1\n",
        "      for i in per:\n",
        "        prod*= len(i)\n",
        "        #qui se prod già sfora treshold posso fermarmi tanto non mi serve sapere quante permutazioni genererebbe\n",
        "        if prod>treshold:\n",
        "          return [], [], sum\n",
        "      sum+=prod\n",
        "      #qui se sum già sfora treshold posso fermarmi tanto non mi serve sapere quante permutazioni genererebbe\n",
        "      if sum>treshold:\n",
        "        return [], [], sum\n",
        "    \n",
        "  else:\n",
        "    for per in p:\n",
        "      prod=1\n",
        "      for i in per:\n",
        "        prod*= len(i)\n",
        "        #qui se prod già sfora treshold posso fermarmi\n",
        "      sum+=prod\n",
        "      #qui se sum già sfora treshold posso fermarmi\n",
        "\n",
        "  if (sum>threshold):\n",
        "    return [], [], sum\n",
        "\n",
        "  else:\n",
        "    total_perm=[]\n",
        "    count_perm=0\n",
        "    for per in p:\n",
        "      mini_list = []\n",
        "      for lista_labels in per:\n",
        "        mini_list.append(lista_labels['labels'])\n",
        "\n",
        "      p2 = list(itertools.product(*mini_list))\n",
        "      total_perm.append(p2)\n",
        "\n",
        "    return total_perm.copy(), p.copy(), sum"
      ],
      "execution_count": null,
      "outputs": []
    },
    {
      "cell_type": "code",
      "metadata": {
        "id": "r8aGBivW8Hpm",
        "colab": {
          "base_uri": "https://localhost:8080/"
        },
        "outputId": "9994a3b1-288a-4bf5-bf86-2ee810ac30ff"
      },
      "source": [
        "import operator\n",
        "import itertools\n",
        "from tqdm import tqdm\n",
        "from gensim.parsing.preprocessing import remove_stopwords\n",
        "import json\n",
        "treshold=20\n",
        "perm_a_priori=[]\n",
        "perm_effettive=[]\n",
        "sottostime=[]\n",
        "lunghezze={\n",
        "    'frasi_considerate':0,\n",
        "    'frasi_non_considerate':0,\n",
        "    'tot_permutazioni':0,\n",
        "}\n",
        "if custom_stopwords:\n",
        "  fp = open(path_corpus_data + 'corpus_data_entire_bbn_custom.txt', \"w\")\n",
        "else:\n",
        "  fp = open(path_corpus_data + 'corpus_data_entire_bbn.txt', \"w\")\n",
        "restricted_set = {}\n",
        "\n",
        "for num,i in enumerate(tqdm(examples_iter)):\n",
        "  if not only_corpus:\n",
        "    dizionario_permutations = {'pos':num, 'num': 0,'istanza':i}\n",
        "  istance = i['mentions'][:]\n",
        "  if len(istance)>1:\n",
        "    \n",
        "    permutations_2, permutations, num_permutations = get_permutations(istance, treshold,only_corpus)\n",
        "    if not only_corpus:\n",
        "      dizionario_permutations['num'] = num_permutations\n",
        "    if (not permutations):\n",
        "      lunghezze['frasi_non_considerate']+=1\n",
        "    else:\n",
        "      lunghezze['frasi_considerate']+=1\n",
        "      lunghezze['tot_permutazioni']+=num_permutations\n",
        "    iteri=0\n",
        "\n",
        "    for p_1 in permutations:\n",
        "      for p_2 in iter(permutations_2[iteri]):\n",
        "        \n",
        "        phrase = i['tokens'][:]\n",
        "        num_pop=0\n",
        "        for h in range(0, len(p_2)):\n",
        "          start = permutations[iteri][h]['start']\n",
        "          end = permutations[iteri][h]['end']\n",
        "\n",
        "          phrase[start-num_pop:end-num_pop] = [p_2[h]]\n",
        "          if ((end-start)>1):\n",
        "            num_pop += (end - start) - 1\n",
        "          if not only_corpus:\n",
        "            if (p_2[h] not in restricted_set):\n",
        "              restricted_set[p_2[h]]=1\n",
        "            else:\n",
        "              restricted_set[p_2[h]]+=1\n",
        "\n",
        "        \n",
        "        if custom_stopwords:\n",
        "          fp.write(' '.join(remove_custom_stopwords(phrase))+'\\n')\n",
        "        else:\n",
        "          fp.write(remove_stopwords(' '.join(phrase)) + '\\n')\n",
        "\n",
        "      iteri+=1\n",
        "    \n",
        "  else:\n",
        "    num_permutations=len(istance[0]['labels'])\n",
        "    if not only_corpus:\n",
        "      dizionario_permutations['num'] = num_permutations\n",
        "    lunghezze['tot_permutazioni']+= num_permutations\n",
        "    lunghezze['frasi_considerate']+=1\n",
        "\n",
        "    for k in istance[0]['labels']:\n",
        "      phrase = i['tokens'][:]\n",
        "      if (i['mentions'][0]['end'] - i['mentions'][0]['start'] ==1):          \n",
        "        phrase[i['mentions'][0]['start']] = k\n",
        "      else:\n",
        "        phrase[i['mentions'][0]['start']:i['mentions'][0]['end']] = [k]\n",
        "      if not only_corpus:\n",
        "        if (k not in restricted_set):\n",
        "          restricted_set[k]=1\n",
        "        else:\n",
        "          restricted_set[k]+=1\n",
        "\n",
        "      if custom_stopwords:\n",
        "        fp.write(' '.join(remove_custom_stopwords(phrase))+'\\n')\n",
        "      else:\n",
        "        fp.write(remove_stopwords(' '.join(phrase)) + '\\n')\n",
        "        \n",
        "  if not only_corpus:\n",
        "    with open(path_corpus_data + 'counters_bbn.json', 'a') as fp_1:\n",
        "        json.dump(dizionario_permutations, fp_1)\n",
        "\n",
        "fp.close()"
      ],
      "execution_count": null,
      "outputs": [
        {
          "output_type": "stream",
          "text": [
            "32739it [02:24, 226.52it/s]\n"
          ],
          "name": "stderr"
        }
      ]
    },
    {
      "cell_type": "code",
      "metadata": {
        "id": "ywfCxScpwdQr"
      },
      "source": [
        " if not only_corpus:\n",
        "  with open(path_corpus_data + 'types_counters_bbn.json', 'a') as fp_3:\n",
        "        json.dump(restricted_set, fp_3)"
      ],
      "execution_count": null,
      "outputs": []
    },
    {
      "cell_type": "code",
      "metadata": {
        "colab": {
          "base_uri": "https://localhost:8080/"
        },
        "id": "_d51GJ0sx8vu",
        "outputId": "ebcc440c-d12b-4350-a26d-681d1f3e101e"
      },
      "source": [
        "print(f\"frasi considerate con treshold {treshold}: {lunghezze['frasi_considerate']}\")\n",
        "print(f\"frasi non considerate con treshold {treshold}: {lunghezze['frasi_non_considerate']}\")\n",
        "print(f\"media di permutazioni per frase considerata {lunghezze['tot_permutazioni']/lunghezze['frasi_considerate']}\")"
      ],
      "execution_count": null,
      "outputs": [
        {
          "output_type": "stream",
          "text": [
            "frasi considerate con treshold 20: 19499\n",
            "frasi non considerate con treshold 20: 13240\n",
            "media di permutazioni per frase considerata 5.408431201600082\n"
          ],
          "name": "stdout"
        }
      ]
    },
    {
      "cell_type": "code",
      "metadata": {
        "id": "7xiKIObkDfxu",
        "colab": {
          "base_uri": "https://localhost:8080/"
        },
        "outputId": "2fd9cc1a-a3b3-4d50-f5d4-8a4e9bc61455"
      },
      "source": [
        "dizionario = {0:[[1,2,7],[3,4,8]], 1: [[5,6]], 2:[[1,2],[3,4]] }\n",
        "\n",
        "num_permutations = 0\n",
        "#for key,value in dizionario.items():\n",
        "  #if len(list(value))>1:\n",
        "    #print(key ,'->', value)\n",
        "  #else:\n",
        "    #print(\"sono lunga uno\")\n",
        "\n",
        " #((3*2*2)+(3*2*2)) + ((3*2*2)+(3*2*2)) = 48\n",
        "all_list=[]\n",
        "for key, value in dizionario.items():\n",
        "    all_list.append(value)\n",
        "\n",
        "permutations = list(itertools.product(*all_list))\n",
        "print(permutations)\n",
        "sum=0\n",
        "# for p in permutations:\n",
        "#   prod=1\n",
        "#   for i in p:\n",
        "#     prod*= len(i)\n",
        "#   sum+=prod\n",
        "\n",
        "# print(sum)\n",
        "total_perm=[]\n",
        "tot_perm=0\n",
        "for p in permutations:\n",
        "    mini_list = []\n",
        "    for lista_labels in p:\n",
        "      mini_list.append(lista_labels)\n",
        "\n",
        "    permutations_2 = list(itertools.product(*mini_list))\n",
        "    tot_perm+=len(permutations_2)\n",
        "    total_perm.append(permutations_2)\n",
        "\n",
        "    print(permutations_2)\n",
        "\n",
        "print(total_perm)\n",
        "print(tot_perm)\n",
        "if total_perm > threshold:\n",
        "  continue \n",
        "else\n",
        "# inizia a creare le frasi\n",
        "\n"
      ],
      "execution_count": null,
      "outputs": [
        {
          "output_type": "stream",
          "text": [
            "[([1, 2, 7], [5, 6], [1, 2]), ([1, 2, 7], [5, 6], [3, 4]), ([3, 4, 8], [5, 6], [1, 2]), ([3, 4, 8], [5, 6], [3, 4])]\n",
            "[(1, 5, 1), (1, 5, 2), (1, 6, 1), (1, 6, 2), (2, 5, 1), (2, 5, 2), (2, 6, 1), (2, 6, 2), (7, 5, 1), (7, 5, 2), (7, 6, 1), (7, 6, 2)]\n",
            "[(1, 5, 3), (1, 5, 4), (1, 6, 3), (1, 6, 4), (2, 5, 3), (2, 5, 4), (2, 6, 3), (2, 6, 4), (7, 5, 3), (7, 5, 4), (7, 6, 3), (7, 6, 4)]\n",
            "[(3, 5, 1), (3, 5, 2), (3, 6, 1), (3, 6, 2), (4, 5, 1), (4, 5, 2), (4, 6, 1), (4, 6, 2), (8, 5, 1), (8, 5, 2), (8, 6, 1), (8, 6, 2)]\n",
            "[(3, 5, 3), (3, 5, 4), (3, 6, 3), (3, 6, 4), (4, 5, 3), (4, 5, 4), (4, 6, 3), (4, 6, 4), (8, 5, 3), (8, 5, 4), (8, 6, 3), (8, 6, 4)]\n",
            "[[(1, 5, 1), (1, 5, 2), (1, 6, 1), (1, 6, 2), (2, 5, 1), (2, 5, 2), (2, 6, 1), (2, 6, 2), (7, 5, 1), (7, 5, 2), (7, 6, 1), (7, 6, 2)], [(1, 5, 3), (1, 5, 4), (1, 6, 3), (1, 6, 4), (2, 5, 3), (2, 5, 4), (2, 6, 3), (2, 6, 4), (7, 5, 3), (7, 5, 4), (7, 6, 3), (7, 6, 4)], [(3, 5, 1), (3, 5, 2), (3, 6, 1), (3, 6, 2), (4, 5, 1), (4, 5, 2), (4, 6, 1), (4, 6, 2), (8, 5, 1), (8, 5, 2), (8, 6, 1), (8, 6, 2)], [(3, 5, 3), (3, 5, 4), (3, 6, 3), (3, 6, 4), (4, 5, 3), (4, 5, 4), (4, 6, 3), (4, 6, 4), (8, 5, 3), (8, 5, 4), (8, 6, 3), (8, 6, 4)]]\n",
            "48\n"
          ],
          "name": "stdout"
        }
      ]
    }
  ]
}