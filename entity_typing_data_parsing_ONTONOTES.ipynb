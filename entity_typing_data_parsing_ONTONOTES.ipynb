{
  "nbformat": 4,
  "nbformat_minor": 0,
  "metadata": {
    "kernelspec": {
      "display_name": "Python 3",
      "language": "python",
      "name": "python3"
    },
    "language_info": {
      "codemirror_mode": {
        "name": "ipython",
        "version": 3
      },
      "file_extension": ".py",
      "mimetype": "text/x-python",
      "name": "python",
      "nbconvert_exporter": "python",
      "pygments_lexer": "ipython3",
      "version": "3.6.9"
    },
    "colab": {
      "name": "entity_typing_data_parsing_ONTONOTES.ipynb",
      "provenance": [],
      "collapsed_sections": []
    }
  },
  "cells": [
    {
      "cell_type": "code",
      "metadata": {
        "id": "MKL7Wwcj3pSj",
        "colab": {
          "base_uri": "https://localhost:8080/"
        },
        "outputId": "8faf776e-a339-4106-c947-6f12e744d80b"
      },
      "source": [
        "from google.colab import drive\n",
        "drive.mount('/content/drive/', force_remount=True)\n",
        "root_dir = \"/content/drive/MyDrive/\"\n",
        "base_dir = root_dir + \"tesi_magistrale/datasets/to_zip/\"\n",
        "path_corpus_data = root_dir + \"tesi_magistrale/datasets/corpus_data_folder/\"\n",
        "ontonotes_path = base_dir + \"ontonotes/\""
      ],
      "execution_count": 1,
      "outputs": [
        {
          "output_type": "stream",
          "text": [
            "Mounted at /content/drive/\n"
          ],
          "name": "stdout"
        }
      ]
    },
    {
      "cell_type": "code",
      "metadata": {
        "id": "Hm6RoPKn3IyB"
      },
      "source": [
        "import json\n",
        "\n",
        "with open(ontonotes_path + \"g_train_tree.json\", 'r') as inp:\n",
        "    examples_train = [json.loads(l) for l in inp.readlines()]\n"
      ],
      "execution_count": 2,
      "outputs": []
    },
    {
      "cell_type": "code",
      "metadata": {
        "colab": {
          "base_uri": "https://localhost:8080/"
        },
        "id": "-66bcSCfxoIo",
        "outputId": "9c7cb18f-f731-4cfd-c98d-2f32fcbf6677"
      },
      "source": [
        "print(\"il dataset train contiene \",len(examples_train), \"elementi\")"
      ],
      "execution_count": 3,
      "outputs": [
        {
          "output_type": "stream",
          "text": [
            "il dataset train contiene  251039 elementi\n"
          ],
          "name": "stdout"
        }
      ]
    },
    {
      "cell_type": "code",
      "metadata": {
        "id": "ns1R03kY2dKW"
      },
      "source": [
        "examples_iter = iter(examples_train)"
      ],
      "execution_count": 4,
      "outputs": []
    },
    {
      "cell_type": "code",
      "metadata": {
        "colab": {
          "base_uri": "https://localhost:8080/"
        },
        "id": "CdBt_b_0Gl6m",
        "outputId": "3312a66c-c38e-4c0b-9958-bd59094f9033"
      },
      "source": [
        "from tqdm import tqdm\n",
        "from gensim.parsing.preprocessing import remove_stopwords\n",
        "fp = open(path_corpus_data + 'corpus_data_entire_ontonotes.txt', \"w+\")  # Open a file\n",
        "# do file operations.\n",
        "restricted_set = set()\n",
        "for i in tqdm(examples_iter):\n",
        "  if (len(i['y_str'])>1):\n",
        "    for k in range(0,len(i['y_str'])):\n",
        "      phrase = []\n",
        "      phrase = i['left_context_token'] + i['y_str'][k].upper().split() + i['right_context_token']\n",
        "      fp.write(remove_stopwords(' '.join(phrase)) + '\\n')\n",
        "      restricted_set.add(i['y_str'][k].upper())\n",
        "  else:\n",
        "    phrase = []\n",
        "    phrase = i['left_context_token'] + i['y_str'][0].upper().split() + i['right_context_token']\n",
        "    fp.write(remove_stopwords(' '.join(phrase)) + '\\n')\n",
        "    restricted_set.add(i['y_str'][0].upper())\n",
        "\n",
        "fp.close()\n",
        "restricted_list = list(restricted_set)"
      ],
      "execution_count": 5,
      "outputs": [
        {
          "output_type": "stream",
          "text": [
            "251039it [00:07, 33960.50it/s]\n"
          ],
          "name": "stderr"
        }
      ]
    },
    {
      "cell_type": "code",
      "metadata": {
        "id": "Vx8CYWDgWF2O"
      },
      "source": [
        "import pickle\n",
        "with open(path_corpus_data + 'restricted_list_ontonotes.pkl', 'wb') as fp:\n",
        "  pickle.dump(restricted_list, fp)"
      ],
      "execution_count": 6,
      "outputs": []
    }
  ]
}