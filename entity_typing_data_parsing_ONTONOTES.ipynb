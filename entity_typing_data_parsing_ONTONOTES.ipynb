{
  "nbformat": 4,
  "nbformat_minor": 0,
  "metadata": {
    "kernelspec": {
      "display_name": "Python 3",
      "language": "python",
      "name": "python3"
    },
    "language_info": {
      "codemirror_mode": {
        "name": "ipython",
        "version": 3
      },
      "file_extension": ".py",
      "mimetype": "text/x-python",
      "name": "python",
      "nbconvert_exporter": "python",
      "pygments_lexer": "ipython3",
      "version": "3.6.9"
    },
    "colab": {
      "name": "entity_typing_data_parsing_ONTONOTES.ipynb",
      "provenance": [],
      "collapsed_sections": []
    }
  },
  "cells": [
    {
      "cell_type": "code",
      "metadata": {
        "id": "MKL7Wwcj3pSj",
        "colab": {
          "base_uri": "https://localhost:8080/"
        },
        "outputId": "d1864da5-20b1-47c9-fc05-d12d2a273cc0"
      },
      "source": [
        "from google.colab import drive\n",
        "drive.mount('/content/drive/', force_remount=True)\n",
        "root_dir = \"/content/drive/MyDrive/\"\n",
        "base_dir = root_dir + \"tesi_magistrale/datasets/to_zip/\"\n",
        "path_corpus_data = root_dir + \"tesi_magistrale/datasets/corpus_data_folder/\"\n",
        "ontonotes_path = base_dir + \"ontonotes/\""
      ],
      "execution_count": 1,
      "outputs": [
        {
          "output_type": "stream",
          "text": [
            "Mounted at /content/drive/\n"
          ],
          "name": "stdout"
        }
      ]
    },
    {
      "cell_type": "code",
      "metadata": {
        "id": "889lPk09Y5oU"
      },
      "source": [
        "from gensim.parsing.preprocessing import STOPWORDS\n",
        " \n",
        "# Adding multiple words to gensim stoplist\n",
        "new_stopword = STOPWORDS.union(set([\"\\'\", ',', '?','-', '--', '.', '``', '`', ';', '!', '\\'s', '\\'t','(', ')','\"','\"\"','.-','-.', 'n\\'t', '\\'d', 'A', '\\'re', '\\'m','%','$',':','&','&&','\\'\\'']))\n",
        "\n",
        "def remove_custom_stopwords(p):\n",
        "  tok_without_sw = [word for word in p if not word.lower() in new_stopword]\n",
        "  p[:] = tok_without_sw"
      ],
      "execution_count": 2,
      "outputs": []
    },
    {
      "cell_type": "code",
      "metadata": {
        "id": "HwU9cKTkY6SB"
      },
      "source": [
        "custom_stopwords=True"
      ],
      "execution_count": 3,
      "outputs": []
    },
    {
      "cell_type": "code",
      "metadata": {
        "id": "Hm6RoPKn3IyB"
      },
      "source": [
        "import json\n",
        "\n",
        "with open(ontonotes_path + \"g_train_tree.json\", 'r') as inp:\n",
        "    examples_train = [json.loads(l) for l in inp.readlines()]\n"
      ],
      "execution_count": 4,
      "outputs": []
    },
    {
      "cell_type": "code",
      "metadata": {
        "colab": {
          "base_uri": "https://localhost:8080/"
        },
        "id": "-66bcSCfxoIo",
        "outputId": "29634c5c-7faa-4d3d-dcc4-555faf3efd0b"
      },
      "source": [
        "print(\"il dataset train contiene \",len(examples_train), \"elementi\")"
      ],
      "execution_count": 5,
      "outputs": [
        {
          "output_type": "stream",
          "text": [
            "il dataset train contiene  251039 elementi\n"
          ],
          "name": "stdout"
        }
      ]
    },
    {
      "cell_type": "code",
      "metadata": {
        "id": "ns1R03kY2dKW"
      },
      "source": [
        "examples_iter = iter(examples_train)"
      ],
      "execution_count": 6,
      "outputs": []
    },
    {
      "cell_type": "code",
      "metadata": {
        "id": "EvZZCrqKb2ml"
      },
      "source": [
        "open(path_corpus_data + 'types_counters_ontonotes.json', 'w').close()"
      ],
      "execution_count": 7,
      "outputs": []
    },
    {
      "cell_type": "code",
      "metadata": {
        "colab": {
          "base_uri": "https://localhost:8080/"
        },
        "id": "CdBt_b_0Gl6m",
        "outputId": "d1ef8ded-d985-4135-fe4b-1d091d089d63"
      },
      "source": [
        "from tqdm import tqdm\n",
        "from gensim.parsing.preprocessing import remove_stopwords\n",
        "if custom_stopwords:\n",
        "  fp = open(path_corpus_data + 'corpus_data_entire_ontonotes_custom.txt', \"w+\")  # Open a file\n",
        "else:\n",
        "  fp = open(path_corpus_data + 'corpus_data_entire_ontonotes.txt', \"w+\")  # Open a file\n",
        "# do file operations.\n",
        "restricted_set = {}\n",
        "for i in tqdm(examples_iter):\n",
        "  if (len(i['y_str'])>1):\n",
        "    for k in range(0,len(i['y_str'])):\n",
        "      phrase = []\n",
        "      phrase = i['left_context_token'] + i['y_str'][k].upper().split() + i['right_context_token']\n",
        "\n",
        "      if custom_stopwords:\n",
        "        remove_custom_stopwords(phrase)\n",
        "        fp.write(' '.join(phrase.copy())+'\\n')\n",
        "      else:\n",
        "        fp.write(remove_stopwords(' '.join(phrase)) + '\\n')\n",
        "\n",
        "      if (i['y_str'][k].upper() not in restricted_set):\n",
        "          restricted_set[i['y_str'][k].upper()]=1\n",
        "      else:\n",
        "          restricted_set[i['y_str'][k].upper()]+=1\n",
        "  else:\n",
        "    phrase = []\n",
        "    phrase = i['left_context_token'] + i['y_str'][0].upper().split() + i['right_context_token']\n",
        "\n",
        "    if custom_stopwords:\n",
        "      remove_custom_stopwords(phrase)\n",
        "      fp.write(' '.join(phrase.copy())+'\\n')\n",
        "    else:\n",
        "      fp.write(remove_stopwords(' '.join(phrase)) + '\\n')\n",
        "\n",
        "    if (i['y_str'][0].upper() not in restricted_set):\n",
        "      restricted_set[i['y_str'][0].upper()]=1\n",
        "    else:\n",
        "      restricted_set[i['y_str'][0].upper()]+=1\n",
        "fp.close()\n",
        "\n"
      ],
      "execution_count": 8,
      "outputs": [
        {
          "output_type": "stream",
          "text": [
            "251039it [00:07, 35070.37it/s]\n"
          ],
          "name": "stderr"
        }
      ]
    },
    {
      "cell_type": "code",
      "metadata": {
        "id": "i0FxkxEia45s"
      },
      "source": [
        "  with open(path_corpus_data + 'types_counters_ontonotes.json', 'a') as fp_3:\n",
        "      json.dump(restricted_set, fp_3)"
      ],
      "execution_count": 9,
      "outputs": []
    }
  ]
}