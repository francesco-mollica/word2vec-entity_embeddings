{
  "nbformat": 4,
  "nbformat_minor": 0,
  "metadata": {
    "kernelspec": {
      "display_name": "Python 3",
      "language": "python",
      "name": "python3"
    },
    "language_info": {
      "codemirror_mode": {
        "name": "ipython",
        "version": 3
      },
      "file_extension": ".py",
      "mimetype": "text/x-python",
      "name": "python",
      "nbconvert_exporter": "python",
      "pygments_lexer": "ipython3",
      "version": "3.6.9"
    },
    "colab": {
      "name": "entity_typing_data_parsing_ONTONOTES.ipynb",
      "provenance": [],
      "collapsed_sections": []
    }
  },
  "cells": [
    {
      "cell_type": "code",
      "metadata": {
        "id": "MKL7Wwcj3pSj",
        "colab": {
          "base_uri": "https://localhost:8080/"
        },
        "outputId": "397bb068-c1b9-482e-b954-e455945855a9"
      },
      "source": [
        "from google.colab import drive\n",
        "drive.mount('/content/drive/', force_remount=True)\n",
        "root_dir = \"/content/drive/MyDrive/\"\n",
        "base_dir = root_dir + \"tesi_magistrale/datasets/to_zip/\"\n",
        "path_corpus_data = root_dir + \"tesi_magistrale/datasets/corpus_data_folder/\"\n",
        "ontonotes_path = base_dir + \"ontonotes/\""
      ],
      "execution_count": 1,
      "outputs": [
        {
          "output_type": "stream",
          "text": [
            "Mounted at /content/drive/\n"
          ],
          "name": "stdout"
        }
      ]
    },
    {
      "cell_type": "code",
      "metadata": {
        "id": "Hm6RoPKn3IyB"
      },
      "source": [
        "import json\n",
        "\n",
        "with open(ontonotes_path + \"g_train_tree.json\", 'r') as inp:\n",
        "    examples_train = [json.loads(l) for l in inp.readlines()]\n",
        "\n",
        "with open(ontonotes_path + \"g_test_tree.json\", 'r') as inp:\n",
        "    examples_test = [json.loads(l) for l in inp.readlines()]"
      ],
      "execution_count": 2,
      "outputs": []
    },
    {
      "cell_type": "code",
      "metadata": {
        "colab": {
          "base_uri": "https://localhost:8080/"
        },
        "id": "-66bcSCfxoIo",
        "outputId": "4754083d-fe5d-4fce-c1f8-755ec017d7d5"
      },
      "source": [
        "print(\"il dataset train contiene \",len(examples_train), \"elementi\")"
      ],
      "execution_count": 3,
      "outputs": [
        {
          "output_type": "stream",
          "text": [
            "il dataset train contiene  251039 elementi\n"
          ],
          "name": "stdout"
        }
      ]
    },
    {
      "cell_type": "code",
      "metadata": {
        "colab": {
          "base_uri": "https://localhost:8080/"
        },
        "id": "jpJi9a-Fxs0A",
        "outputId": "a3e44d09-d31a-45dc-aa7e-427e95913c51"
      },
      "source": [
        "print(\"il dataset test contiene \",len(examples_test), \"elementi\")"
      ],
      "execution_count": 4,
      "outputs": [
        {
          "output_type": "stream",
          "text": [
            "il dataset test contiene  8963 elementi\n"
          ],
          "name": "stdout"
        }
      ]
    },
    {
      "cell_type": "markdown",
      "metadata": {
        "id": "a79ZYGSIzLka"
      },
      "source": [
        "Merge the two dataset train e test"
      ]
    },
    {
      "cell_type": "code",
      "metadata": {
        "colab": {
          "base_uri": "https://localhost:8080/"
        },
        "id": "ns1R03kY2dKW",
        "outputId": "77cc533f-c850-4461-a134-ae8208e299b3"
      },
      "source": [
        "entire_dataset_list = examples_train + examples_test\n",
        "print(\" uniti train e test contengono \", len(entire_dataset_list), \"elementi\")"
      ],
      "execution_count": 5,
      "outputs": [
        {
          "output_type": "stream",
          "text": [
            " uniti train e test contengono  260002 elementi\n"
          ],
          "name": "stdout"
        }
      ]
    },
    {
      "cell_type": "code",
      "metadata": {
        "colab": {
          "base_uri": "https://localhost:8080/"
        },
        "id": "CdBt_b_0Gl6m",
        "outputId": "7d553209-e54f-4767-e680-f8c0f0632d8e"
      },
      "source": [
        "phrases = []\n",
        "for i in range (0,2):\n",
        "  if (len(entire_dataset_list[i]['y_str'])>1):\n",
        "    for k in range(0,len(entire_dataset_list[i]['y_str'])):\n",
        "      phrase = []\n",
        "      phrase = entire_dataset_list[i]['left_context_token'] + entire_dataset_list[i]['y_str'][k].upper().split() + entire_dataset_list[i]['right_context_token']\n",
        "      phrases.append(phrase)\n",
        "  else:\n",
        "    phrase = []\n",
        "    phrase = entire_dataset_list[i]['left_context_token'] + entire_dataset_list[i]['y_str'][0].upper().split() + entire_dataset_list[i]['right_context_token']\n",
        "    phrases.append(phrase)\n",
        "\n",
        "print(phrases)"
      ],
      "execution_count": 6,
      "outputs": [
        {
          "output_type": "stream",
          "text": [
            "[['Usually', 'directors', ',', 'otherwise', ',', 'they', 'have', 'beards', 'and', 'very', 'long', 'hair', ',', 'or', 'otherwise', 'they', 'shave', 'their', '/OTHER', '.'], ['Usually', 'directors', ',', 'otherwise', ',', 'they', 'have', 'beards', 'and', 'very', 'long', 'hair', ',', 'or', 'otherwise', 'they', 'shave', 'their', '/OTHER/BODY_PART', '.'], ['Usually', '/PERSON/TITLE', ',', 'otherwise', ',', 'they', 'have', 'beards', 'and', 'very', 'long', 'hair', ',', 'or', 'otherwise', 'they', 'shave', 'their', 'heads', '.'], ['Usually', '/PERSON', ',', 'otherwise', ',', 'they', 'have', 'beards', 'and', 'very', 'long', 'hair', ',', 'or', 'otherwise', 'they', 'shave', 'their', 'heads', '.']]\n"
          ],
          "name": "stdout"
        }
      ]
    },
    {
      "cell_type": "code",
      "metadata": {
        "id": "Vx8CYWDgWF2O"
      },
      "source": [
        "with open(path_corpus_data + \"corpus_data_ontonotes.txt\", 'w') as f:\n",
        "    for s in phrases:\n",
        "        f.write(str(s) + '\\n')"
      ],
      "execution_count": 7,
      "outputs": []
    }
  ]
}