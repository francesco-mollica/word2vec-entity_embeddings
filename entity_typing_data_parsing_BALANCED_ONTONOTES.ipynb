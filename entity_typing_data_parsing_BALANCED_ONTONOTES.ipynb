{
  "nbformat": 4,
  "nbformat_minor": 0,
  "metadata": {
    "kernelspec": {
      "display_name": "Python 3",
      "language": "python",
      "name": "python3"
    },
    "language_info": {
      "codemirror_mode": {
        "name": "ipython",
        "version": 3
      },
      "file_extension": ".py",
      "mimetype": "text/x-python",
      "name": "python",
      "nbconvert_exporter": "python",
      "pygments_lexer": "ipython3",
      "version": "3.6.9"
    },
    "colab": {
      "name": "entity_typing_data_parsing_BALANCED_ONTONOTES.ipynb",
      "provenance": [],
      "collapsed_sections": []
    }
  },
  "cells": [
    {
      "cell_type": "code",
      "metadata": {
        "id": "MKL7Wwcj3pSj",
        "colab": {
          "base_uri": "https://localhost:8080/"
        },
        "outputId": "1c351d95-1002-4bb7-c7da-d3ed4180c9a3"
      },
      "source": [
        "from google.colab import drive\n",
        "drive.mount('/content/drive/', force_remount=True)\n",
        "root_dir = \"/content/drive/MyDrive/\"\n",
        "base_dir = root_dir + \"tesi_magistrale/datasets/to_zip/\"\n",
        "path_corpus_data = root_dir + \"tesi_magistrale/datasets/corpus_data_folder/\"\n",
        "balanced_ontonotes_path = base_dir + \"balanced_ontonotes/\""
      ],
      "execution_count": 7,
      "outputs": [
        {
          "output_type": "stream",
          "text": [
            "Mounted at /content/drive/\n"
          ],
          "name": "stdout"
        }
      ]
    },
    {
      "cell_type": "code",
      "metadata": {
        "id": "Hm6RoPKn3IyB"
      },
      "source": [
        "import json\n",
        "\n",
        "with open(balanced_ontonotes_path + \"train.json\", 'r') as inp:\n",
        "    examples_train = [json.loads(l) for l in inp.readlines()]"
      ],
      "execution_count": 33,
      "outputs": []
    },
    {
      "cell_type": "code",
      "metadata": {
        "colab": {
          "base_uri": "https://localhost:8080/"
        },
        "id": "-66bcSCfxoIo",
        "outputId": "0d93c571-6ba9-4c88-a828-09c34d246ddc"
      },
      "source": [
        "print(\"il dataset train contiene \",len(examples_train), \"elementi\")"
      ],
      "execution_count": 34,
      "outputs": [
        {
          "output_type": "stream",
          "text": [
            "il dataset train contiene  249592 elementi\n"
          ],
          "name": "stdout"
        }
      ]
    },
    {
      "cell_type": "code",
      "metadata": {
        "id": "lIrgBvLyNzF3"
      },
      "source": [
        "examples_iter = iter(examples_train)"
      ],
      "execution_count": 35,
      "outputs": []
    },
    {
      "cell_type": "code",
      "metadata": {
        "id": "3J976X_9OW1v",
        "outputId": "98e501d4-fc6a-422c-ba0f-a2aa29439be2",
        "colab": {
          "base_uri": "https://localhost:8080/"
        }
      },
      "source": [
        "from tqdm import tqdm\n",
        "fp = open(path_corpus_data + 'corpus_data_balanced_ontonotes.txt', \"w+\")  # Open a file\n",
        "# do file operations.\n",
        "restricted_set = set()\n",
        "for i in tqdm(examples_iter):\n",
        "  if (len(i['y_str'])>1):\n",
        "    for k in range(0,len(i['y_str'])):\n",
        "      phrase = []\n",
        "      phrase = i['left_context_token'] + i['y_str'][k].upper().split() + i['right_context_token']\n",
        "      fp.write(' '.join(phrase) + '\\n')\n",
        "      restricted_set.add(i['y_str'][k].upper())\n",
        "  else:\n",
        "    phrase = []\n",
        "    phrase = i['left_context_token'] + i['y_str'][0].upper().split() + i['right_context_token']\n",
        "    fp.write(' '.join(phrase) + '\\n')\n",
        "    restricted_set.add(i['y_str'][0].upper())\n",
        "\n",
        "fp.close()\n",
        "restricted_list = list(restricted_set)"
      ],
      "execution_count": 36,
      "outputs": [
        {
          "output_type": "stream",
          "text": [
            "249592it [00:03, 81753.37it/s]\n"
          ],
          "name": "stderr"
        }
      ]
    },
    {
      "cell_type": "code",
      "metadata": {
        "id": "y9OiojDpInvv"
      },
      "source": [
        "import pickle\n",
        "with open(path_corpus_data + 'restricted_list_balanced_ontonotes.pkl', 'wb') as fp:\n",
        "  pickle.dump(restricted_list, fp)"
      ],
      "execution_count": null,
      "outputs": []
    }
  ]
}