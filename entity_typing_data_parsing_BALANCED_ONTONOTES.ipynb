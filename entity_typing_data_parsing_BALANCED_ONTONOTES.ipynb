{
  "nbformat": 4,
  "nbformat_minor": 0,
  "metadata": {
    "kernelspec": {
      "display_name": "Python 3",
      "language": "python",
      "name": "python3"
    },
    "language_info": {
      "codemirror_mode": {
        "name": "ipython",
        "version": 3
      },
      "file_extension": ".py",
      "mimetype": "text/x-python",
      "name": "python",
      "nbconvert_exporter": "python",
      "pygments_lexer": "ipython3",
      "version": "3.6.9"
    },
    "colab": {
      "name": "entity_typing_data_parsing_BALANCED_ONTONOTES.ipynb",
      "provenance": [],
      "collapsed_sections": []
    }
  },
  "cells": [
    {
      "cell_type": "markdown",
      "metadata": {
        "id": "WosgTNVC3IyA"
      },
      "source": [
        "##### Balanced Ontonotes: \n",
        "    subfolder:balanced_ontonotes; \n",
        "    original data: train.json, dev.json test.json;\n",
        "    ontology: entity_typing_all_datasets/data/ontology/onto_ontology.txt, the taxonomy is trivial (follow the types' names)"
      ]
    },
    {
      "cell_type": "code",
      "metadata": {
        "id": "MKL7Wwcj3pSj",
        "colab": {
          "base_uri": "https://localhost:8080/"
        },
        "outputId": "05e845d9-783e-4760-ddfd-67bf4642f799"
      },
      "source": [
        "from google.colab import drive\n",
        "drive.mount('/content/drive/', force_remount=True)\n",
        "root_dir = \"/content/drive/MyDrive/\"\n",
        "base_dir = root_dir + \"tesi_magistrale/datasets/to_zip/\"\n",
        "path_corpus_data = root_dir + \"tesi_magistrale/datasets/corpus_data_folder/\"\n",
        "balanced_ontonotes_path = base_dir + \"balanced_ontonotes/\""
      ],
      "execution_count": 1,
      "outputs": [
        {
          "output_type": "stream",
          "text": [
            "Mounted at /content/drive/\n"
          ],
          "name": "stdout"
        }
      ]
    },
    {
      "cell_type": "code",
      "metadata": {
        "id": "Hm6RoPKn3IyB"
      },
      "source": [
        "import json\n",
        "\n",
        "with open(balanced_ontonotes_path + \"train.json\", 'r') as inp:\n",
        "    examples_train = [json.loads(l) for l in inp.readlines()]\n",
        "\n",
        "with open(balanced_ontonotes_path + \"test.json\", 'r') as inp:\n",
        "    examples_test = [json.loads(l) for l in inp.readlines()]"
      ],
      "execution_count": 2,
      "outputs": []
    },
    {
      "cell_type": "code",
      "metadata": {
        "colab": {
          "base_uri": "https://localhost:8080/"
        },
        "id": "-66bcSCfxoIo",
        "outputId": "300878cd-db54-405e-ad2d-4e26657afa36"
      },
      "source": [
        "print(\"il dataset train contiene \",len(examples_train), \"elementi\")"
      ],
      "execution_count": 3,
      "outputs": [
        {
          "output_type": "stream",
          "text": [
            "il dataset train contiene  249592 elementi\n"
          ],
          "name": "stdout"
        }
      ]
    },
    {
      "cell_type": "code",
      "metadata": {
        "colab": {
          "base_uri": "https://localhost:8080/"
        },
        "id": "jpJi9a-Fxs0A",
        "outputId": "8d732d9f-0f49-4aba-d3cb-e7b39de42d1f"
      },
      "source": [
        "print(\"il dataset test contiene \",len(examples_test), \"elementi\")"
      ],
      "execution_count": 4,
      "outputs": [
        {
          "output_type": "stream",
          "text": [
            "il dataset test contiene  735 elementi\n"
          ],
          "name": "stdout"
        }
      ]
    },
    {
      "cell_type": "markdown",
      "metadata": {
        "id": "a79ZYGSIzLka"
      },
      "source": [
        "Merge the two dataset train e test"
      ]
    },
    {
      "cell_type": "code",
      "metadata": {
        "colab": {
          "base_uri": "https://localhost:8080/"
        },
        "id": "ns1R03kY2dKW",
        "outputId": "c10af777-4cdc-41af-fe93-00e3502a013c"
      },
      "source": [
        "entire_dataset_list = examples_train + examples_test\n",
        "print(\" uniti train e test contengono \", len(entire_dataset_list), \"elementi\")"
      ],
      "execution_count": 5,
      "outputs": [
        {
          "output_type": "stream",
          "text": [
            " uniti train e test contengono  250327 elementi\n"
          ],
          "name": "stdout"
        }
      ]
    },
    {
      "cell_type": "code",
      "metadata": {
        "colab": {
          "base_uri": "https://localhost:8080/"
        },
        "id": "0mv7oiWh_RcM",
        "outputId": "0d3ae95f-b246-4f6b-e2a3-df054cf01c12"
      },
      "source": [
        "phrases = []\n",
        "for i in range (0,2):\n",
        "  if (len(entire_dataset_list[i]['y_str'])>1):\n",
        "    for k in range(0,len(entire_dataset_list[i]['y_str'])):\n",
        "      phrase = []\n",
        "      phrase = entire_dataset_list[i]['left_context_token'] + entire_dataset_list[i]['y_str'][k].upper().split() + entire_dataset_list[i]['right_context_token']\n",
        "      phrases.append(phrase)\n",
        "  else:\n",
        "    phrase = []\n",
        "    phrase = entire_dataset_list[i]['left_context_token'] + entire_dataset_list[i]['y_str'][0].upper().split() + entire_dataset_list[i]['right_context_token']\n",
        "    phrases.append(phrase)\n",
        "\n",
        "print(phrases)"
      ],
      "execution_count": 6,
      "outputs": [
        {
          "output_type": "stream",
          "text": [
            "[['OK', ',', 'we', \"'ll\", 'call', 'him', 'General', '/PERSON', '.'], ['/PERSON/TITLE', 'that', 'was', ',', 'the', 'only', 'way', 'you', 'could', 'overcome', 'them', 'and', 'get', 'the', 'upper', 'hand', '.'], ['/PERSON', 'that', 'was', ',', 'the', 'only', 'way', 'you', 'could', 'overcome', 'them', 'and', 'get', 'the', 'upper', 'hand', '.']]\n"
          ],
          "name": "stdout"
        }
      ]
    },
    {
      "cell_type": "code",
      "metadata": {
        "id": "q35rGHCIC3b8"
      },
      "source": [
        "import pickle\n",
        "with open(path_corpus_data + \"corpus_data_balanced_ontonotes.txt\", \"wb\") as fp:  \n",
        "  pickle.dump(phrases, fp)"
      ],
      "execution_count": 9,
      "outputs": []
    }
  ]
}