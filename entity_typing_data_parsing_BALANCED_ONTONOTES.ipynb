{
  "nbformat": 4,
  "nbformat_minor": 0,
  "metadata": {
    "kernelspec": {
      "display_name": "Python 3",
      "language": "python",
      "name": "python3"
    },
    "language_info": {
      "codemirror_mode": {
        "name": "ipython",
        "version": 3
      },
      "file_extension": ".py",
      "mimetype": "text/x-python",
      "name": "python",
      "nbconvert_exporter": "python",
      "pygments_lexer": "ipython3",
      "version": "3.6.9"
    },
    "colab": {
      "name": "entity_typing_data_parsing_BALANCED_ONTONOTES.ipynb",
      "provenance": [],
      "collapsed_sections": []
    }
  },
  "cells": [
    {
      "cell_type": "markdown",
      "metadata": {
        "id": "WosgTNVC3IyA"
      },
      "source": [
        "##### Balanced Ontonotes: \n",
        "    subfolder:balanced_ontonotes; \n",
        "    original data: train.json, dev.json test.json;\n",
        "    ontology: entity_typing_all_datasets/data/ontology/onto_ontology.txt, the taxonomy is trivial (follow the types' names)"
      ]
    },
    {
      "cell_type": "code",
      "metadata": {
        "id": "MKL7Wwcj3pSj",
        "colab": {
          "base_uri": "https://localhost:8080/"
        },
        "outputId": "53236c43-afd6-4011-85b9-25621acd9f75"
      },
      "source": [
        "from google.colab import drive\n",
        "drive.mount('/content/drive/', force_remount=True)\n",
        "root_dir = \"/content/drive/MyDrive/\"\n",
        "base_dir = root_dir + \"tesi_magistrale/datasets/to_zip/\"\n",
        "path_corpus_data = root_dir + \"tesi_magistrale/datasets/corpus_data_folder/\"\n",
        "balanced_ontonotes_path = base_dir + \"balanced_ontonotes/\""
      ],
      "execution_count": 29,
      "outputs": [
        {
          "output_type": "stream",
          "text": [
            "Mounted at /content/drive/\n"
          ],
          "name": "stdout"
        }
      ]
    },
    {
      "cell_type": "code",
      "metadata": {
        "id": "Hm6RoPKn3IyB"
      },
      "source": [
        "import json\n",
        "\n",
        "with open(balanced_ontonotes_path + \"train.json\", 'r') as inp:\n",
        "    examples_train = [json.loads(l) for l in inp.readlines()]\n",
        "\n",
        "with open(balanced_ontonotes_path + \"test.json\", 'r') as inp:\n",
        "    examples_test = [json.loads(l) for l in inp.readlines()]"
      ],
      "execution_count": 30,
      "outputs": []
    },
    {
      "cell_type": "code",
      "metadata": {
        "colab": {
          "base_uri": "https://localhost:8080/"
        },
        "id": "-66bcSCfxoIo",
        "outputId": "2f47d46e-b40e-4989-82d1-93b8230315ac"
      },
      "source": [
        "print(\"il dataset train contiene \",len(examples_train), \"elementi\")"
      ],
      "execution_count": 31,
      "outputs": [
        {
          "output_type": "stream",
          "text": [
            "il dataset train contiene  249592 elementi\n"
          ],
          "name": "stdout"
        }
      ]
    },
    {
      "cell_type": "code",
      "metadata": {
        "colab": {
          "base_uri": "https://localhost:8080/"
        },
        "id": "jpJi9a-Fxs0A",
        "outputId": "cfa18647-309d-47b2-e19a-6acbb516e155"
      },
      "source": [
        "print(\"il dataset test contiene \",len(examples_test), \"elementi\")"
      ],
      "execution_count": 32,
      "outputs": [
        {
          "output_type": "stream",
          "text": [
            "il dataset test contiene  735 elementi\n"
          ],
          "name": "stdout"
        }
      ]
    },
    {
      "cell_type": "markdown",
      "metadata": {
        "id": "a79ZYGSIzLka"
      },
      "source": [
        "Merge the two dataset train e test"
      ]
    },
    {
      "cell_type": "code",
      "metadata": {
        "colab": {
          "base_uri": "https://localhost:8080/"
        },
        "id": "ns1R03kY2dKW",
        "outputId": "42872f1c-470b-435a-edf5-b3a8ebb0bfb3"
      },
      "source": [
        "entire_dataset_list = examples_train + examples_test\n",
        "print(\" uniti train e test contengono \", len(entire_dataset_list), \"elementi\")"
      ],
      "execution_count": 33,
      "outputs": [
        {
          "output_type": "stream",
          "text": [
            " uniti train e test contengono  250327 elementi\n"
          ],
          "name": "stdout"
        }
      ]
    },
    {
      "cell_type": "code",
      "metadata": {
        "colab": {
          "base_uri": "https://localhost:8080/"
        },
        "id": "0mv7oiWh_RcM",
        "outputId": "bb5e60da-f42e-4199-e173-edadafed2b7c"
      },
      "source": [
        "phrases = []\n",
        "for i in range (0,2):\n",
        "  if (len(entire_dataset_list[i]['y_str'])>1):\n",
        "    for k in range(0,len(entire_dataset_list[i]['y_str'])):\n",
        "      phrase = []\n",
        "      phrase = entire_dataset_list[i]['left_context_token'] + entire_dataset_list[i]['y_str'][k].upper().split() + entire_dataset_list[i]['right_context_token']\n",
        "      phrases.append(phrase)\n",
        "  else:\n",
        "    phrase = []\n",
        "    phrase = entire_dataset_list[i]['left_context_token'] + entire_dataset_list[i]['y_str'][0].upper().split() + entire_dataset_list[i]['right_context_token']\n",
        "    phrases.append(phrase)\n",
        "\n",
        "print(phrases)"
      ],
      "execution_count": 34,
      "outputs": [
        {
          "output_type": "stream",
          "text": [
            "[['OK', ',', 'we', \"'ll\", 'call', 'him', 'General', '/PERSON', '.'], ['/PERSON/TITLE', 'that', 'was', ',', 'the', 'only', 'way', 'you', 'could', 'overcome', 'them', 'and', 'get', 'the', 'upper', 'hand', '.'], ['/PERSON', 'that', 'was', ',', 'the', 'only', 'way', 'you', 'could', 'overcome', 'them', 'and', 'get', 'the', 'upper', 'hand', '.']]\n"
          ],
          "name": "stdout"
        }
      ]
    },
    {
      "cell_type": "code",
      "metadata": {
        "id": "LWZEnd9z-OkF"
      },
      "source": [
        "with open(path_corpus_data + \"corpus_data_balanced_ontonotes.txt\", 'w') as f:\n",
        "    for s in phrases:\n",
        "        f.write(str(s) + '\\n')"
      ],
      "execution_count": 35,
      "outputs": []
    }
  ]
}