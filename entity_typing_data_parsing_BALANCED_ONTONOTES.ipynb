{
  "nbformat": 4,
  "nbformat_minor": 0,
  "metadata": {
    "kernelspec": {
      "display_name": "Python 3",
      "language": "python",
      "name": "python3"
    },
    "language_info": {
      "codemirror_mode": {
        "name": "ipython",
        "version": 3
      },
      "file_extension": ".py",
      "mimetype": "text/x-python",
      "name": "python",
      "nbconvert_exporter": "python",
      "pygments_lexer": "ipython3",
      "version": "3.6.9"
    },
    "colab": {
      "name": "entity_typing_data_parsing_BALANCED_ONTONOTES.ipynb",
      "provenance": [],
      "collapsed_sections": []
    }
  },
  "cells": [
    {
      "cell_type": "code",
      "metadata": {
        "id": "MKL7Wwcj3pSj",
        "colab": {
          "base_uri": "https://localhost:8080/"
        },
        "outputId": "807356e1-e9fe-4d5b-b04a-96af4e1e11c1"
      },
      "source": [
        "from google.colab import drive\n",
        "drive.mount('/content/drive/', force_remount=True)\n",
        "root_dir = \"/content/drive/MyDrive/\"\n",
        "base_dir = root_dir + \"tesi_magistrale/datasets/to_zip/\"\n",
        "path_corpus_data = root_dir + \"tesi_magistrale/datasets/corpus_data_folder/\"\n",
        "balanced_ontonotes_path = base_dir + \"balanced_ontonotes/\"\n",
        "custom_stopwords=True"
      ],
      "execution_count": null,
      "outputs": [
        {
          "output_type": "stream",
          "text": [
            "Mounted at /content/drive/\n"
          ],
          "name": "stdout"
        }
      ]
    },
    {
      "cell_type": "code",
      "metadata": {
        "id": "UD3y6ehiV18j"
      },
      "source": [
        "from gensim.parsing.preprocessing import STOPWORDS\n",
        " \n",
        "# Adding multiple words to gensim stoplist\n",
        "new_stopword = STOPWORDS.union(set([\"\\'\", ',', '?','-', '--', '.', '``', '`', ';', '!', '\\'s', '\\'t','(', ')', 'n\\'t', '\\'d', 'A', '\\'re', '\\'m','%','$',':','&','&&','\\'\\'']))\n",
        "\n",
        "def remove_custom_stopwords(p):\n",
        "  tok_without_sw = [word for word in p if not word.lower() in new_stopword]\n",
        "  p[:] = tok_without_sw[:]\n",
        "  \n",
        "\n"
      ],
      "execution_count": null,
      "outputs": []
    },
    {
      "cell_type": "code",
      "metadata": {
        "id": "Hm6RoPKn3IyB"
      },
      "source": [
        "import json\n",
        "\n",
        "with open(balanced_ontonotes_path + \"train.json\", 'r') as inp:\n",
        "    examples_train = [json.loads(l) for l in inp.readlines()]"
      ],
      "execution_count": null,
      "outputs": []
    },
    {
      "cell_type": "code",
      "metadata": {
        "colab": {
          "base_uri": "https://localhost:8080/"
        },
        "id": "-66bcSCfxoIo",
        "outputId": "302690d7-5f84-4cfa-9680-0f3903e6211f"
      },
      "source": [
        "print(\"il dataset train contiene \",len(examples_train), \"elementi\")"
      ],
      "execution_count": null,
      "outputs": [
        {
          "output_type": "stream",
          "text": [
            "il dataset train contiene  249592 elementi\n"
          ],
          "name": "stdout"
        }
      ]
    },
    {
      "cell_type": "code",
      "metadata": {
        "id": "lIrgBvLyNzF3"
      },
      "source": [
        "examples_iter = iter(examples_train)"
      ],
      "execution_count": null,
      "outputs": []
    },
    {
      "cell_type": "code",
      "metadata": {
        "id": "i3spCbfCdrC0"
      },
      "source": [
        "open(path_corpus_data + 'types_counters_balanced_ontonotes.json', 'w').close()"
      ],
      "execution_count": null,
      "outputs": []
    },
    {
      "cell_type": "code",
      "metadata": {
        "id": "3J976X_9OW1v",
        "colab": {
          "base_uri": "https://localhost:8080/"
        },
        "outputId": "9b48a3b3-08c8-4316-f2df-7950d7421b6a"
      },
      "source": [
        "from tqdm import tqdm\n",
        "from gensim.parsing.preprocessing import remove_stopwords\n",
        "if custom_stopwords:\n",
        "  fp = open(path_corpus_data + 'corpus_data_entire_balanced_ontonotes_custom.txt', \"w+\")  # Open a file\n",
        "else:\n",
        "  fp = open(path_corpus_data + 'corpus_data_entire_balanced_ontonotes.txt', \"w+\")  # Open a file\n",
        "\n",
        "# do file operations.\n",
        "restricted_set = {}\n",
        "for i in tqdm(examples_iter):\n",
        "  if (len(i['y_str'])>1):\n",
        "    for k in range(0,len(i['y_str'])):\n",
        "      phrase = []\n",
        "      phrase = i['left_context_token'] + i['y_str'][k].upper().split() + i['right_context_token']\n",
        "      if custom_stopwords:\n",
        "        remove_custom_stopwords(phrase)\n",
        "        fp.write(' '.join(phrase.copy())+'\\n')\n",
        "      else:\n",
        "        fp.write(remove_stopwords(' '.join(phrase)) + '\\n')\n",
        "      if (i['y_str'][k].upper() not in restricted_set):\n",
        "          restricted_set[i['y_str'][k].upper()]=1\n",
        "      else:\n",
        "          restricted_set[i['y_str'][k].upper()]+=1\n",
        "  else:\n",
        "    phrase = []\n",
        "    phrase = i['left_context_token'] + i['y_str'][0].upper().split() + i['right_context_token']\n",
        "    \n",
        "    if custom_stopwords:\n",
        "      remove_custom_stopwords(phrase)\n",
        "      fp.write(' '.join(phrase.copy())+'\\n')\n",
        "    else:\n",
        "      fp.write(remove_stopwords(' '.join(phrase)) + '\\n')\n",
        "\n",
        "    if (i['y_str'][0].upper() not in restricted_set):\n",
        "      restricted_set[i['y_str'][0].upper()]=1\n",
        "    else:\n",
        "      restricted_set[i['y_str'][0].upper()]+=1\n",
        "\n",
        "fp.close()\n"
      ],
      "execution_count": null,
      "outputs": [
        {
          "output_type": "stream",
          "text": [
            "249592it [00:07, 34619.93it/s]\n"
          ],
          "name": "stderr"
        }
      ]
    },
    {
      "cell_type": "code",
      "metadata": {
        "id": "y9OiojDpInvv"
      },
      "source": [
        "with open(path_corpus_data + 'types_counters_balanced_ontonotes.json', 'a') as fp_3:\n",
        "  json.dump(restricted_set, fp_3)"
      ],
      "execution_count": null,
      "outputs": []
    }
  ]
}