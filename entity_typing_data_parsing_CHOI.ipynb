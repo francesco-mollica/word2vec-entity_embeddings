{
  "nbformat": 4,
  "nbformat_minor": 0,
  "metadata": {
    "kernelspec": {
      "display_name": "Python 3",
      "language": "python",
      "name": "python3"
    },
    "language_info": {
      "codemirror_mode": {
        "name": "ipython",
        "version": 3
      },
      "file_extension": ".py",
      "mimetype": "text/x-python",
      "name": "python",
      "nbconvert_exporter": "python",
      "pygments_lexer": "ipython3",
      "version": "3.6.9"
    },
    "colab": {
      "name": "entity_typing_data_parsing_CHOI.ipynb",
      "provenance": [],
      "collapsed_sections": []
    }
  },
  "cells": [
    {
      "cell_type": "code",
      "metadata": {
        "id": "MKL7Wwcj3pSj",
        "colab": {
          "base_uri": "https://localhost:8080/"
        },
        "outputId": "95d3e11d-b941-4f21-bdb0-36a51a2eb779"
      },
      "source": [
        "from google.colab import drive\n",
        "drive.mount('/content/drive/', force_remount=True)\n",
        "root_dir = \"/content/drive/MyDrive/\"\n",
        "base_dir = root_dir + \"tesi_magistrale/datasets/to_zip/\"\n",
        "path_corpus_data = root_dir + \"tesi_magistrale/datasets/corpus_data_folder/\"\n",
        "crowd_path = base_dir + \"crowd/\""
      ],
      "execution_count": 1,
      "outputs": [
        {
          "output_type": "stream",
          "text": [
            "Mounted at /content/drive/\n"
          ],
          "name": "stdout"
        }
      ]
    },
    {
      "cell_type": "code",
      "metadata": {
        "id": "2f7wV4N3YXKe"
      },
      "source": [
        "from gensim.parsing.preprocessing import STOPWORDS\n",
        " \n",
        "# Adding multiple words to gensim stoplist\n",
        "new_stopword = STOPWORDS.union(set([\"\\'\", ',', '?','-', '--', '.', '``', '`', ';', '!', '\\'s', '\\'t','(', ')','\"','\"\"','.-','-.', 'n\\'t', '\\'d', 'A', '\\'re', '\\'m','%','$',':','&','&&','\\'\\'']))\n",
        "\n",
        "def remove_custom_stopwords(p):\n",
        "  tok_without_sw = [word for word in p if not word.lower() in new_stopword]\n",
        "  p[:] = tok_without_sw"
      ],
      "execution_count": 2,
      "outputs": []
    },
    {
      "cell_type": "code",
      "metadata": {
        "id": "7szrJIr3YX4Y"
      },
      "source": [
        "custom_stopwords=True"
      ],
      "execution_count": 3,
      "outputs": []
    },
    {
      "cell_type": "code",
      "metadata": {
        "id": "Hm6RoPKn3IyB"
      },
      "source": [
        "import json\n",
        "\n",
        "with open(crowd_path + \"train_m_tree.json\", 'r') as inp:\n",
        "    examples_train = [json.loads(l) for l in inp.readlines()]"
      ],
      "execution_count": 4,
      "outputs": []
    },
    {
      "cell_type": "code",
      "metadata": {
        "colab": {
          "base_uri": "https://localhost:8080/"
        },
        "id": "-66bcSCfxoIo",
        "outputId": "053717de-6cfa-48df-b39c-6fabd9e6242e"
      },
      "source": [
        "print(\"il dataset train contiene \",len(examples_train), \"elementi\")"
      ],
      "execution_count": 5,
      "outputs": [
        {
          "output_type": "stream",
          "text": [
            "il dataset train contiene  19980 elementi\n"
          ],
          "name": "stdout"
        }
      ]
    },
    {
      "cell_type": "code",
      "metadata": {
        "id": "ns1R03kY2dKW"
      },
      "source": [
        "examples_iter = iter(examples_train)"
      ],
      "execution_count": 6,
      "outputs": []
    },
    {
      "cell_type": "code",
      "metadata": {
        "id": "5SDyg48-c4s9"
      },
      "source": [
        "open(path_corpus_data + 'types_counters_choi.json', 'w').close()"
      ],
      "execution_count": 7,
      "outputs": []
    },
    {
      "cell_type": "code",
      "metadata": {
        "colab": {
          "base_uri": "https://localhost:8080/"
        },
        "id": "LMgSCcWbSqbx",
        "outputId": "ac665b6b-9d46-4445-df86-34a678738326"
      },
      "source": [
        "from tqdm import tqdm\n",
        "from gensim.parsing.preprocessing import remove_stopwords\n",
        "if custom_stopwords:\n",
        "   fp = open(path_corpus_data + 'corpus_data_entire_choi_custom.txt', \"w+\")  # Open a file\n",
        "else:\n",
        "  fp = open(path_corpus_data + 'corpus_data_entire_choi.txt', \"w+\")  # Open a file\n",
        "\n",
        "restricted_set = {}\n",
        "for i in tqdm(examples_iter):\n",
        "  if (len(i['y_str'])>1):\n",
        "    for k in range(0,len(i['y_str'])):\n",
        "      phrase = []\n",
        "      phrase = i['left_context_token'] + (\"/\" + i['y_str'][k].upper()).split() + i['right_context_token']\n",
        "      \n",
        "      if custom_stopwords:\n",
        "        remove_custom_stopwords(phrase)\n",
        "        fp.write(' '.join(phrase.copy())+'\\n')\n",
        "      else:\n",
        "        fp.write(remove_stopwords(' '.join(phrase)) + '\\n')\n",
        "\n",
        "      if (\"/\" + i['y_str'][k].upper() not in restricted_set):\n",
        "          restricted_set[\"/\" + i['y_str'][k].upper()]=1\n",
        "      else:\n",
        "          restricted_set[\"/\" + i['y_str'][k].upper()]+=1\n",
        "  else:\n",
        "    phrase = []\n",
        "    phrase = i['left_context_token'] +  (\"/\" + i['y_str'][0].upper()).split() + i['right_context_token']\n",
        "    \n",
        "    if custom_stopwords:\n",
        "      remove_custom_stopwords(phrase)\n",
        "      fp.write(' '.join(phrase.copy())+'\\n')\n",
        "    else:\n",
        "      fp.write(remove_stopwords(' '.join(phrase)) + '\\n')\n",
        "\n",
        "    if (\"/\" + i['y_str'][0].upper() not in restricted_set):\n",
        "      restricted_set[\"/\" + i['y_str'][0].upper()]=1\n",
        "    else:\n",
        "      restricted_set[\"/\" + i['y_str'][0].upper()]+=1\n",
        "\n",
        "fp.close()\n"
      ],
      "execution_count": 8,
      "outputs": [
        {
          "output_type": "stream",
          "text": [
            "19980it [00:01, 16648.47it/s]\n"
          ],
          "name": "stderr"
        }
      ]
    },
    {
      "cell_type": "code",
      "metadata": {
        "id": "8rIG2o9-gevF"
      },
      "source": [
        "  with open(path_corpus_data + 'types_counters_choi.json', 'a') as fp_3:\n",
        "      json.dump(restricted_set, fp_3)"
      ],
      "execution_count": 9,
      "outputs": []
    }
  ]
}