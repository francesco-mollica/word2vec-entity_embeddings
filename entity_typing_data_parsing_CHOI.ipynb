{
  "nbformat": 4,
  "nbformat_minor": 0,
  "metadata": {
    "kernelspec": {
      "display_name": "Python 3",
      "language": "python",
      "name": "python3"
    },
    "language_info": {
      "codemirror_mode": {
        "name": "ipython",
        "version": 3
      },
      "file_extension": ".py",
      "mimetype": "text/x-python",
      "name": "python",
      "nbconvert_exporter": "python",
      "pygments_lexer": "ipython3",
      "version": "3.6.9"
    },
    "colab": {
      "name": "entity_typing_data_parsing_CHOI.ipynb",
      "provenance": [],
      "collapsed_sections": []
    }
  },
  "cells": [
    {
      "cell_type": "markdown",
      "metadata": {
        "id": "IdutRjWM3IyA"
      },
      "source": [
        "##### Choi: \n",
        "    subfolder:crowd; \n",
        "    original data: train_m_tree.json, dev_tree.json test_tree.json;\n",
        "    ask to Manuel (è dispersa tra i meandri del codice di choi/lopez)"
      ]
    },
    {
      "cell_type": "code",
      "metadata": {
        "id": "MKL7Wwcj3pSj",
        "colab": {
          "base_uri": "https://localhost:8080/"
        },
        "outputId": "9ed819f7-6a2c-4b65-b49a-8692abb31371"
      },
      "source": [
        "from google.colab import drive\n",
        "drive.mount('/content/drive/', force_remount=True)\n",
        "root_dir = \"/content/drive/MyDrive/\"\n",
        "base_dir = root_dir + \"tesi_magistrale/datasets/to_zip/\"\n",
        "path_corpus_data = root_dir + \"tesi_magistrale/datasets/corpus_data_folder/\"\n",
        "crowd_path = base_dir + \"crowd/\""
      ],
      "execution_count": null,
      "outputs": [
        {
          "output_type": "stream",
          "text": [
            "Mounted at /content/drive/\n"
          ],
          "name": "stdout"
        }
      ]
    },
    {
      "cell_type": "code",
      "metadata": {
        "id": "Hm6RoPKn3IyB"
      },
      "source": [
        "import json\n",
        "\n",
        "with open(crowd_path + \"train_m_tree.json\", 'r') as inp:\n",
        "    examples_train = [json.loads(l) for l in inp.readlines()]\n",
        "\n",
        "with open(crowd_path + \"test_tree.json\", 'r') as inp:\n",
        "    examples_test = [json.loads(l) for l in inp.readlines()]"
      ],
      "execution_count": null,
      "outputs": []
    },
    {
      "cell_type": "code",
      "metadata": {
        "colab": {
          "base_uri": "https://localhost:8080/"
        },
        "id": "-66bcSCfxoIo",
        "outputId": "806d2200-4724-4053-e97c-419c0a28a763"
      },
      "source": [
        "print(\"il dataset train contiene \",len(examples_train), \"elementi\")"
      ],
      "execution_count": null,
      "outputs": [
        {
          "output_type": "stream",
          "text": [
            "il dataset train contiene  19980 elementi\n"
          ],
          "name": "stdout"
        }
      ]
    },
    {
      "cell_type": "code",
      "metadata": {
        "colab": {
          "base_uri": "https://localhost:8080/"
        },
        "id": "jpJi9a-Fxs0A",
        "outputId": "09a931a1-00ce-4773-9294-7f3fe94dea2b"
      },
      "source": [
        "print(\"il dataset test contiene \",len(examples_test), \"elementi\")"
      ],
      "execution_count": null,
      "outputs": [
        {
          "output_type": "stream",
          "text": [
            "il dataset test contiene  1998 elementi\n"
          ],
          "name": "stdout"
        }
      ]
    },
    {
      "cell_type": "markdown",
      "metadata": {
        "id": "a79ZYGSIzLka"
      },
      "source": [
        "Merge the two dataset train e test"
      ]
    },
    {
      "cell_type": "code",
      "metadata": {
        "colab": {
          "base_uri": "https://localhost:8080/"
        },
        "id": "ns1R03kY2dKW",
        "outputId": "bc33b192-be64-49ed-d788-32e70fe95aab"
      },
      "source": [
        "entire_dataset_list = examples_train + examples_test\n",
        "print(\" uniti train e test contengono \", len(entire_dataset_list), \"elementi\")"
      ],
      "execution_count": null,
      "outputs": [
        {
          "output_type": "stream",
          "text": [
            " uniti train e test contengono  21978 elementi\n"
          ],
          "name": "stdout"
        }
      ]
    },
    {
      "cell_type": "code",
      "metadata": {
        "colab": {
          "base_uri": "https://localhost:8080/"
        },
        "id": "LMgSCcWbSqbx",
        "outputId": "40e6b7e2-42e8-4107-d451-e8eed8e4f378"
      },
      "source": [
        "phrases = []\n",
        "for i in range (0,2):\n",
        "  if (len(entire_dataset_list[i]['y_str'])>1):\n",
        "    for k in range(0,len(entire_dataset_list[i]['y_str'])):\n",
        "      phrase = []\n",
        "      phrase = entire_dataset_list[i]['left_context_token'] + ((\"/\" + entire_dataset_list[i]['y_str'][k]).upper().split()) + entire_dataset_list[i]['right_context_token']\n",
        "      phrases.append(phrase)\n",
        "  else:\n",
        "    phrase = []\n",
        "    phrase = entire_dataset_list[i]['left_context_token'] + ((\"/\" + entire_dataset_list[i]['y_str'][0]).upper().split()) + entire_dataset_list[i]['right_context_token']\n",
        "    phrases.append(phrase)\n",
        "\n",
        "print(phrases)"
      ],
      "execution_count": null,
      "outputs": [
        {
          "output_type": "stream",
          "text": [
            "[['The', 'British', 'Information', 'Commissioner', \"'s\", 'Office', 'invites', '/CITIZEN', 'to', 'locate', 'its', 'address', 'using', 'Google', 'Maps', '.'], ['The', 'British', 'Information', 'Commissioner', \"'s\", 'Office', 'invites', '/PERSON', 'to', 'locate', 'its', 'address', 'using', 'Google', 'Maps', '.'], ['The', 'British', 'Information', 'Commissioner', \"'s\", 'Office', 'invites', '/USER', 'to', 'locate', 'its', 'address', 'using', 'Google', 'Maps', '.'], ['Tushar', 'Gandhi', 'said', 'the', 'Australian', '-', 'born', 'tycoon', 'would', 'be', 'arrested', 'if', '/CRIMINAL', 'visited', 'Bombay', 'or', 'New', 'Delhi', 'again', '.'], ['Tushar', 'Gandhi', 'said', 'the', 'Australian', '-', 'born', 'tycoon', 'would', 'be', 'arrested', 'if', '/ENTREPRENEUR', 'visited', 'Bombay', 'or', 'New', 'Delhi', 'again', '.'], ['Tushar', 'Gandhi', 'said', 'the', 'Australian', '-', 'born', 'tycoon', 'would', 'be', 'arrested', 'if', '/BUSINESSPERSON', 'visited', 'Bombay', 'or', 'New', 'Delhi', 'again', '.'], ['Tushar', 'Gandhi', 'said', 'the', 'Australian', '-', 'born', 'tycoon', 'would', 'be', 'arrested', 'if', '/BUSINESSMAN', 'visited', 'Bombay', 'or', 'New', 'Delhi', 'again', '.'], ['Tushar', 'Gandhi', 'said', 'the', 'Australian', '-', 'born', 'tycoon', 'would', 'be', 'arrested', 'if', '/TRAVELER', 'visited', 'Bombay', 'or', 'New', 'Delhi', 'again', '.'], ['Tushar', 'Gandhi', 'said', 'the', 'Australian', '-', 'born', 'tycoon', 'would', 'be', 'arrested', 'if', '/MALE', 'visited', 'Bombay', 'or', 'New', 'Delhi', 'again', '.'], ['Tushar', 'Gandhi', 'said', 'the', 'Australian', '-', 'born', 'tycoon', 'would', 'be', 'arrested', 'if', '/PERSON', 'visited', 'Bombay', 'or', 'New', 'Delhi', 'again', '.']]\n"
          ],
          "name": "stdout"
        }
      ]
    },
    {
      "cell_type": "code",
      "metadata": {
        "id": "Vx8CYWDgWF2O"
      },
      "source": [
        "with open(path_corpus_data + \"corpus_data_CHOI.txt\", 'w') as f:\n",
        "    for s in phrases:\n",
        "        f.write(str(s) + '\\n')"
      ],
      "execution_count": 11,
      "outputs": []
    }
  ]
}