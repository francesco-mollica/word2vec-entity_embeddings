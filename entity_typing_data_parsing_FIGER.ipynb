{
  "nbformat": 4,
  "nbformat_minor": 0,
  "metadata": {
    "kernelspec": {
      "display_name": "Python 3",
      "language": "python",
      "name": "python3"
    },
    "language_info": {
      "codemirror_mode": {
        "name": "ipython",
        "version": 3
      },
      "file_extension": ".py",
      "mimetype": "text/x-python",
      "name": "python",
      "nbconvert_exporter": "python",
      "pygments_lexer": "ipython3",
      "version": "3.6.9"
    },
    "colab": {
      "name": "entity_typing_data_parsing_FIGER.ipynb",
      "provenance": [],
      "collapsed_sections": []
    }
  },
  "cells": [
    {
      "cell_type": "code",
      "metadata": {
        "id": "MKL7Wwcj3pSj",
        "colab": {
          "base_uri": "https://localhost:8080/"
        },
        "outputId": "fc44b312-6be9-4643-fdc4-c43cb2e794d4"
      },
      "source": [
        "from google.colab import drive\n",
        "drive.mount('/content/drive/', force_remount=True)\n",
        "root_dir = \"/content/drive/MyDrive/\"\n",
        "base_dir = root_dir + \"tesi_magistrale/datasets/to_zip/\"\n",
        "path_corpus_data = root_dir + \"tesi_magistrale/datasets/corpus_data_folder/\"\n",
        "figer_path = base_dir + \"FIGER/\""
      ],
      "execution_count": null,
      "outputs": [
        {
          "output_type": "stream",
          "text": [
            "Mounted at /content/drive/\n"
          ],
          "name": "stdout"
        }
      ]
    },
    {
      "cell_type": "code",
      "metadata": {
        "id": "Hm6RoPKn3IyB"
      },
      "source": [
        "import json\n",
        "\n",
        "with open(figer_path + \"train.json\", 'r') as inp:\n",
        "    examples_train = [json.loads(l) for l in inp.readlines()]"
      ],
      "execution_count": null,
      "outputs": []
    },
    {
      "cell_type": "code",
      "metadata": {
        "colab": {
          "base_uri": "https://localhost:8080/"
        },
        "id": "-66bcSCfxoIo",
        "outputId": "3f1ee11f-eb20-4968-e225-c2a57a351fae"
      },
      "source": [
        "print(\"il dataset train contiene \",len(examples_train), \"elementi\")"
      ],
      "execution_count": null,
      "outputs": [
        {
          "output_type": "stream",
          "text": [
            "il dataset train contiene  1505765 elementi\n"
          ],
          "name": "stdout"
        }
      ]
    },
    {
      "cell_type": "code",
      "metadata": {
        "id": "xkDsVLxg5M5k",
        "colab": {
          "base_uri": "https://localhost:8080/"
        },
        "outputId": "47e97010-c68e-4dc3-be19-51e9473be323"
      },
      "source": [
        "entire_dataset_list = examples_train\n",
        "print(\" uniti train e test contengono \", len(entire_dataset_list), \"elementi\")"
      ],
      "execution_count": null,
      "outputs": [
        {
          "output_type": "stream",
          "text": [
            " uniti train e test contengono  1506199 elementi\n"
          ],
          "name": "stdout"
        }
      ]
    },
    {
      "cell_type": "code",
      "metadata": {
        "colab": {
          "base_uri": "https://localhost:8080/"
        },
        "id": "E80h-2ABJl6k",
        "outputId": "142bd64a-936f-4877-bc28-818220ce197e"
      },
      "source": [
        "import itertools\n",
        "phrase = []\n",
        "phrases = []\n",
        "permutations = []\n",
        "num_total_phrases = 0\n",
        "for i in range(0, 4):\n",
        "  all_list = []\n",
        "  if len(entire_dataset_list[i]['mentions'])>1:\n",
        "\n",
        "    # creo tutte le permutazioni\n",
        "    for j in entire_dataset_list[i]['mentions']:\n",
        "      all_list.append(j['labels'])\n",
        "    permutations = list(itertools.product(*all_list))\n",
        "\n",
        "    num_total_phrases += len(permutations)\n",
        "\n",
        "    # creo tutte le possibili frasi a partire dalle permutazioni\n",
        "    for p in permutations:\n",
        "      phrase = entire_dataset_list[i]['tokens'].copy()\n",
        "      for h in range(0, len(p)):\n",
        "        phrase[entire_dataset_list[i]['mentions'][h]['start']] = p[h].upper()\n",
        "      \n",
        "      phrases.append(phrase)\n",
        "    \n",
        "  else:\n",
        "    for k in entire_dataset_list[i]['mentions'][0]['labels']:\n",
        "      phrase = entire_dataset_list[i]['tokens'].copy()\n",
        "      phrase[entire_dataset_list[i]['mentions'][0]['start']] = k.upper()\n",
        "      phrases.append(phrase)\n",
        "      num_total_phrases+=1\n",
        "\n",
        "print(\"numero totale di frasi\", num_total_phrases)\n",
        "print(\"controllo se il numero di frasi totali è corretto\", num_total_phrases == len(phrases))\n",
        "print(phrases)"
      ],
      "execution_count": null,
      "outputs": [
        {
          "output_type": "stream",
          "text": [
            "numero totale di frasi 51\n",
            "controllo se il numero di frasi totali è corretto True\n",
            "[['The', 'band', 'also', 'shared', 'membership', 'with', 'the', 'similar', ',', 'defunct', 'group', '/PERSON/MUSICIAN', 'Hud', '(', 'including', 'Tyler', 'Pope', ',', 'who', 'has', 'played', 'with', '/PERSON/MUSICIAN', 'Soundsystem', 'and', 'written', 'music', 'for', '/PERSON/MUSICIAN', ')', '.'], ['The', 'band', 'also', 'shared', 'membership', 'with', 'the', 'similar', ',', 'defunct', 'group', '/PERSON/MUSICIAN', 'Hud', '(', 'including', 'Tyler', 'Pope', ',', 'who', 'has', 'played', 'with', '/PERSON/MUSICIAN', 'Soundsystem', 'and', 'written', 'music', 'for', '/PERSON/ARTIST', ')', '.'], ['The', 'band', 'also', 'shared', 'membership', 'with', 'the', 'similar', ',', 'defunct', 'group', '/PERSON/MUSICIAN', 'Hud', '(', 'including', 'Tyler', 'Pope', ',', 'who', 'has', 'played', 'with', '/PERSON/MUSICIAN', 'Soundsystem', 'and', 'written', 'music', 'for', '/PERSON', ')', '.'], ['The', 'band', 'also', 'shared', 'membership', 'with', 'the', 'similar', ',', 'defunct', 'group', '/PERSON/MUSICIAN', 'Hud', '(', 'including', 'Tyler', 'Pope', ',', 'who', 'has', 'played', 'with', '/PERSON/ARTIST', 'Soundsystem', 'and', 'written', 'music', 'for', '/PERSON/MUSICIAN', ')', '.'], ['The', 'band', 'also', 'shared', 'membership', 'with', 'the', 'similar', ',', 'defunct', 'group', '/PERSON/MUSICIAN', 'Hud', '(', 'including', 'Tyler', 'Pope', ',', 'who', 'has', 'played', 'with', '/PERSON/ARTIST', 'Soundsystem', 'and', 'written', 'music', 'for', '/PERSON/ARTIST', ')', '.'], ['The', 'band', 'also', 'shared', 'membership', 'with', 'the', 'similar', ',', 'defunct', 'group', '/PERSON/MUSICIAN', 'Hud', '(', 'including', 'Tyler', 'Pope', ',', 'who', 'has', 'played', 'with', '/PERSON/ARTIST', 'Soundsystem', 'and', 'written', 'music', 'for', '/PERSON', ')', '.'], ['The', 'band', 'also', 'shared', 'membership', 'with', 'the', 'similar', ',', 'defunct', 'group', '/PERSON/MUSICIAN', 'Hud', '(', 'including', 'Tyler', 'Pope', ',', 'who', 'has', 'played', 'with', '/PERSON', 'Soundsystem', 'and', 'written', 'music', 'for', '/PERSON/MUSICIAN', ')', '.'], ['The', 'band', 'also', 'shared', 'membership', 'with', 'the', 'similar', ',', 'defunct', 'group', '/PERSON/MUSICIAN', 'Hud', '(', 'including', 'Tyler', 'Pope', ',', 'who', 'has', 'played', 'with', '/PERSON', 'Soundsystem', 'and', 'written', 'music', 'for', '/PERSON/ARTIST', ')', '.'], ['The', 'band', 'also', 'shared', 'membership', 'with', 'the', 'similar', ',', 'defunct', 'group', '/PERSON/MUSICIAN', 'Hud', '(', 'including', 'Tyler', 'Pope', ',', 'who', 'has', 'played', 'with', '/PERSON', 'Soundsystem', 'and', 'written', 'music', 'for', '/PERSON', ')', '.'], ['The', 'band', 'also', 'shared', 'membership', 'with', 'the', 'similar', ',', 'defunct', 'group', '/PERSON/ARTIST', 'Hud', '(', 'including', 'Tyler', 'Pope', ',', 'who', 'has', 'played', 'with', '/PERSON/MUSICIAN', 'Soundsystem', 'and', 'written', 'music', 'for', '/PERSON/MUSICIAN', ')', '.'], ['The', 'band', 'also', 'shared', 'membership', 'with', 'the', 'similar', ',', 'defunct', 'group', '/PERSON/ARTIST', 'Hud', '(', 'including', 'Tyler', 'Pope', ',', 'who', 'has', 'played', 'with', '/PERSON/MUSICIAN', 'Soundsystem', 'and', 'written', 'music', 'for', '/PERSON/ARTIST', ')', '.'], ['The', 'band', 'also', 'shared', 'membership', 'with', 'the', 'similar', ',', 'defunct', 'group', '/PERSON/ARTIST', 'Hud', '(', 'including', 'Tyler', 'Pope', ',', 'who', 'has', 'played', 'with', '/PERSON/MUSICIAN', 'Soundsystem', 'and', 'written', 'music', 'for', '/PERSON', ')', '.'], ['The', 'band', 'also', 'shared', 'membership', 'with', 'the', 'similar', ',', 'defunct', 'group', '/PERSON/ARTIST', 'Hud', '(', 'including', 'Tyler', 'Pope', ',', 'who', 'has', 'played', 'with', '/PERSON/ARTIST', 'Soundsystem', 'and', 'written', 'music', 'for', '/PERSON/MUSICIAN', ')', '.'], ['The', 'band', 'also', 'shared', 'membership', 'with', 'the', 'similar', ',', 'defunct', 'group', '/PERSON/ARTIST', 'Hud', '(', 'including', 'Tyler', 'Pope', ',', 'who', 'has', 'played', 'with', '/PERSON/ARTIST', 'Soundsystem', 'and', 'written', 'music', 'for', '/PERSON/ARTIST', ')', '.'], ['The', 'band', 'also', 'shared', 'membership', 'with', 'the', 'similar', ',', 'defunct', 'group', '/PERSON/ARTIST', 'Hud', '(', 'including', 'Tyler', 'Pope', ',', 'who', 'has', 'played', 'with', '/PERSON/ARTIST', 'Soundsystem', 'and', 'written', 'music', 'for', '/PERSON', ')', '.'], ['The', 'band', 'also', 'shared', 'membership', 'with', 'the', 'similar', ',', 'defunct', 'group', '/PERSON/ARTIST', 'Hud', '(', 'including', 'Tyler', 'Pope', ',', 'who', 'has', 'played', 'with', '/PERSON', 'Soundsystem', 'and', 'written', 'music', 'for', '/PERSON/MUSICIAN', ')', '.'], ['The', 'band', 'also', 'shared', 'membership', 'with', 'the', 'similar', ',', 'defunct', 'group', '/PERSON/ARTIST', 'Hud', '(', 'including', 'Tyler', 'Pope', ',', 'who', 'has', 'played', 'with', '/PERSON', 'Soundsystem', 'and', 'written', 'music', 'for', '/PERSON/ARTIST', ')', '.'], ['The', 'band', 'also', 'shared', 'membership', 'with', 'the', 'similar', ',', 'defunct', 'group', '/PERSON/ARTIST', 'Hud', '(', 'including', 'Tyler', 'Pope', ',', 'who', 'has', 'played', 'with', '/PERSON', 'Soundsystem', 'and', 'written', 'music', 'for', '/PERSON', ')', '.'], ['The', 'band', 'also', 'shared', 'membership', 'with', 'the', 'similar', ',', 'defunct', 'group', '/PERSON', 'Hud', '(', 'including', 'Tyler', 'Pope', ',', 'who', 'has', 'played', 'with', '/PERSON/MUSICIAN', 'Soundsystem', 'and', 'written', 'music', 'for', '/PERSON/MUSICIAN', ')', '.'], ['The', 'band', 'also', 'shared', 'membership', 'with', 'the', 'similar', ',', 'defunct', 'group', '/PERSON', 'Hud', '(', 'including', 'Tyler', 'Pope', ',', 'who', 'has', 'played', 'with', '/PERSON/MUSICIAN', 'Soundsystem', 'and', 'written', 'music', 'for', '/PERSON/ARTIST', ')', '.'], ['The', 'band', 'also', 'shared', 'membership', 'with', 'the', 'similar', ',', 'defunct', 'group', '/PERSON', 'Hud', '(', 'including', 'Tyler', 'Pope', ',', 'who', 'has', 'played', 'with', '/PERSON/MUSICIAN', 'Soundsystem', 'and', 'written', 'music', 'for', '/PERSON', ')', '.'], ['The', 'band', 'also', 'shared', 'membership', 'with', 'the', 'similar', ',', 'defunct', 'group', '/PERSON', 'Hud', '(', 'including', 'Tyler', 'Pope', ',', 'who', 'has', 'played', 'with', '/PERSON/ARTIST', 'Soundsystem', 'and', 'written', 'music', 'for', '/PERSON/MUSICIAN', ')', '.'], ['The', 'band', 'also', 'shared', 'membership', 'with', 'the', 'similar', ',', 'defunct', 'group', '/PERSON', 'Hud', '(', 'including', 'Tyler', 'Pope', ',', 'who', 'has', 'played', 'with', '/PERSON/ARTIST', 'Soundsystem', 'and', 'written', 'music', 'for', '/PERSON/ARTIST', ')', '.'], ['The', 'band', 'also', 'shared', 'membership', 'with', 'the', 'similar', ',', 'defunct', 'group', '/PERSON', 'Hud', '(', 'including', 'Tyler', 'Pope', ',', 'who', 'has', 'played', 'with', '/PERSON/ARTIST', 'Soundsystem', 'and', 'written', 'music', 'for', '/PERSON', ')', '.'], ['The', 'band', 'also', 'shared', 'membership', 'with', 'the', 'similar', ',', 'defunct', 'group', '/PERSON', 'Hud', '(', 'including', 'Tyler', 'Pope', ',', 'who', 'has', 'played', 'with', '/PERSON', 'Soundsystem', 'and', 'written', 'music', 'for', '/PERSON/MUSICIAN', ')', '.'], ['The', 'band', 'also', 'shared', 'membership', 'with', 'the', 'similar', ',', 'defunct', 'group', '/PERSON', 'Hud', '(', 'including', 'Tyler', 'Pope', ',', 'who', 'has', 'played', 'with', '/PERSON', 'Soundsystem', 'and', 'written', 'music', 'for', '/PERSON/ARTIST', ')', '.'], ['The', 'band', 'also', 'shared', 'membership', 'with', 'the', 'similar', ',', 'defunct', 'group', '/PERSON', 'Hud', '(', 'including', 'Tyler', 'Pope', ',', 'who', 'has', 'played', 'with', '/PERSON', 'Soundsystem', 'and', 'written', 'music', 'for', '/PERSON', ')', '.'], ['On', 'November', '8', ',', '2009', ',', 'the', 'band', \"'s\", 'former', 'drummer', 'Jerry', 'Fuchs', '-', 'who', 'was', 'also', 'a', 'member', 'of', '/PERSON/MUSICIAN', ',', '/PERSON/MUSICIAN', 'Machine', 'and', '/PERSON/ARTIST', 'Juan', 'MacLean', '-', 'died', 'after', 'falling', 'down', 'an', 'elevator', 'shaft', '.'], ['On', 'November', '8', ',', '2009', ',', 'the', 'band', \"'s\", 'former', 'drummer', 'Jerry', 'Fuchs', '-', 'who', 'was', 'also', 'a', 'member', 'of', '/PERSON/MUSICIAN', ',', '/PERSON/MUSICIAN', 'Machine', 'and', '/PERSON', 'Juan', 'MacLean', '-', 'died', 'after', 'falling', 'down', 'an', 'elevator', 'shaft', '.'], ['On', 'November', '8', ',', '2009', ',', 'the', 'band', \"'s\", 'former', 'drummer', 'Jerry', 'Fuchs', '-', 'who', 'was', 'also', 'a', 'member', 'of', '/PERSON/MUSICIAN', ',', '/PERSON/ARTIST', 'Machine', 'and', '/PERSON/ARTIST', 'Juan', 'MacLean', '-', 'died', 'after', 'falling', 'down', 'an', 'elevator', 'shaft', '.'], ['On', 'November', '8', ',', '2009', ',', 'the', 'band', \"'s\", 'former', 'drummer', 'Jerry', 'Fuchs', '-', 'who', 'was', 'also', 'a', 'member', 'of', '/PERSON/MUSICIAN', ',', '/PERSON/ARTIST', 'Machine', 'and', '/PERSON', 'Juan', 'MacLean', '-', 'died', 'after', 'falling', 'down', 'an', 'elevator', 'shaft', '.'], ['On', 'November', '8', ',', '2009', ',', 'the', 'band', \"'s\", 'former', 'drummer', 'Jerry', 'Fuchs', '-', 'who', 'was', 'also', 'a', 'member', 'of', '/PERSON/MUSICIAN', ',', '/PERSON', 'Machine', 'and', '/PERSON/ARTIST', 'Juan', 'MacLean', '-', 'died', 'after', 'falling', 'down', 'an', 'elevator', 'shaft', '.'], ['On', 'November', '8', ',', '2009', ',', 'the', 'band', \"'s\", 'former', 'drummer', 'Jerry', 'Fuchs', '-', 'who', 'was', 'also', 'a', 'member', 'of', '/PERSON/MUSICIAN', ',', '/PERSON', 'Machine', 'and', '/PERSON', 'Juan', 'MacLean', '-', 'died', 'after', 'falling', 'down', 'an', 'elevator', 'shaft', '.'], ['On', 'November', '8', ',', '2009', ',', 'the', 'band', \"'s\", 'former', 'drummer', 'Jerry', 'Fuchs', '-', 'who', 'was', 'also', 'a', 'member', 'of', '/PERSON/ARTIST', ',', '/PERSON/MUSICIAN', 'Machine', 'and', '/PERSON/ARTIST', 'Juan', 'MacLean', '-', 'died', 'after', 'falling', 'down', 'an', 'elevator', 'shaft', '.'], ['On', 'November', '8', ',', '2009', ',', 'the', 'band', \"'s\", 'former', 'drummer', 'Jerry', 'Fuchs', '-', 'who', 'was', 'also', 'a', 'member', 'of', '/PERSON/ARTIST', ',', '/PERSON/MUSICIAN', 'Machine', 'and', '/PERSON', 'Juan', 'MacLean', '-', 'died', 'after', 'falling', 'down', 'an', 'elevator', 'shaft', '.'], ['On', 'November', '8', ',', '2009', ',', 'the', 'band', \"'s\", 'former', 'drummer', 'Jerry', 'Fuchs', '-', 'who', 'was', 'also', 'a', 'member', 'of', '/PERSON/ARTIST', ',', '/PERSON/ARTIST', 'Machine', 'and', '/PERSON/ARTIST', 'Juan', 'MacLean', '-', 'died', 'after', 'falling', 'down', 'an', 'elevator', 'shaft', '.'], ['On', 'November', '8', ',', '2009', ',', 'the', 'band', \"'s\", 'former', 'drummer', 'Jerry', 'Fuchs', '-', 'who', 'was', 'also', 'a', 'member', 'of', '/PERSON/ARTIST', ',', '/PERSON/ARTIST', 'Machine', 'and', '/PERSON', 'Juan', 'MacLean', '-', 'died', 'after', 'falling', 'down', 'an', 'elevator', 'shaft', '.'], ['On', 'November', '8', ',', '2009', ',', 'the', 'band', \"'s\", 'former', 'drummer', 'Jerry', 'Fuchs', '-', 'who', 'was', 'also', 'a', 'member', 'of', '/PERSON/ARTIST', ',', '/PERSON', 'Machine', 'and', '/PERSON/ARTIST', 'Juan', 'MacLean', '-', 'died', 'after', 'falling', 'down', 'an', 'elevator', 'shaft', '.'], ['On', 'November', '8', ',', '2009', ',', 'the', 'band', \"'s\", 'former', 'drummer', 'Jerry', 'Fuchs', '-', 'who', 'was', 'also', 'a', 'member', 'of', '/PERSON/ARTIST', ',', '/PERSON', 'Machine', 'and', '/PERSON', 'Juan', 'MacLean', '-', 'died', 'after', 'falling', 'down', 'an', 'elevator', 'shaft', '.'], ['On', 'November', '8', ',', '2009', ',', 'the', 'band', \"'s\", 'former', 'drummer', 'Jerry', 'Fuchs', '-', 'who', 'was', 'also', 'a', 'member', 'of', '/PERSON', ',', '/PERSON/MUSICIAN', 'Machine', 'and', '/PERSON/ARTIST', 'Juan', 'MacLean', '-', 'died', 'after', 'falling', 'down', 'an', 'elevator', 'shaft', '.'], ['On', 'November', '8', ',', '2009', ',', 'the', 'band', \"'s\", 'former', 'drummer', 'Jerry', 'Fuchs', '-', 'who', 'was', 'also', 'a', 'member', 'of', '/PERSON', ',', '/PERSON/MUSICIAN', 'Machine', 'and', '/PERSON', 'Juan', 'MacLean', '-', 'died', 'after', 'falling', 'down', 'an', 'elevator', 'shaft', '.'], ['On', 'November', '8', ',', '2009', ',', 'the', 'band', \"'s\", 'former', 'drummer', 'Jerry', 'Fuchs', '-', 'who', 'was', 'also', 'a', 'member', 'of', '/PERSON', ',', '/PERSON/ARTIST', 'Machine', 'and', '/PERSON/ARTIST', 'Juan', 'MacLean', '-', 'died', 'after', 'falling', 'down', 'an', 'elevator', 'shaft', '.'], ['On', 'November', '8', ',', '2009', ',', 'the', 'band', \"'s\", 'former', 'drummer', 'Jerry', 'Fuchs', '-', 'who', 'was', 'also', 'a', 'member', 'of', '/PERSON', ',', '/PERSON/ARTIST', 'Machine', 'and', '/PERSON', 'Juan', 'MacLean', '-', 'died', 'after', 'falling', 'down', 'an', 'elevator', 'shaft', '.'], ['On', 'November', '8', ',', '2009', ',', 'the', 'band', \"'s\", 'former', 'drummer', 'Jerry', 'Fuchs', '-', 'who', 'was', 'also', 'a', 'member', 'of', '/PERSON', ',', '/PERSON', 'Machine', 'and', '/PERSON/ARTIST', 'Juan', 'MacLean', '-', 'died', 'after', 'falling', 'down', 'an', 'elevator', 'shaft', '.'], ['On', 'November', '8', ',', '2009', ',', 'the', 'band', \"'s\", 'former', 'drummer', 'Jerry', 'Fuchs', '-', 'who', 'was', 'also', 'a', 'member', 'of', '/PERSON', ',', '/PERSON', 'Machine', 'and', '/PERSON', 'Juan', 'MacLean', '-', 'died', 'after', 'falling', 'down', 'an', 'elevator', 'shaft', '.'], ['There', 'are', 'four', 'versions', 'of', 'this', 'cover', 'art', ',', 'which', 'consist', 'of', 'modified', 'photographs', 'of', 'nature', 'around', 'the', 'band', \"'s\", '/LOCATION/CITY', 'studio', ',', 'sold', 'in', 'four', 'parts', 'of', 'the', 'world', ':', 'Europe', ',', 'the', 'United', 'States', ',', 'Australia', ',', 'and', 'Japan', '.'], ['There', 'are', 'four', 'versions', 'of', 'this', 'cover', 'art', ',', 'which', 'consist', 'of', 'modified', 'photographs', 'of', 'nature', 'around', 'the', 'band', \"'s\", '/LOCATION', 'studio', ',', 'sold', 'in', 'four', 'parts', 'of', 'the', 'world', ':', 'Europe', ',', 'the', 'United', 'States', ',', 'Australia', ',', 'and', 'Japan', '.'], ['A', 'music', 'video', 'for', '\"', 'Untitled', '#', '1', '\"', 'directed', 'by', '/PERSON/ARTIST', 'Sigismondi', 'was', 'released', 'in', 'April', '2003', '.'], ['A', 'music', 'video', 'for', '\"', 'Untitled', '#', '1', '\"', 'directed', 'by', '/PERSON/DIRECTOR', 'Sigismondi', 'was', 'released', 'in', 'April', '2003', '.'], ['A', 'music', 'video', 'for', '\"', 'Untitled', '#', '1', '\"', 'directed', 'by', '/PERSON/AUTHOR', 'Sigismondi', 'was', 'released', 'in', 'April', '2003', '.'], ['A', 'music', 'video', 'for', '\"', 'Untitled', '#', '1', '\"', 'directed', 'by', '/PERSON', 'Sigismondi', 'was', 'released', 'in', 'April', '2003', '.']]\n"
          ],
          "name": "stdout"
        }
      ]
    },
    {
      "cell_type": "code",
      "metadata": {
        "id": "Vx8CYWDgWF2O"
      },
      "source": [
        "from gensim.parsing.preprocessing import remove_stopwords\n",
        "with open(path_corpus_data + \"corpus_data_figer.txt\", \"w+\") as fp:\n",
        "  for p in phrases:\n",
        "    fp.write(' '.join(p) + '\\n')"
      ],
      "execution_count": null,
      "outputs": []
    }
  ]
}