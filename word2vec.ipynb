{
  "nbformat": 4,
  "nbformat_minor": 0,
  "metadata": {
    "colab": {
      "name": "word2vec.ipynb",
      "provenance": [],
      "include_colab_link": true
    },
    "kernelspec": {
      "name": "python3",
      "display_name": "Python 3"
    },
    "language_info": {
      "name": "python"
    },
    "accelerator": "GPU"
  },
  "cells": [
    {
      "cell_type": "markdown",
      "metadata": {
        "id": "view-in-github",
        "colab_type": "text"
      },
      "source": [
        "<a href=\"https://colab.research.google.com/github/francesco-mollica/word2vec-entity_embeddings/blob/main/word2vec.ipynb\" target=\"_parent\"><img src=\"https://colab.research.google.com/assets/colab-badge.svg\" alt=\"Open In Colab\"/></a>"
      ]
    },
    {
      "cell_type": "code",
      "metadata": {
        "colab": {
          "base_uri": "https://localhost:8080/"
        },
        "id": "C33RpuHy8kpe",
        "outputId": "71d99ec9-752e-4a7c-fe52-0592c3904ba2"
      },
      "source": [
        "from google.colab import drive\n",
        "drive.mount('/content/drive/', force_remount=True)\n",
        "root_dir = \"/content/drive/MyDrive/\"\n",
        "base_dir = root_dir + \"tesi_magistrale/datasets/corpus_data_folder/\"\n",
        "base_dir_models = root_dir + \"tesi_magistrale/datasets/models_w2v/\"\n",
        "names = {1:\"balanced_ontonotes\", 2:\"ontonotes\", 3:\"choi\"}\n",
        "#names = {1:\"bbn\", 2:\"figer\"}"
      ],
      "execution_count": 5,
      "outputs": [
        {
          "output_type": "stream",
          "text": [
            "Mounted at /content/drive/\n"
          ],
          "name": "stdout"
        }
      ]
    },
    {
      "cell_type": "code",
      "metadata": {
        "id": "lDRFP4d3802p"
      },
      "source": [
        "class MySentences(object):\n",
        "    def __init__(self, filename):\n",
        "        self.filename = filename\n",
        " \n",
        "    def __iter__(self):\n",
        "            for line in open(base_dir + self.filename):\n",
        "                yield line.split()"
      ],
      "execution_count": 6,
      "outputs": []
    },
    {
      "cell_type": "code",
      "metadata": {
        "id": "B_l24vvBYb9l"
      },
      "source": [
        "import numpy as np\n",
        "from gensim.models import Word2Vec\n",
        "def restrict_w2v(w2v, w2v_restricted, restricted_word_set):\n",
        "    new_vectors = []\n",
        "    new_vocab = {}\n",
        "    new_index2entity = []\n",
        "    new_vectors_norm = []\n",
        "\n",
        "    for i in range(len(w2v.wv.vocab)):\n",
        "        word = w2v.wv.index2entity[i]\n",
        "        vec = w2v.wv.vectors[i]\n",
        "        vocab = w2v.wv.vocab[word]\n",
        "        vec_norm = w2v.wv.vectors_norm[i]\n",
        "        if word in restricted_word_set:\n",
        "            vocab.index = len(new_index2entity)\n",
        "            new_index2entity.append(word)\n",
        "            new_vocab[word] = vocab\n",
        "            new_vectors.append(vec)\n",
        "            new_vectors_norm.append(vec_norm)\n",
        "\n",
        "    \n",
        "    w2v_restricted.wv.vocab = new_vocab\n",
        "    w2v_restricted.wv.vectors = np.array(new_vectors)\n",
        "    w2v_restricted.wv.index2entity = np.array(new_index2entity)\n",
        "    w2v_restricted.wv.index2word = np.array(new_index2entity)\n",
        "    w2v_restricted.wv.vectors_norm = np.array(new_vectors_norm)"
      ],
      "execution_count": 7,
      "outputs": []
    },
    {
      "cell_type": "code",
      "metadata": {
        "id": "KmmKjmJ1w0v7"
      },
      "source": [
        "for value in names.items():\n",
        "  # extract restricted_word_list from types_counter dictionary\n",
        "  import json\n",
        "  types={}\n",
        "  restricted_word_list=[]\n",
        "  print(base_dir + \"corpus_data_entire_\"+value[1]+\".txt\")\n",
        "  with open(base_dir + \"types_counters_\"+value[1]+\".json\") as j:\n",
        "    types = json.load(j)\n",
        "  for k, v in types.items():\n",
        "    restricted_word_list.append(k)\n",
        "\n",
        "  print(restricted_word_list)\n",
        "  print(\"corpus_data_entire_\" + value[1] + \".txt\")\n",
        "  sentences = MySentences(\"corpus_data_entire_\" + value[1] + \".txt\")\n",
        "  \n",
        "  w2v_model = Word2Vec(iter=1, min_count=1, seed=1234)\n",
        "  w2v_model.build_vocab(sentences)\n",
        "  \n",
        "  w2v_model.train(sentences, total_examples=w2v_model.corpus_count, epochs=30, report_delay=1)\n",
        "  \n",
        "  # execute one time a most_similar otherwise vectors_norm in restrict_w2v should be equal to None\n",
        "  w2v_model.wv.most_similar(positive=restricted_word_list[0])\n",
        " \n",
        "  # restrict model\n",
        "  w2v_restricted = Word2Vec()\n",
        "  restrict_w2v(w2v_model, w2v_restricted, restricted_word_list)\n",
        "\n",
        "  # save\n",
        "  w2v_model.save(base_dir_models + \"word2vec_\" + value[1] + \".model\")\n",
        "  w2v_restricted.save(base_dir_models + \"word2vec_restricted_\" + value[1] + \".model\")\n",
        "\n",
        "  del restricted_word_list\n",
        "  del sentences\n",
        "  del w2v_model"
      ],
      "execution_count": null,
      "outputs": []
    }
  ]
}