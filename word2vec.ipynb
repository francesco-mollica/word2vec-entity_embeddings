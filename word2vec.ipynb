{
  "nbformat": 4,
  "nbformat_minor": 0,
  "metadata": {
    "colab": {
      "name": "word2vec.ipynb",
      "provenance": [],
      "include_colab_link": true
    },
    "kernelspec": {
      "name": "python3",
      "display_name": "Python 3"
    },
    "language_info": {
      "name": "python"
    },
    "accelerator": "GPU"
  },
  "cells": [
    {
      "cell_type": "markdown",
      "metadata": {
        "id": "view-in-github",
        "colab_type": "text"
      },
      "source": [
        "<a href=\"https://colab.research.google.com/github/francesco-mollica/word2vec-entity_embeddings/blob/main/word2vec.ipynb\" target=\"_parent\"><img src=\"https://colab.research.google.com/assets/colab-badge.svg\" alt=\"Open In Colab\"/></a>"
      ]
    },
    {
      "cell_type": "code",
      "metadata": {
        "colab": {
          "base_uri": "https://localhost:8080/"
        },
        "id": "C33RpuHy8kpe",
        "outputId": "8b1832f5-ea82-4cc2-fc7b-a93ec5b8890c"
      },
      "source": [
        "from google.colab import drive\n",
        "drive.mount('/content/drive/', force_remount=True)\n",
        "root_dir = \"/content/drive/MyDrive/\"\n",
        "base_dir = root_dir + \"tesi_magistrale/datasets/corpus_data_folder/\"\n",
        "base_dir_models = root_dir + \"tesi_magistrale/datasets/models_w2v/\"\n",
        "names = {1:\"balanced_ontonotes\", 2:\"ontonotes\", 3:\"choi\"}\n",
        "#names = {1:\"bbn\", 2:\"figer\"}"
      ],
      "execution_count": 1,
      "outputs": [
        {
          "output_type": "stream",
          "text": [
            "Mounted at /content/drive/\n"
          ],
          "name": "stdout"
        }
      ]
    },
    {
      "cell_type": "code",
      "metadata": {
        "id": "lDRFP4d3802p"
      },
      "source": [
        "class MySentences(object):\n",
        "    def __init__(self, filename):\n",
        "        self.filename = filename\n",
        " \n",
        "    def __iter__(self):\n",
        "            for line in open(base_dir + self.filename):\n",
        "                yield line.split()"
      ],
      "execution_count": 2,
      "outputs": []
    },
    {
      "cell_type": "code",
      "metadata": {
        "id": "B_l24vvBYb9l"
      },
      "source": [
        "import numpy as np\n",
        "from gensim.models import Word2Vec\n",
        "def restrict_w2v(w2v, w2v_restricted, restricted_word_set):\n",
        "    new_vectors = []\n",
        "    new_vocab = {}\n",
        "    new_index2entity = []\n",
        "    new_vectors_norm = []\n",
        "\n",
        "    for i in range(len(w2v.wv.vocab)):\n",
        "        word = w2v.wv.index2entity[i]\n",
        "        vec = w2v.wv.vectors[i]\n",
        "        vocab = w2v.wv.vocab[word]\n",
        "        vec_norm = w2v.wv.vectors_norm[i]\n",
        "        if word in restricted_word_set:\n",
        "            vocab.index = len(new_index2entity)\n",
        "            new_index2entity.append(word)\n",
        "            new_vocab[word] = vocab\n",
        "            new_vectors.append(vec)\n",
        "            new_vectors_norm.append(vec_norm)\n",
        "\n",
        "    \n",
        "    w2v_restricted.wv.vocab = new_vocab\n",
        "    w2v_restricted.wv.vectors = np.array(new_vectors)\n",
        "    w2v_restricted.wv.index2entity = np.array(new_index2entity)\n",
        "    w2v_restricted.wv.index2word = np.array(new_index2entity)\n",
        "    w2v_restricted.wv.vectors_norm = np.array(new_vectors_norm)"
      ],
      "execution_count": 3,
      "outputs": []
    },
    {
      "cell_type": "code",
      "metadata": {
        "id": "KmmKjmJ1w0v7",
        "colab": {
          "base_uri": "https://localhost:8080/"
        },
        "outputId": "ec8ec6c3-8519-4ae5-b70a-ec2fa4c48f73"
      },
      "source": [
        "for value in names.items():\n",
        "  # extract restricted_word_list from types_counter dictionary\n",
        "  import json\n",
        "  types={}\n",
        "  restricted_word_list=[]\n",
        "  print(base_dir + \"corpus_data_entire_\"+value[1]+\".txt\")\n",
        "  with open(base_dir + \"types_counters_\"+value[1]+\".json\") as j:\n",
        "    types = json.load(j)\n",
        "  for k, v in types.items():\n",
        "    restricted_word_list.append(k)\n",
        "\n",
        "  print(restricted_word_list)\n",
        "  print(\"corpus_data_entire_\" + value[1] + \".txt\")\n",
        "  sentences = MySentences(\"corpus_data_entire_\" + value[1] + \".txt\")\n",
        "  \n",
        "  w2v_model = Word2Vec(iter=1, min_count=1, seed=1234)\n",
        "  w2v_model.build_vocab(sentences)\n",
        "  \n",
        "  w2v_model.train(sentences, total_examples=w2v_model.corpus_count, epochs=30, report_delay=1)\n",
        "  \n",
        "  # execute one time a most_similar otherwise vectors_norm in restrict_w2v should be equal to None\n",
        "  w2v_model.wv.most_similar(positive=restricted_word_list[0])\n",
        " \n",
        "  # restrict model\n",
        "  w2v_restricted = Word2Vec()\n",
        "  restrict_w2v(w2v_model, w2v_restricted, restricted_word_list)\n",
        "\n",
        "  # save\n",
        "  w2v_model.save(base_dir_models + \"word2vec_\" + value[1] + \".model\")\n",
        "  w2v_restricted.save(base_dir_models + \"word2vec_restricted_\" + value[1] + \".model\")\n",
        "\n",
        "  del restricted_word_list\n",
        "  del sentences\n",
        "  del w2v_model"
      ],
      "execution_count": 4,
      "outputs": [
        {
          "output_type": "stream",
          "text": [
            "/content/drive/MyDrive/tesi_magistrale/datasets/corpus_data_folder/corpus_data_entire_choi.txt\n",
            "['/CITIZEN', '/PERSON', '/USER', '/CRIMINAL', '/ENTREPRENEUR', '/BUSINESSPERSON', '/BUSINESSMAN', '/TRAVELER', '/MALE', '/EXPERT', '/SCHOLAR', '/SCIENTIST', '/ADMINISTRATION', '/SYSTEM', '/BUSINESS', '/ORGANIZATION', '/STATESMAN', '/GOVERNOR', '/LEADER', '/POLITICIAN', '/FIRM', '/INSTITUTION', '/MANUFACTURER', '/ENTERPRISE', '/COMPANY', '/CORPORATION', '/RADICAL', '/INSURGENT', '/TERRORIST', '/GUERRILLA', '/MILITANT', '/TRAINER', '/PLAYER', '/ATHLETE', '/FOOTBALL_PLAYER', '/COACH', '/PRISONER', '/CONCEPT', '/IDEA', '/CONSEQUENCE', '/AUTHORITY', '/SOCIAL_GROUP', '/BODY', '/PARTY', '/PERIOD', '/TIME', '/ERA', '/ADULT', '/HOMER', '/EVENT', '/DECORATION', '/PRIZE', '/TITLE', '/OBJECT', '/MEDAL', '/AWARD', '/FORCE', '/INFLUENCE', '/COMMANDER', '/ATTACKER', '/MILITARY', '/SQUAD', '/TEAM', '/YEAR', '/WEEKDAY', '/DAY', '/DATE', '/SPOKESPERSON', '/CABINET_MINISTER', '/MINISTER', '/POLITICS', '/REPORTER', '/OFFICIAL', '/WORKER', '/MASTER', '/COMMUNICATOR', '/EMPLOYEE', '/PROFESSIONAL', '/ANALYST', '/RESEARCHER', '/MONEY', '/DISCIPLINE', '/HACKER', '/ARTICULATOR', '/SPEAKER', '/NUMBER', '/RANK', '/CHART', '/MEMBERSHIP', '/FAME', '/STATUS', '/POSITION', '/PLACEMENT', '/PLACE', '/HONOR', '/MUNICIPALITY', '/SITE', '/COUNTY', '/TOWNSHIP', '/TOWN', '/CITY', '/SPACE', '/REGION', '/AREA', '/LANDMARK', '/LOCATION', '/LEGISLATION', '/REGULATION', '/LAW', '/SON', '/CHILD', '/MAN', '/GOVERNMENT', '/NATION', '/PLACE_NAME', '/NAME', '/WOMAN', '/ENTITY', '/FEMALE', '/DEITY', '/IDOL', '/GODDESS', '/POLICE', '/INVESTIGATOR', '/AGENCY', '/STATE', '/LOCALIZATION', '/LEGISLATOR', '/LAWGIVER', '/NEGOTIATOR', '/REPRESENTATIVE', '/DIPLOMAT', '/ASTRONAUT', '/PLAY', '/ENTERTAINMENT', '/MOVIE', '/FILM', '/WIFE', '/RELATIVE', '/SPOUSE', '/HUSBAND', '/WAITER', '/AIM', '/DETERMINATION', '/FOOD', '/POINT', '/STUDENT', '/GROUP', '/CANDIDATE', '/WINNER', '/LEARNER', '/CONTESTANT', '/ASSEMBLY', '/SENATE', '/LEGISLATURE', '/CELEBRITY', '/ARTIST', '/CLUB', '/STADIUM', '/STRUCTURE', '/RACER', '/FOE', '/ENEMY', '/RACE', '/WRONGDOER', '/CRITIC', '/ACT', '/ADMINISTRATOR', '/DIRECTOR', '/CINEMA', '/SHOW', '/CULTURE_MEDIUM', '/SUCCESSOR', '/PRESIDENT', '/MAKER', '/CONTROL', '/RESTRAINT', '/OBSTRUCTION', '/SEPARATION', '/BORDER', '/BARRIER', '/BOUNDARY', '/MUSEUM', '/BUILDING', '/HAPPENING', '/FORTUNE', '/DESTINY', '/FUTURE', '/UNKNOWN', '/MILITARY_SERVICE', '/ARMY', '/TENNIS_PLAYER', '/RAILWAY', '/RULER', '/POLITICAL_SYSTEM', '/LEADERSHIP', '/VICTIM', '/PLANT', '/FACTORY', '/COMPLEX', '/ADVOCATE', '/SPOKESWOMAN', '/NEGATIVE', '/FIGHT', '/CONFLICT', '/COUNTRY', '/TEAMMATE', '/WRITER', '/AUTHOR', '/DISTRICT', '/PROCESS', '/GROWING', '/GROWTH', '/BLOOM', '/NATURAL_PROCESS', '/TENNIS', '/POSSESSION', '/BELONGING', '/DWELLING', '/GARDEN', '/HOUSE', '/HOME', '/HOMESTEAD', '/PLOT', '/LAND', '/YARD', '/RESIDENCE', '/FRONT_YARD', '/PROPERTY', '/MATCH', '/FABRIC', '/COVERING', '/GARMENT', '/APPAREL', '/CLOTHING', '/PUBLIC_SERVANT', '/MANAGEMENT', '/CONSIDERATION', '/CONCERN', '/ISSUE', '/OCCUPATION', '/ROLE', '/FUNCTION', '/HEAD', '/CUSTODIAN', '/JOB', '/SITUATION', '/CAREER', '/CURATOR', '/FRIEND', '/FRANCHISE', '/FINANCIER', '/INVESTOR', '/ESSAY', '/LITERATURE', '/DOCTRINE', '/MESSAGE', '/SUBJECT', '/SCRIPT', '/LEDGER', '/CONTENT', '/BOOK', '/RECORD', '/PHILOSOPHY', '/WRITING', '/INDIVIDUAL', '/PERFORMER', '/PROFESSION', '/ENTERTAINER', '/ACTRESS', '/UNIT', '/DOCTOR', '/ANCHOR', '/ACTIVITY', '/GAME', '/PRODUCT', '/COMPUTER_GAME', '/SOFTWARE', '/DONOR', '/COMMUNITY', '/VILLAGE', '/MUSICAL_INSTRUMENT', '/GUITAR', '/MEDIUM', '/OPERATION', '/MUSICAL', '/INSTRUMENT', '/SONG', '/THING', '/MUSIC', '/PERFORMANCE', '/COMPOSITION', '/LADY', '/ACCUSER', '/GIRL', '/WITNESS', '/DAUGHTER', '/DEFENDANT', '/DAME', '/ANIMAL', '/BIRD', '/END', '/PASSING', '/CHANGE', '/DEATH', '/ENGINEERING', '/TECHNOLOGY', '/APPLICATION', '/CURRENCY', '/FINANCE', '/CASH', '/ART', '/SOLO', '/CLASSICAL_MUSIC', '/OPERA', '/SHARE', '/FUND', '/CASE', '/COUNCIL', '/JOURNALIST', '/AMBASSADOR', '/HERO', '/ACHIEVER', '/NET_INCOME', '/VOLUME', '/PROFIT', '/ECONOMICS', '/INCOME', '/OUTPUT', '/ECONOMY', '/BYSTANDER', '/SPECTATOR', '/REAL_PROPERTY', '/CONSTRUCTION', '/APARTMENT_BUILDING', '/MODEL', '/RIG', '/EQUIPMENT', '/DECISION', '/CHOICE', '/ATTEMPT', '/SERVICEMAN', '/OFFICEHOLDER', '/SPOKESMAN', '/OFFICER', '/SOLDIER', '/ARTILLERY', '/WEAPONRY', '/GUN', '/PISTOL', '/WEAPON', '/OCCURRENCE', '/NEGOTIATION', '/MEDIATION', '/COMMUNICATION', '/AGREEMENT', '/BARGAIN', '/EXCHANGE', '/TRANSACTION', '/DEAL', '/DISCUSSION', '/CONVERSATION', '/STATEMENT', '/TALK', '/TOPIC', '/THEME', '/ACTION', '/TEACHER', '/DIVISION', '/BREAK', '/PART', '/DIVORCE', '/SEPARATE', '/SPLIT', '/FAULT', '/OBSERVER', '/COMMENTATOR', '/GATHERING', '/MEETING', '/STORE', '/HOME_GAME', '/SPORT', '/VOLLEYBALL', '/QUALITY', '/CHARACTER', '/CAPTAIN', '/CONCLUSION', '/SUCCESS', '/COMPLETION', '/NAVY', '/ROAD', '/EXPRESSWAY', '/HIGHWAY', '/SUPPORTER', '/ALLY', '/COLLEAGUE', '/INTELLECTUAL', '/LOVER', '/BOWLER', '/BOWLING', '/CREATOR', '/PAINTER', '/COMMODITY', '/TEA', '/SUBSTANCE', '/BEVERAGE', '/FOREIGN_MINISTER', '/FOREIGNER', '/SCENE', '/VENUE', '/DESCRIPTION', '/COMMITTEE', '/COMMISSION', '/VOTE', '/ELECTION', '/CIVILIAN', '/PAIR', '/CASUALTY', '/TWO', '/COUPLE', '/LEARNING', '/QUALIFICATION', '/EDUCATION', '/DEGREE', '/KEYBOARD', '/INVENTION', '/INSURANCE_COMPANY', '/POLICY', '/DIRECTION', '/MOVE', '/MOTION', '/WAY', '/MOVEMENT', '/ARRANGEMENT', '/WARRIOR', '/GOD', '/COMPETITION', '/CONTEST', '/CHAMPIONSHIP', '/WOMANHOOD', '/MISCONDUCT', '/AFFAIR', '/PARADE', '/PROCESSION', '/OCCASION', '/HOLIDAY', '/CELEBRATION', '/MUSICIAN', '/GANG', '/ASSOCIATION', '/PROVINCE', '/ORGANISM', '/ACQUAINTANCE', '/MERCHANDISE', '/STRATEGY', '/SCHEME', '/PLANE', '/AIRPLANE', '/HELICOPTER', '/PRESENCE', '/IMPACT', '/ATTACK', '/MOMENT', '/MATTER', '/GUNMAN', '/TROOP', '/INFORMANT', '/ACCUSED', '/PRINCIPAL', '/POLICEMAN', '/CONVICT', '/VALET', '/SECTOR', '/SECTION', '/CREATION', '/PUBLICATION', '/FICTION', '/ARTWORK', '/DEVELOPMENT', '/INDUSTRIALIST', '/OWNER', '/EXECUTIVE', '/STATION', '/TELEVISION_STATION', '/NETWORK', '/BROADCASTING', '/BROADCASTER', '/FEEDBACK', '/EFFECT', '/PLAN', '/EMERGENCE', '/REACTION', '/WORLD', '/PLANET', '/CELESTIAL_BODY', '/EARTH', '/RULE', '/ACADEMICIAN', '/RECOGNITION', '/TROPHY', '/PRODUCER', '/INFORMATION', '/DATA', '/FACT', '/GENERAL', '/CONGRESSMAN', '/CONVOY', '/COMBATANT', '/STAFF', '/EXPLOSION', '/BLAST', '/AGGRESSION', '/DESTRUCTION', '/CATASTROPHE', '/CALAMITY', '/CORPORATE_EXECUTIVE', '/CROWD', '/DISASTER', '/DISCHARGE', '/CRISIS', '/BLOW', '/NOISE', '/EMERGENCY', '/BANG', '/SOUND', '/KNOCK', '/POET', '/MISSION', '/CHANCELLOR', '/BOMBING', '/SPOT', '/FEATURE', '/WATCH', '/SUPERVISION', '/SURVEILLANCE', '/NEWSCASTER', '/ANNOUNCER', '/GROUPING', '/BLACK_HOLE', '/TERM', '/WORD', '/LANGUAGE', '/TERMINOLOGY', '/INVESTIGATION', '/TEXT_FILE', '/HANDBOOK', '/DOCUMENT', '/MANUAL', '/RESIDENT', '/INMATE', '/DETAINEE', '/DOMAIN', '/HOST', '/HEAD_OF_STATE', '/ECONOMIST', '/MEMORIAL', '/STUDIO', '/INDUSTRY', '/MARKETPLACE', '/EQUITY', '/STOCK_EXCHANGE', '/STOCK', '/MARKET', '/EXAMINATION', '/TEST', '/EXERCISE', '/ASSISTANT', '/STRATEGIST', '/PLANNER', '/AID', '/LOWERING', '/REDUCTION', '/DECREASE', '/ENGINEER', '/BALLPLAYER', '/ILLNESS', '/CANCER', '/SICKNESS', '/ILL_HEALTH', '/TUMOR', '/EDUCATOR', '/ACTOR', '/VIRUS', '/POPULACE', '/REFORMER', '/DEMONSTRATOR', '/DISSENTER', '/SCHOOL', '/UNIVERSITY', '/COLLEGE', '/STEAD', '/DIALECT', '/SPEECH_ACT', '/EMPHASIS', '/SPEECH', '/ACCENT', '/ETHNIC_GROUP', '/FOOTBALL', '/BALL', '/SUGGESTION', '/REPORT', '/PROPOSAL', '/PRESENTATION', '/GIANT', '/PROTEST', '/DEMONSTRATION', '/APPROACH', '/STAR', '/HEADLINER', '/SINGER', '/GUITARIST', '/MEMBER', '/FELLOW', '/COMPANION', '/GENTLEMAN', '/BOYFRIEND', '/LAWMAN', '/DEPUTY', '/CLERGYMAN', '/BAND', '/ORCHESTRA', '/CITIZENRY', '/STRUGGLE', '/LIST', '/HEADQUARTERS', '/DISTRIBUTOR', '/SEASON', '/DEADLINE', '/GOAL', '/CRAFT', '/SHIP', '/BOAT', '/VESSEL', '/BOOKLET', '/JOURNAL', '/DIARY', '/NONFICTION', '/PRESS', '/NEWS', '/ARTICLE', '/MAGAZINE', '/TOURIST', '/POPE', '/RELIGIOUS_LEADER', '/SPIRITUAL_LEADER', '/HEART_FAILURE', '/HEART_ATTACK', '/CONDITION', '/PAYMENT', '/PENALTY', '/GEOGRAPHICAL_AREA', '/PRIVATE_DETECTIVE', '/WORK', '/CLIENT', '/LIVING_THING', '/VERTEBRATE', '/FISH', '/MONTH', '/CALENDAR_MONTH', '/AIRCRAFT', '/VEHICLE', '/PIECE', '/ARENA', '/ENTERTAINMENT_CENTER', '/CONTRACT', '/RITUAL', '/RELIGIOUS', '/RELIGION', '/FACTION', '/CLIQUE', '/NAZI', '/BATTLE', '/WAR', '/NURSE', '/OPPOSITION', '/INFANTRY', '/FIGHTER', '/FIGURE', '/SISTER', '/HOUR', '/MORNING', '/DAWN', '/PHOTOGRAPH', '/KING', '/CONDUCTOR', '/CAPITAL', '/DELEGATE', '/DANCE', '/STORY', '/DANCING', '/BALLET', '/NARRATIVE', '/DECADE', '/BASSIST', '/RENTAL', '/HOTEL', '/AGENT', '/GARBAGE', '/WASTE', '/THEORIST', '/MESS', '/SPILL', '/ERROR', '/HURRICANE', '/CYCLONE', '/WEATHER', '/STORM', '/TOURNAMENT', '/YOUTH', '/PUPIL', '/CABINET', '/PLAYING_FIELD', '/GOLF', '/GOLF_COURSE', '/COURSE', '/GOLF_CLUB', '/KILLER', '/SHOOTER', '/SUSPECT', '/COMMANDER_IN_CHIEF', '/CAST', '/PATIENT', '/CHEF', '/COOK', '/BATTALION', '/GRANDFATHER', '/ELDER', '/GRANDPARENT', '/AGED', '/REFUGEE', '/CONGLOMERATE', '/INTERACTION', '/DELIBERATION', '/COST', '/PRICE', '/AMOUNT', '/CAMPAIGN', '/FAMILY', '/COLLECTION', '/CLASS', '/TRAIN', '/PUBLIC_TRANSPORT', '/REFORM', '/ALTERATION', '/IMPROVEMENT', '/TRANSFORMATION', '/REVISION', '/VOTER', '/DEVICE', '/ITEM', '/FIELD', '/HEADMAN', '/JUVENILE', '/ADOLESCENT', '/JUNIOR', '/ALLIANCE', '/UNION', '/CONFEDERATION', '/COALITION', '/FAN', '/FOUNDATION', '/ROCK', '/BASE', '/STONE', '/DANGER', '/HAZARD', '/TROUBLE', '/MISFORTUNE', '/LOBBYIST', '/SENATOR', '/RACING', '/STRIKE', '/PROBLEM', '/TREATY', '/CONSTITUTION', '/PROBE', '/DETENTION', '/QUESTIONING', '/INCIDENT', '/ORDEAL', '/QUESTION', '/RESULT', '/DISH', '/SWEET', '/CAKE', '/LOBBY', '/RATE', '/WORRY', '/FARMER', '/MANAGER', '/SPIDER', '/SPECIES', '/WHOLE', '/AUDIO', '/PARENT', '/SOVEREIGN', '/QUEEN', '/MOTHER', '/DURATION', '/GOLFER', '/CLUBHOUSE', '/ARCHEOLOGIST', '/NATIONAL', '/NATIONALITY', '/SCHEDULE', '/FOREIGN_COUNTRY', '/CIVILIZATION', '/TERRITORY', '/HISTORY', '/PROFESSOR', '/SOCCER_PLAYER', '/EFFORT', '/ACCUSATION', '/LAWSUIT', '/CHARGE', '/WIN', '/VICTORY', '/GUEST', '/VISITOR', '/PIANO_PLAYER', '/MENACE', '/STREET', '/PASSAGEWAY', '/RIVAL', '/FEDERATION', '/WRESTLING', '/LEAGUE', '/AFFILIATION', '/PROGRAMMER', '/INCUMBENT', '/SECRETARY', '/PRESS_CONFERENCE', '/ANNOUNCEMENT', '/SUMMIT', '/LECTURE', '/CONFERENCE', '/MERCHANT', '/TRADER', '/EXPORTER', '/BIOGRAPHY', '/APPEARANCE', '/TRAVEL', '/NOVEL', '/BURDEN', '/GUILT', '/RESPONSIBILITY', '/TENSION', '/DISAGREEMENT', '/ARGUMENT', '/CONTROVERSY', '/DEBATE', '/DISPUTE', '/PRINT', '/MERGING', '/PUBLIC', '/INSURANCE', '/COMPENSATION', '/EPIDEMIC', '/OUTBREAK', '/DISEASE', '/SCIENCE', '/PHYSICS', '/POSSIBILITY', '/CHANCE', '/VARIABLE', '/COMMAND', '/ORDER', '/BALL_GAME', '/RECESSION', '/COMMENT', '/REMARK', '/ANSWER', '/MEDICINE', '/DRUG', '/TURN', '/ROUND', '/CYCLE', '/IMPRESSION', '/BELIEF', '/PUBLIC_OPINION', '/OPINION', '/HUNTER', '/USE', '/CLEANER', '/WORKMAN', '/JANITOR', '/KINGDOM', '/SOURCE', '/INFORMER', '/TISSUE', '/ORGAN', '/BODY_PART', '/JUMP', '/TRAINING', '/LEAP', '/HEADING', '/CORRECTIONAL_INSTITUTION', '/CELL', '/PRISON', '/CAMP', '/JAIL', '/FALL', '/LOSS', '/DESCENT', '/DROP', '/YOUNG', '/WAGE', '/COLLISION', '/ACCIDENT', '/MISHAP', '/PAYER', '/FAILURE', '/DIFFICULTY', '/PAPERWORK', '/PHRASE', '/NEIGHBOR', '/PATH', '/PASSAGE', '/PATHWAY', '/ROUTE', '/BURNING', '/BURN', '/FIRE', '/ATHLETICS', '/MUTUAL_FUND', '/POWER', '/COUNT', '/CHAMPION', '/ROCKET', '/SPACE_SHUTTLE', '/SPACECRAFT', '/SHUTTLE', '/OFFICE', '/CENTER', '/SIBLING', '/GIRLFRIEND', '/PRINCE', '/GURU', '/PROPHET', '/COMPUTER', '/TRAFFIC', '/CABLE', '/MACHINE', '/SOCIAL_SCIENTIST', '/CHURCH', '/SEAT', '/TIME_SERIES', '/AIRFIELD', '/AIRPORT', '/AIRLINE', '/SHERIFF', '/NATIVE', '/LAWYER', '/VISIT', '/DRIVER', '/PHENOMENON', '/ADVISER', '/YESTERDAY', '/TODAY', '/SURVIVOR', '/LANDSCAPE', '/MOUNTAIN', '/MOUNTAIN_CLIMBING', '/MOUND', '/TUNE', '/STARTER', '/OPENER', '/POLITICAL_PARTY', '/LAW_ENFORCEMENT', '/REPUBLICAN', '/RESORT', '/PARTICIPANT', '/ADJUDICATOR', '/MAGISTRATE', '/JUDGE', '/COMEDIAN', '/ENDING', '/JUDGMENT', '/OUTCOME', '/BUDDY', '/FRIENDSHIP', '/ADDRESS', '/RESIDENCY', '/BOMB', '/MISSILE', '/BULLET', '/ECONOMIC_GROWTH', '/BOOM', '/ADVANCEMENT', '/DETECTIVE', '/ENFORCEMENT', '/FESTIVAL', '/CLAIM', '/THOUGHT', '/THINKING', '/RECALL', '/REPRESENTATION', '/MEMORY', '/REQUIREMENT', '/DEMAND', '/NEED', '/REQUEST', '/SET', '/FUEL_CELL', '/ELEMENT', '/OFFERING', '/OFFER', '/OUTREACH', '/EMPEROR', '/VICINITY', '/TEMPLE', '/CLOSURE', '/TERMINATION', '/CLOSING', '/TERRORISM', '/GLOBE', '/POPULATION', '/SAVINGS_BANK', '/CENTRAL_BANK', '/BANK', '/ANGLE', '/TEMPERATURE', '/MARKET_VALUE', '/PRICING', '/INDEX', '/PRICE_INDEX', '/VALUE', '/HATE', '/OBJECTION', '/TERROR', '/DISORDER', '/BOY', '/PITCHER', '/THROWER', '/RAIN', '/WATER', '/PRECIPITATION', '/LIQUID', '/SHOWER', '/INHABITANT', '/BOARD', '/INDICATOR', '/EXPLANATION', '/INTERVIEW', '/WINNINGS', '/CONQUEST', '/WINNING', '/VEGETATION', '/NATURE', '/FOREST', '/GAIN', '/GYMNASTICS', '/SOCIAL_SCIENCE', '/AIDE', '/CAMPAIGNER', '/ORGANIZER', '/RESISTANCE', '/CONFRONTATION', '/ADVERSITY', '/LANDMASS', '/HILL', '/PEAK', '/CAVE', '/SHAFT', '/TUNNEL', '/ENTRANCE', '/GATE', '/SCREENPLAY', '/DISPLAY', '/PRIEST', '/CARDINAL', '/BISHOP', '/CLERGY', '/PEER', '/BUREAUCRAT', '/MAYOR', '/BUREAUCRACY', '/CONGRESS', '/NEWS_AGENCY', '/PETROLEUM', '/DEFENDER', '/PRINCIPLE', '/RECIPE', '/PICTURE', '/FILM_MAKER', '/BILL', '/SALESMAN', '/CAPITALIST', '/CONTRIBUTOR', '/REVIEWER', '/BIRTHDAY', '/ANNIVERSARY', '/SERIES', '/TELEVISION_PROGRAM', '/FINANCING', '/MONARCHY', '/REIGN', '/FEELING', '/MEN', '/MATERIAL', '/SENTENCE', '/SUSPENSION', '/AIR_FORCE', '/SUPERVISOR', '/EMPLOYER', '/SUPERIOR', '/PROJECT', '/INSTRUMENTALITY', '/DIALOGUE', '/CHAT', '/MILLIONAIRE', '/BANKER', '/ADVANTAGE', '/PRIVILEGE', '/EVIDENCE', '/PROOF', '/ENVIRONMENT', '/CHANNEL', '/TRANSPORT', '/RAILROAD_TRACK', '/TRANSPORTATION', '/ATOMIC_ENERGY', '/NUCLEAR_WEAPON', '/CONTROLLED_SUBSTANCE', '/CHEMICAL', '/EXPERIMENT', '/SERVICES', '/CEREMONY', '/SERVICE', '/FIREMAN', '/DOLLAR', '/MEDIUM_OF_EXCHANGE', '/MONETARY_UNIT', '/DISK', '/PUCK', '/CUSTOMER', '/GUY', '/SCHOOL_YEAR', '/ICE_HOCKEY', '/TRADE', '/COMMERCE', '/DEFEAT', '/BRIEFING', '/FORUM', '/ARCHBISHOP', '/FEAST', '/MEAL', '/DINNER', '/DRAMA', '/WHEEL', '/TRAGEDY', '/CARETAKER', '/GARRISON', '/RUNNER', '/INVESTMENT', '/BASEBALL_PLAYER', '/ROOM', '/SEGMENT', '/RISE', '/LIFT', '/ASCENT', '/RAISE', '/TARGET', '/DESTINATION', '/FAITH', '/PACE', '/LINE', '/TRACK', '/MOTORIST', '/OPERATOR', '/DOG', '/LIBRARY', '/TOBACCO', '/SEED', '/INSTRUCTION', '/AFFIRMATION', '/NOTE', '/CIVIL_LAW', '/SIGNAL', '/GESTURE', '/HALF', '/CULTURE', '/SOCIETY', '/PRISONER_OF_WAR', '/DICTATOR', '/SKILL', '/EVALUATION', '/STANDARD', '/ACCOMPLISHMENT', '/ATTRACTION', '/COLOR', '/CONSUMER', '/RAILWAY_STATION', '/FACILITY', '/TERMINAL', '/COMPOSER', '/CAPTIVE', '/SHORT_STORY', '/DESIGN', '/WEB_SITE', '/QUEEN_BEE', '/CAR', '/PICKUP', '/TRUCK', '/MOTOR_VEHICLE', '/JURY', '/PANEL', '/COURT', '/TOWER', '/PEACE_PROCESS', '/JUDICIARY', '/SUPREME_COURT', '/BROADCAST', '/PRACTICE', '/WORKPLACE', '/PLAIN', '/UNDERTAKING', '/CHESS', '/RESCUER', '/LAB', '/EVALUATOR', '/FATHER', '/CONSORTIUM', '/PHASE', '/STAGE', '/METHOD_ACTING', '/METHOD', '/SPEED', '/CHALLENGE', '/LENDER', '/CREDIT_UNION', '/CHARWOMAN', '/RECORDING', '/PORT', '/HARBOR', '/CHARITY', '/UMPIRE', '/REFEREE', '/PASSENGER', '/INSIGHT', '/PERCEPTION', '/BOXER', '/FLIGHT', '/JOURNEY', '/STOCKS', '/ASSUMPTION', '/SUSPICION', '/DIARIST', '/FRUSTRATION', '/DENIAL', '/SIGHT', '/VIEW', '/CHARACTERISTIC', '/WEEKEND', '/REASON', '/FACTOR', '/BATTER', '/GUARD', '/METRO', '/LEVEL', '/POLL', '/GENERAL_ELECTION', '/SLIP', '/NUMERAL', '/GRADUATE', '/VIDEO_GAME', '/MEDICATION', '/REMEDY', '/PREVENTIVE', '/VACCINE', '/CONSULTANT', '/NOVELIST', '/INFRASTRUCTURE', '/CHIEF_EXECUTIVE_OFFICER', '/EXECUTIVE_OFFICER', '/LIGHT', '/SINGLE', '/BODY_OF_WATER', '/LAKE', '/HEARING', '/PROCEEDING', '/CRICKETER', '/VOTING_SYSTEM', '/BEGINNING', '/BASEBALL', '/CLINIC', '/HOSPITAL', '/ASSOCIATE', '/PROGRAM', '/CORRESPONDENT', '/SONGWRITER', '/DEPARTMENT', '/PAPER', '/APPRAISAL', '/NEWSPAPER', '/BOSS', '/INSPECTOR', '/PARTNER', '/CRASH', '/RUBBISH', '/WRECK', '/REMAINS', '/RUIN', '/DEVASTATION', '/WRECKAGE', '/DEBRIS', '/CLERIC', '/FELON', '/ISLAND', '/WORKWEEK', '/WEEK', '/PROTECTION', '/VICE_PRESIDENT', '/COMPLAINT', '/PREDICTION', '/ALLOCATION', '/ESTIMATE', '/BUDGET', '/EXPLOSIVE', '/PROJECTILE', '/TREE', '/RISK', '/SHOP', '/SUPERMARKET', '/GROCERY_STORE', '/POLITICAL_SCIENTIST', '/QUARTER', '/INSTITUTE', '/PAUSE', '/RECESS', '/REVIVAL', '/TRIBE', '/AGE', '/HARDWARE', '/MAMMAL', '/SECT', '/SETTING', '/SPECIALIST', '/CONCEPTUALIZATION', '/SOUNDTRACK', '/ALBUM', '/DUTY', '/APPROVAL', '/UNDERSTANDING', '/SCANDAL', '/FRAUD', '/UPDATE', '/BROTHERHOOD', '/LEAD', '/RESOURCE', '/SUPPORT', '/HELP', '/LITIGANT', '/BARON', '/ARISTOCRAT', '/CODE', '/OPERATING_SYSTEM', '/PLATFORM', '/MAJOR', '/STUDY', '/SURGEON', '/COOPERATION', '/COMPROMISE', '/HARMONY', '/COMPANY_MAN', '/COMPONENT', '/PURPOSE', '/GROUP_ACTION', '/OBJECTIVE', '/SUBSTITUTE', '/EQUIVALENT', '/REPLACEMENT', '/PREMISE', '/BASIS', '/PREVENTION', '/START', '/ARMOR', '/SHIELD', '/DEVELOPER', '/SOLUTION', '/TORNADO', '/MORAL', '/WAVE', '/DOMINANCE', '/TREATMENT', '/HOMOSEXUAL', '/GAY', '/HAND', '/EXTREMITY', '/CERTIFICATE', '/TOOL', '/MYSTERY', '/SECRET', '/BIOLOGIST', '/EXPLORER', '/PROXIMITY', '/SYMPATHY', '/PRAYER', '/INTEREST', '/PROGRESS', '/DECLARATION', '/ASSERTION', '/ROCK_GROUP', '/PREY', '/EAGLE', '/BEAST', '/WOLF', '/RESEARCH', '/BEACH', '/MIGRANT', '/IMMIGRANT', '/OVERSIGHT', '/CONCERT', '/STRESS', '/VIOLENCE', '/EXAMPLE', '/BLOCKADE', '/THEATER', '/PAST', '/AMENDMENT', '/HIGHER_EDUCATION', '/PROTESTERS', '/TAXPAYER', '/EDITOR', '/STEP', '/GENERATION', '/INCREASE', '/HAIR', '/PAINT', '/NEIGHBORHOOD', '/VAMPIRE', '/ADVERTISER', '/PROMOTER', '/STOCKBROKER', '/CANNON', '/FINISH', '/ARTIFACT', '/CLAY', '/SCHOOL_BOARD', '/HISTORIAN', '/PIONEER', '/PATRON', '/VIEWER', '/PERCEIVER', '/SUM', '/ESTABLISHMENT', '/FINDING', '/VERDICT', '/INQUIRY', '/RIVER', '/DANCER', '/MATE', '/CIVIL_WAR', '/REBELLION', '/BABY', '/IMPLEMENTATION', '/HABIT', '/HEALTHCARE', '/MYTH', '/LEGEND', '/PLAZA', '/TEXT', '/POLITY', '/DICTATORSHIP', '/INSECT', '/BUG', '/SELLING', '/SALE', '/STATISTIC', '/SCALE', '/RELATIONSHIP', '/PRIME_MINISTER', '/STOCKHOLDER', '/HOLDER', '/CIRCUMSTANCE', '/UPHEAVAL', '/CONVICTION', '/TRIAL', '/COLLAPSE', '/BANKRUPTCY', '/CHEMICAL_REACTION', '/ACID', '/JOY', '/ATTITUDE', '/SPIRIT', '/EXCITEMENT', '/HAPPINESS', '/INJECTION', '/MUSCLE', '/MEANING', '/VICE_SQUAD', '/ENVOY', '/VILLA', '/INSIDER', '/CLASH', '/EXPECTATION', '/REFERENCE_BOOK', '/TENDENCY', '/SLOWDOWN', '/PRESENTER', '/FINGER', '/FIRST_AID', '/PUNISHMENT', '/DELIVERY', '/TRANSIT', '/HYPOTHESIS', '/GUESS', '/COMPUTER_SYSTEM', '/STOP', '/BREAKTHROUGH', '/ADVANCE', '/UPGRADE', '/PROMOTION', '/MISSIONARY', '/REPAIR', '/CARE', '/SURGERY', '/WORKSHOP', '/VALLEY', '/MAJORITY', '/DATABASE', '/TEAM_SPORT', '/PRESIDENCY', '/SOCCER', '/TRANSLATOR', '/INTERPRETER', '/PRODUCTION', '/ASSET', '/WORTH', '/GRANT', '/SCHOLARSHIP', '/PROPOSITION', '/BID', '/PERCENTAGE', '/TRADITION', '/DESERT', '/RESTRICTION', '/ASSURANCE', '/ACCESS', '/PITCH', '/THROW', '/WORSENING', '/EXPENSE', '/PARLIAMENT', '/MONUMENT', '/SCULPTURE', '/ASSIGNMENT', '/EMPLOYMENT', '/EXPERIENCE', '/LABOR', '/PSYCHOLOGIST', '/CITY_COUNCIL', '/INVASION', '/FOUNDER', '/WIND', '/SEMINAR', '/TYPE', '/LETTER', '/SYMBOL', '/CRATER', '/STOCK_MARKET', '/LAWN', '/GRASS', '/SERVER', '/RECOVERY', '/MECHANISM', '/PROCEDURE', '/SAFETY', '/BRAIN', '/NARRATOR', '/MEASURE', '/CLIMATE', '/HEAT', '/HEALTH', '/BALLOT', '/SCORE', '/COURT_ORDER', '/SUIT', '/COMMISSIONER', '/DISCOVERY', '/COLONY', '/HAMLET', '/SETTLEMENT', '/EPISODE', '/ESTATE', '/MARRIED', '/SESSION', '/CARTOON', '/COMIC_STRIP', '/PAINTING', '/AUDIENCE', '/PREVIEW', '/SCIENTIFIC_RESEARCH', '/IDEOLOGY', '/RADIO_STATION', '/RADIO', '/SHOT', '/POT', '/MARIJUANA', '/LEAF', '/HERB', '/CIGARETTE', '/KIN', '/DUE_PROCESS', '/COMBINATION', '/MAKEUP', '/KOHL', '/MINERAL', '/VOLUNTEER', '/ANNUAL', '/DESIGNER', '/SPORTSMAN', '/ADVERSARY', '/FILM_STAR', '/CHINA', '/BARRAGE', '/POND', '/RUN', '/RACEWAY', '/POVERTY_LINE', '/FAIRNESS', '/TRUTH', '/ACCURACY', '/RESOLUTION', '/COMPLIANCE', '/CONTINENT', '/AVIATOR', '/PILOT', '/WEB_PAGE', '/PAGE', '/VACATIONER', '/DESIGNATION', '/FLUID', '/BLOOD', '/SPAN', '/LENGTH', '/PUBLIC_SERVICE', '/COMMUNITY_SERVICE', '/REVELATION']\n",
            "corpus_data_entire_choi.txt\n"
          ],
          "name": "stdout"
        }
      ]
    }
  ]
}