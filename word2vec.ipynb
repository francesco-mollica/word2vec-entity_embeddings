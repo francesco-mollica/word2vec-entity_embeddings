{
  "nbformat": 4,
  "nbformat_minor": 0,
  "metadata": {
    "colab": {
      "name": "word2vec.ipynb",
      "provenance": [],
      "authorship_tag": "ABX9TyMnLiLO5FYypVikgAj58KMV",
      "include_colab_link": true
    },
    "kernelspec": {
      "name": "python3",
      "display_name": "Python 3"
    },
    "language_info": {
      "name": "python"
    }
  },
  "cells": [
    {
      "cell_type": "markdown",
      "metadata": {
        "id": "view-in-github",
        "colab_type": "text"
      },
      "source": [
        "<a href=\"https://colab.research.google.com/github/francesco-mollica/word2vec-entity_embeddings/blob/main/word2vec.ipynb\" target=\"_parent\"><img src=\"https://colab.research.google.com/assets/colab-badge.svg\" alt=\"Open In Colab\"/></a>"
      ]
    },
    {
      "cell_type": "code",
      "metadata": {
        "colab": {
          "base_uri": "https://localhost:8080/"
        },
        "id": "C33RpuHy8kpe",
        "outputId": "d9bd5789-80c3-4a9b-f3a3-f2af856639f3"
      },
      "source": [
        "from google.colab import drive\n",
        "drive.mount('/content/drive/', force_remount=True)\n",
        "root_dir = \"/content/drive/MyDrive/\"\n",
        "base_dir = root_dir + \"tesi_magistrale/datasets/corpus_data_folder/\"\n",
        "\n",
        "# CHOI_path = base_dir + \"corpus_data_CHOI.txt\"\n",
        "# FIGER_path = base_dir + \"corpus_data_FIGER.txt\"\n",
        "# ontonotes_path = base_dir + \"corpus_data_ontonotes.txt\"\n",
        "balanced_ontonotes_path = base_dir + \"corpus_data_balanced_ontonotes.txt\"\n",
        "# bbn_path = base_dir + \"corpus_data_bbn.txt\""
      ],
      "execution_count": 24,
      "outputs": [
        {
          "output_type": "stream",
          "text": [
            "Mounted at /content/drive/\n"
          ],
          "name": "stdout"
        }
      ]
    },
    {
      "cell_type": "code",
      "metadata": {
        "id": "_vuSqWcqGnQn"
      },
      "source": [
        "restrict_list_name = 'restricted_list_balanced_ontonotes.pkl'\n",
        "with open(base_dir + restrict_list_name, 'rb') as f:\n",
        "  restricted_word_set = pickle.load(f)"
      ],
      "execution_count": 40,
      "outputs": []
    },
    {
      "cell_type": "code",
      "metadata": {
        "id": "KmmKjmJ1w0v7"
      },
      "source": [
        "from gensim.models import Word2Vec"
      ],
      "execution_count": 41,
      "outputs": []
    },
    {
      "cell_type": "code",
      "metadata": {
        "id": "lDRFP4d3802p"
      },
      "source": [
        "class MySentences(object):\n",
        "    def __init__(self, filename):\n",
        "        self.filename = filename\n",
        " \n",
        "    def __iter__(self):\n",
        "            for line in open(base_dir + self.filename):\n",
        "                yield line.split()\n",
        " \n",
        " # a memory-friendly iterator"
      ],
      "execution_count": 42,
      "outputs": []
    },
    {
      "cell_type": "code",
      "metadata": {
        "id": "9NnPEU8PT574"
      },
      "source": [
        "sentences = MySentences(\"corpus_data_balanced_ontonotes.txt\")\n",
        "w2v_model = Word2Vec(iter=1, min_count=1)"
      ],
      "execution_count": 43,
      "outputs": []
    },
    {
      "cell_type": "code",
      "metadata": {
        "id": "FD2rbd_blivW",
        "colab": {
          "base_uri": "https://localhost:8080/"
        },
        "outputId": "a7f9619d-f707-4905-9ff1-af7d7b3d6f4f"
      },
      "source": [
        "w2v_model.build_vocab(sentences)\n",
        "w2v_model.train(sentences, total_examples=w2v_model.corpus_count, epochs=30, report_delay=1)"
      ],
      "execution_count": 44,
      "outputs": [
        {
          "output_type": "execute_result",
          "data": {
            "text/plain": [
              "(3375, 8850)"
            ]
          },
          "metadata": {
            "tags": []
          },
          "execution_count": 44
        }
      ]
    },
    {
      "cell_type": "code",
      "metadata": {
        "id": "y70NdkAipjIH",
        "colab": {
          "base_uri": "https://localhost:8080/"
        },
        "outputId": "c984b463-15cb-4a9c-858d-5b6ed53fa06f"
      },
      "source": [
        "# execute one time a most_similar otherwise vectors_norm in restrict_w2v should be equal to None\n",
        "w2v_model.wv.most_similar(positive=[\"/PERSON\"])"
      ],
      "execution_count": 45,
      "outputs": [
        {
          "output_type": "execute_result",
          "data": {
            "text/plain": [
              "[(',', 0.5099198222160339),\n",
              " ('/LOCATION', 0.4596233367919922),\n",
              " ('somebody', 0.4574718177318573),\n",
              " ('.', 0.4479295611381531),\n",
              " ('to', 0.44764119386672974),\n",
              " ('you', 0.44708484411239624),\n",
              " ('went', 0.43475139141082764),\n",
              " ('that', 0.4342912435531616),\n",
              " ('much', 0.42919182777404785),\n",
              " ('the', 0.4197062849998474)]"
            ]
          },
          "metadata": {
            "tags": []
          },
          "execution_count": 45
        }
      ]
    },
    {
      "cell_type": "code",
      "metadata": {
        "id": "B_l24vvBYb9l"
      },
      "source": [
        "import numpy as np\n",
        "def restrict_w2v(w2v, restricted_word_set):\n",
        "    new_vectors = []\n",
        "    new_vocab = {}\n",
        "    new_index2entity = []\n",
        "    new_vectors_norm = []\n",
        "\n",
        "    for i in range(len(w2v.wv.vocab)):\n",
        "        word = w2v.wv.index2entity[i]\n",
        "        vec = w2v.wv.vectors[i]\n",
        "        vocab = w2v.wv.vocab[word]\n",
        "        vec_norm = w2v.wv.vectors_norm[i]\n",
        "        if word in restricted_word_set:\n",
        "            vocab.index = len(new_index2entity)\n",
        "            new_index2entity.append(word)\n",
        "            new_vocab[word] = vocab\n",
        "            new_vectors.append(vec)\n",
        "            new_vectors_norm.append(vec_norm)\n",
        "\n",
        "    w2v.wv.vocab = new_vocab\n",
        "    w2v.wv.vectors = np.array(new_vectors)\n",
        "    w2v.wv.index2entity = np.array(new_index2entity)\n",
        "    w2v.wv.index2word = np.array(new_index2entity)\n",
        "    w2v.wv.vectors_norm = np.array(new_vectors_norm)"
      ],
      "execution_count": 46,
      "outputs": []
    },
    {
      "cell_type": "code",
      "metadata": {
        "id": "YoJ0mRygzC4m"
      },
      "source": [
        "restrict_w2v(w2v_model, restrict_list)"
      ],
      "execution_count": 47,
      "outputs": []
    },
    {
      "cell_type": "code",
      "metadata": {
        "id": "GNUGbvVx1nvQ",
        "outputId": "94f20c5c-6768-485a-8db5-bad383c71de9",
        "colab": {
          "base_uri": "https://localhost:8080/"
        }
      },
      "source": [
        "w2v_model.wv.most_similar(positive=[\"/LOCATION\"])"
      ],
      "execution_count": 48,
      "outputs": [
        {
          "output_type": "execute_result",
          "data": {
            "text/plain": [
              "[('/PERSON', 0.4596233069896698), ('/PERSON/TITLE', 0.3136698007583618)]"
            ]
          },
          "metadata": {
            "tags": []
          },
          "execution_count": 48
        }
      ]
    }
  ]
}