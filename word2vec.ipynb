{
  "nbformat": 4,
  "nbformat_minor": 0,
  "metadata": {
    "colab": {
      "name": "word2vec.ipynb",
      "provenance": [],
      "authorship_tag": "ABX9TyM6g0yZsGCHEEh0okGQDx0z",
      "include_colab_link": true
    },
    "kernelspec": {
      "name": "python3",
      "display_name": "Python 3"
    },
    "language_info": {
      "name": "python"
    }
  },
  "cells": [
    {
      "cell_type": "markdown",
      "metadata": {
        "id": "view-in-github",
        "colab_type": "text"
      },
      "source": [
        "<a href=\"https://colab.research.google.com/github/francesco-mollica/word2vec-entity_embeddings/blob/main/word2vec.ipynb\" target=\"_parent\"><img src=\"https://colab.research.google.com/assets/colab-badge.svg\" alt=\"Open In Colab\"/></a>"
      ]
    },
    {
      "cell_type": "code",
      "metadata": {
        "colab": {
          "base_uri": "https://localhost:8080/"
        },
        "id": "C33RpuHy8kpe",
        "outputId": "88c30ec0-a097-4b9c-f665-f96924d92cc2"
      },
      "source": [
        "from google.colab import drive\n",
        "drive.mount('/content/drive/', force_remount=True)\n",
        "root_dir = \"/content/drive/MyDrive/\"\n",
        "base_dir = root_dir + \"tesi_magistrale/datasets/corpus_data_folder/\"\n",
        "base_dir_models = root_dir + \"tesi_magistrale/datasets/models_w2v/\""
      ],
      "execution_count": 25,
      "outputs": [
        {
          "output_type": "stream",
          "text": [
            "Mounted at /content/drive/\n"
          ],
          "name": "stdout"
        }
      ]
    },
    {
      "cell_type": "code",
      "metadata": {
        "id": "lDRFP4d3802p"
      },
      "source": [
        "class MySentences(object):\n",
        "    def __init__(self, filename):\n",
        "        self.filename = filename\n",
        " \n",
        "    def __iter__(self):\n",
        "            for line in open(base_dir + self.filename):\n",
        "                yield line.split()"
      ],
      "execution_count": 26,
      "outputs": []
    },
    {
      "cell_type": "code",
      "metadata": {
        "id": "B_l24vvBYb9l"
      },
      "source": [
        "import numpy as np\n",
        "from gensim.models import Word2Vec\n",
        "def restrict_w2v(w2v,w2v_restricted,restricted_word_set):\n",
        "    new_vectors = []\n",
        "    new_vocab = {}\n",
        "    new_index2entity = []\n",
        "    new_vectors_norm = []\n",
        "\n",
        "    for i in range(len(w2v.wv.vocab)):\n",
        "        word = w2v.wv.index2entity[i]\n",
        "        vec = w2v.wv.vectors[i]\n",
        "        vocab = w2v.wv.vocab[word]\n",
        "        vec_norm = w2v.wv.vectors_norm[i]\n",
        "        if word in restricted_word_set:\n",
        "            vocab.index = len(new_index2entity)\n",
        "            new_index2entity.append(word)\n",
        "            new_vocab[word] = vocab\n",
        "            new_vectors.append(vec)\n",
        "            new_vectors_norm.append(vec_norm)\n",
        "\n",
        "    \n",
        "    w2v_restricted.wv.vocab = new_vocab\n",
        "    w2v_restricted.wv.vectors = np.array(new_vectors)\n",
        "    w2v_restricted.wv.index2entity = np.array(new_index2entity)\n",
        "    w2v_restricted.wv.index2word = np.array(new_index2entity)\n",
        "    w2v_restricted.wv.vectors_norm = np.array(new_vectors_norm)"
      ],
      "execution_count": 27,
      "outputs": []
    },
    {
      "cell_type": "code",
      "metadata": {
        "id": "_vuSqWcqGnQn"
      },
      "source": [
        "names = {1:\"balanced_ontonotes\", 2:\"ontonotes\", 3:\"bbn\", 4:\"figer\", 5:\"choi\"}"
      ],
      "execution_count": 28,
      "outputs": []
    },
    {
      "cell_type": "code",
      "metadata": {
        "id": "KmmKjmJ1w0v7",
        "outputId": "948592b2-53c0-4f7b-e65b-f1b99e42f596",
        "colab": {
          "base_uri": "https://localhost:8080/"
        }
      },
      "source": [
        "for value in names.items():\n",
        "  print(value)\n",
        "  with open(base_dir + \"restricted_list_\" + value[1] + \".pkl\", 'rb') as f:\n",
        "    restricted_word_list = pickle.load(f)\n",
        "  \n",
        "  sentences = MySentences(\"corpus_data_entire_\" + value[1] + \".txt\")\n",
        "  w2v_model = Word2Vec(iter=1, min_count=1, seed=1234)\n",
        "  w2v_model.build_vocab(sentences)\n",
        "  w2v_model.train(sentences_2, total_examples=w2v_model.corpus_count, epochs=30, report_delay=1)\n",
        "  # execute one time a most_similar otherwise vectors_norm in restrict_w2v should be equal to None\n",
        "  w2v_model.wv.most_similar(positive=restricted_word_list[0])\n",
        "  # restrict model\n",
        "  w2v_restricted = Word2Vec()\n",
        "  restrict_w2v(w2v_model,w2v_restricted, restricted_word_list)\n",
        "  # save\n",
        "  w2v_model.save(base_dir_models + \"word2vec_\" + value[1] + \".model\")\n",
        "  w2v_model.save(base_dir_models + \"word2vec_restricted\" + value[1] + \".model\")\n",
        "\n",
        "  del restricted_word_list\n",
        "  del sentences\n",
        "  del w2v_model"
      ],
      "execution_count": 31,
      "outputs": [
        {
          "output_type": "stream",
          "text": [
            "(1, 'balanced_ontonotes')\n",
            "[('come', 0.14962221682071686), ('qwe', -0.1342044621706009)]\n",
            "[('mi', 0.07162171602249146), ('ciao', -0.03786163777112961), ('come', -0.0590391680598259), ('stai', -0.07561789453029633), ('chiamo', -0.07971914112567902), ('qwe', -0.11868482828140259)]\n",
            "(2, 'ontonotes')\n",
            "[('come', 0.14962221682071686), ('qwe', -0.1342044621706009)]\n",
            "[('mi', 0.07162171602249146), ('ciao', -0.03786163777112961), ('come', -0.0590391680598259), ('stai', -0.07561789453029633), ('chiamo', -0.07971914112567902), ('qwe', -0.11868482828140259)]\n",
            "(3, 'bbn')\n",
            "[('come', 0.14962221682071686), ('qwe', -0.1342044621706009)]\n",
            "[('mi', 0.07162171602249146), ('ciao', -0.03786163777112961), ('come', -0.0590391680598259), ('stai', -0.07561789453029633), ('chiamo', -0.07971914112567902), ('qwe', -0.11868482828140259)]\n",
            "(4, 'figer')\n",
            "[('come', 0.14962221682071686), ('qwe', -0.1342044621706009)]\n",
            "[('mi', 0.07162171602249146), ('ciao', -0.03786163777112961), ('come', -0.0590391680598259), ('stai', -0.07561789453029633), ('chiamo', -0.07971914112567902), ('qwe', -0.11868482828140259)]\n",
            "(5, 'choi')\n",
            "[('come', 0.14962221682071686), ('qwe', -0.1342044621706009)]\n",
            "[('mi', 0.07162171602249146), ('ciao', -0.03786163777112961), ('come', -0.0590391680598259), ('stai', -0.07561789453029633), ('chiamo', -0.07971914112567902), ('qwe', -0.11868482828140259)]\n"
          ],
          "name": "stdout"
        },
        {
          "output_type": "stream",
          "text": [
            "/usr/local/lib/python3.7/dist-packages/ipykernel_launcher.py:22: DeprecationWarning: Call to deprecated `most_similar` (Method will be removed in 4.0.0, use self.wv.most_similar() instead).\n",
            "/usr/local/lib/python3.7/dist-packages/ipykernel_launcher.py:23: DeprecationWarning: Call to deprecated `most_similar` (Method will be removed in 4.0.0, use self.wv.most_similar() instead).\n"
          ],
          "name": "stderr"
        }
      ]
    }
  ]
}