{
  "nbformat": 4,
  "nbformat_minor": 0,
  "metadata": {
    "colab": {
      "name": "word2vec.ipynb",
      "provenance": [],
      "authorship_tag": "ABX9TyOuonzl5sqizXypLU//ibS8",
      "include_colab_link": true
    },
    "kernelspec": {
      "name": "python3",
      "display_name": "Python 3"
    },
    "language_info": {
      "name": "python"
    }
  },
  "cells": [
    {
      "cell_type": "markdown",
      "metadata": {
        "id": "view-in-github",
        "colab_type": "text"
      },
      "source": [
        "<a href=\"https://colab.research.google.com/github/francesco-mollica/word2vec-entity_embeddings/blob/main/word2vec.ipynb\" target=\"_parent\"><img src=\"https://colab.research.google.com/assets/colab-badge.svg\" alt=\"Open In Colab\"/></a>"
      ]
    },
    {
      "cell_type": "code",
      "metadata": {
        "colab": {
          "base_uri": "https://localhost:8080/"
        },
        "id": "C33RpuHy8kpe",
        "outputId": "4afcf6a1-1699-43c9-96a8-5882133a69f7"
      },
      "source": [
        "from google.colab import drive\n",
        "drive.mount('/content/drive/', force_remount=True)\n",
        "root_dir = \"/content/drive/MyDrive/\"\n",
        "base_dir = root_dir + \"tesi_magistrale/datasets/corpus_data_folder/\"\n",
        "\n",
        "# CHOI_path = base_dir + \"corpus_data_CHOI.txt\"\n",
        "# FIGER_path = base_dir + \"corpus_data_FIGER.txt\"\n",
        "# ontonotes_path = base_dir + \"corpus_data_ontonotes.txt\"\n",
        "balanced_ontonotes_path = base_dir + \"corpus_data_balanced_ontonotes.txt\"\n",
        "# bbn_path = base_dir + \"corpus_data_bbn.txt\""
      ],
      "execution_count": 67,
      "outputs": [
        {
          "output_type": "stream",
          "text": [
            "Mounted at /content/drive/\n"
          ],
          "name": "stdout"
        }
      ]
    },
    {
      "cell_type": "code",
      "metadata": {
        "id": "eOPEobv6BnG6"
      },
      "source": [
        "import pickle\n",
        "with open(balanced_ontonotes_path, \"rb\") as fp:\n",
        "  b = pickle.load(fp)"
      ],
      "execution_count": 68,
      "outputs": []
    },
    {
      "cell_type": "code",
      "metadata": {
        "id": "KmmKjmJ1w0v7"
      },
      "source": [
        "from gensim.models import Word2Vec"
      ],
      "execution_count": 69,
      "outputs": []
    },
    {
      "cell_type": "code",
      "metadata": {
        "id": "lDRFP4d3802p"
      },
      "source": [
        "class MySentences(object):\n",
        "    def __init__(self, filename):\n",
        "        self.filename = filename\n",
        " \n",
        "    def __iter__(self):\n",
        "            for line in open(base_dir + self.filename):\n",
        "                yield line.split()\n",
        " \n",
        " # a memory-friendly iterator"
      ],
      "execution_count": 87,
      "outputs": []
    },
    {
      "cell_type": "code",
      "metadata": {
        "id": "9NnPEU8PT574"
      },
      "source": [
        "sentences = MySentences(\"prova.txt\")\n",
        "w2v_model = Word2Vec(iter=1, min_count=1)"
      ],
      "execution_count": 88,
      "outputs": []
    },
    {
      "cell_type": "code",
      "metadata": {
        "id": "FD2rbd_blivW",
        "outputId": "b8e94e97-a8d1-48ef-c4d6-e1da96808264",
        "colab": {
          "base_uri": "https://localhost:8080/"
        }
      },
      "source": [
        "w2v_model.build_vocab(sentences)\n",
        "w2v_model.train(sentences, total_examples=w2v_model.corpus_count, epochs=30, report_delay=1)"
      ],
      "execution_count": 89,
      "outputs": [
        {
          "output_type": "execute_result",
          "data": {
            "text/plain": [
              "(232, 1290)"
            ]
          },
          "metadata": {
            "tags": []
          },
          "execution_count": 89
        }
      ]
    },
    {
      "cell_type": "code",
      "metadata": {
        "id": "y70NdkAipjIH",
        "outputId": "5123236b-cfc7-4aa1-ce9f-f9d08b4c787f",
        "colab": {
          "base_uri": "https://localhost:8080/"
        }
      },
      "source": [
        "w2v_model.wv.most_similar(positive=[\"/PERSON\"])"
      ],
      "execution_count": 90,
      "outputs": [
        {
          "output_type": "execute_result",
          "data": {
            "text/plain": [
              "[('.', 0.19030408561229706),\n",
              " ('only', 0.17871451377868652),\n",
              " ('way', 0.1505899429321289),\n",
              " ('could', 0.10395622998476028),\n",
              " ('them', 0.10206874459981918),\n",
              " ('was', 0.09195896983146667),\n",
              " ('/PERSON/TITLE', 0.09068597108125687),\n",
              " ('you', 0.07853254675865173),\n",
              " ('get', 0.07625815272331238),\n",
              " ('and', 0.07206336408853531)]"
            ]
          },
          "metadata": {
            "tags": []
          },
          "execution_count": 90
        }
      ]
    }
  ]
}